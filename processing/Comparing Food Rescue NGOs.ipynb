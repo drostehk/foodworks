{
 "metadata": {
  "name": "",
  "signature": "sha256:54ccb249ea9359938d66e5bb1a42b985740b29f23ff44bc6505fb19b92bbab31"
 },
 "nbformat": 3,
 "nbformat_minor": 0,
 "worksheets": [
  {
   "cells": [
    {
     "cell_type": "code",
     "collapsed": false,
     "input": [
      "%%javascript\n",
      "\n",
      "window.load_remote_theme = true\n",
      "var theme_js = \"https://drostehk.github.io/ipynb-theme/custom.js\";\n",
      "\n",
      "window.load_local_theme = function(){\n",
      "    var hostname = document.location.hostname\n",
      "    return ((hostname == \"localhost\" || hostname == '127.0.0.1') && !load_remote_theme)\n",
      "}\n",
      "\n",
      "var url = load_local_theme() ? document.location.origin + \"/files/theme/custom.js\" : theme_js\n",
      "\n",
      "$.getScript(url)"
     ],
     "language": "python",
     "metadata": {},
     "outputs": [
      {
       "javascript": [
        "\n",
        "window.load_remote_theme = true\n",
        "var theme_js = \"https://drostehk.github.io/ipynb-theme/custom.js\";\n",
        "\n",
        "window.load_local_theme = function(){\n",
        "    var hostname = document.location.hostname\n",
        "    return ((hostname == \"localhost\" || hostname == '127.0.0.1') && !load_remote_theme)\n",
        "}\n",
        "\n",
        "var url = load_local_theme() ? document.location.origin + \"/files/theme/custom.js\" : theme_js\n",
        "\n",
        "$.getScript(url)"
       ],
       "metadata": {},
       "output_type": "display_data",
       "text": [
        "<IPython.core.display.Javascript at 0x7fb0341d6650>"
       ]
      }
     ],
     "prompt_number": 1
    },
    {
     "cell_type": "heading",
     "level": 1,
     "metadata": {},
     "source": [
      "Comparing Food Rescue NGOs"
     ]
    },
    {
     "cell_type": "markdown",
     "metadata": {},
     "source": [
      "."
     ]
    },
    {
     "cell_type": "heading",
     "level": 2,
     "metadata": {},
     "source": [
      "Notes on Category Labels"
     ]
    },
    {
     "cell_type": "heading",
     "level": 3,
     "metadata": {},
     "source": [
      "Food Link"
     ]
    },
    {
     "cell_type": "heading",
     "level": 4,
     "metadata": {},
     "source": [
      "Data"
     ]
    },
    {
     "cell_type": "markdown",
     "metadata": {},
     "source": [
      "* 2011 : no categories\n",
      "* 2012 : no categories\n",
      "* 2013 : \n",
      "  - wk 01 - wk 18 : no categories\n",
      "  - wk 19 - wk 53 : Cooked food, Pastries, Vegs, Fruits \n",
      "\n",
      "* 2014 : \n",
      "  - wk 01 - wk 14 : no categories\n",
      "  - wk 15 - wk 39 : Cooked, Trimmings"
     ]
    },
    {
     "cell_type": "heading",
     "level": 4,
     "metadata": {},
     "source": [
      "Mapping"
     ]
    },
    {
     "cell_type": "markdown",
     "metadata": {},
     "source": [
      "* 2014 Cooked = 2013 Cooked food + 2013 Pastries + 2013 Fruits\n",
      "* 2014 Trimmings = 2013 Vegs. We have cut the number of categories since 2014 to reduce the paperwork of our drivers.)"
     ]
    }
   ],
   "metadata": {}
  }
 ]
}