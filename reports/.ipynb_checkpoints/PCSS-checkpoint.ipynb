{
 "cells": [
  {
   "cell_type": "code",
   "execution_count": 1,
   "metadata": {
    "collapsed": false
   },
   "outputs": [],
   "source": [
    "# -*- coding: utf-8 -*-\n",
    "from __future__ import unicode_literals, division\n",
    "\n",
    "import IPython\n",
    "import warnings\n",
    "from datetime import datetime\n",
    "import numpy as np\n",
    "import pandas as pd\n",
    "import seaborn as sns\n",
    "import matplotlib as mpl\n",
    "import matplotlib.pyplot as plt\n",
    "\n",
    "from IPython.display import HTML\n",
    "from IPython.display import display as prnt\n",
    "\n",
    "import sys\n",
    "reload(sys)\n",
    "sys.setdefaultencoding(\"utf-8\")\n",
    "\n",
    "# Notebook Options\n",
    "%matplotlib inline\n",
    "warnings.filterwarnings('ignore')\n",
    "np.set_printoptions(suppress=True)\n",
    "\n",
    "# Matplotlib Styles\n",
    "c = {\n",
    "'axes.labelsize': 17,\n",
    "'axes.titlesize': 16,\n",
    "'figure.figsize': [18, 8],\n",
    "'grid.linewidth': 1.6,\n",
    "'legend.fontsize': 17,\n",
    "'lines.linewidth': 2,\n",
    "'lines.markeredgewidth': 0.0,\n",
    "'lines.markersize': 11,\n",
    "'patch.linewidth': 0.5,\n",
    "'xtick.labelsize': 16,\n",
    "'xtick.major.pad': 20,\n",
    "'xtick.major.width': 2,\n",
    "'xtick.minor.width': 1,\n",
    "'ytick.labelsize': 16.0,\n",
    "'ytick.major.pad': 20,\n",
    "'ytick.major.width': 2,\n",
    "'ytick.minor.width': 1 }\n",
    "wide_c = dict(c, **{'figure.figsize':[20,8]})\n",
    "\n",
    "# Colors // Categorical\n",
    "cm = [\n",
    "'#9c27b0',\n",
    "'#8bc34a',\n",
    "'#ffeb3b',\n",
    "'#ffc107',\n",
    "'#e91e63',\n",
    "'#ff5722',\n",
    "'#3f51b5',\n",
    "'#607d8b',\n",
    "'#03a9f4',\n",
    "'#9e9e9e',\n",
    "]\n",
    "\n",
    "cm = ['#f44336',\n",
    "'#e91e63',\n",
    "'#9c27b0',\n",
    "'#673ab7',\n",
    "'#3f51b5',\n",
    "'#2196f3',\n",
    "'#00bcd4',\n",
    "'#009688',\n",
    "'#4caf50',\n",
    "'#ffeb3b',\n",
    "'#ffc107',\n",
    "'#ff5722']\n",
    "\n",
    "cm = ['#e53935',\n",
    "'#d81b60',\n",
    "'#3949ab',\n",
    "'#00897b',\n",
    "'#00acc1',\n",
    "'#1d486d',\n",
    "'#43a047',\n",
    "'#fdd835',\n",
    "'#ffb300',\n",
    "'#f9a78d']\n",
    "\n",
    "# cm = [\n",
    "#     '#e23e2c',\n",
    "#     '#e9e396',\n",
    "#     '#4b71a7',\n",
    "#     '#4aaa5d',\n",
    "#     '#e23e2c',\n",
    "#     '#e9e396',\n",
    "#     '#4b71a7',\n",
    "#     '#4aaa5d',\n",
    "#     '#e23e2c',\n",
    "#     '#e9e396',\n",
    "#     '#4b71a7',\n",
    "#     '#4aaa5d'\n",
    "# ]\n",
    "\n",
    "# Utility Functions\n",
    "def table(df, replace_match=\"\",replace_str=\"\", print_index=True, print_header=True):\n",
    "    return IPython.display.display(HTML(df.to_html(index=print_index, header=print_header).replace('<table border=\"1\" class=\"dataframe\">','<table class=\"table table-striped table-hover\">').replace(replace_match,replace_str)))\n",
    "\n",
    "# HTML Functions\n",
    "h1 = lambda x : prnt(HTML('''<h1 style=\"text-align:center\">'''+ x +'''</h1>'''))\n",
    "h2 = lambda x: prnt(HTML('''<h2 style=\"text-align:center\">'''+ x +'''</h2>'''))\n",
    "h2_success = lambda x: prnt(HTML('''<h2 style=\"text-align:center\" class=\"alert alert-success\">'''+ x +'''</h2>'''))\n",
    "\n",
    "h3_danger = lambda x: prnt(HTML('''<h3 style=\"text-align:center\" class=\"alert alert-danger\">'''+ x +'''</h3>'''))\n",
    "h3_info = lambda x: prnt(HTML('''<h3 style=\"text-align:center\" class=\"alert alert-info\">'''+ x +'''</h3>'''))\n",
    "h3_warning = lambda x: prnt(HTML('''<h3 style=\"text-align:center\" class=\"alert alert-warning\">'''+ x +'''</h3>'''))\n",
    "\n",
    "h3 = lambda x : prnt(HTML('''<h3 style=\"text-align:center\">'''+ x +'''</h3>'''))\n",
    "p  = lambda x : prnt(HTML('''<p class=\"text_cell_render\">'''+ x +'''</p>'''))\n",
    "\n",
    "md_wrap = lambda s, m, e: reduce(lambda x, y: x + \"\".join(y), zip(s.split(m), ['<'+e+'>','</'+e+'>'] * int(len(s)/2)), \"\")[:-3] if (m in s) else s\n",
    "md_b = lambda s : md_wrap(s,'**','b')\n",
    "md_i = lambda s :  md_wrap(s,'_','i')\n",
    "\n",
    "md = lambda s : md_i(md_b(s))\n",
    "\n",
    "def ul(lis):\n",
    "    lis = ['''<div class=\"panel panel-default\"><div class=\"panel-body\">''' + md(li) + '''</div></div>''' for li in lis]\n",
    "    prnt(HTML(\"\".join(lis)))\n",
    "    \n",
    "# Client Data\n",
    "org_name = 'People Council of Social Service'\n",
    "org_code = 'PCSS'\n",
    "org_uri = '../data/' + org_code + '/' + org_code\n",
    "org_data = org_uri + '.csv'\n",
    "org_i18n = org_uri + '.i18n.csv'\n",
    "org_map = org_uri + '.map.csv'\n",
    "org_units = org_uri + '.units.csv'\n",
    "org_lang = 'zh' # 'en' or 'zh'"
   ]
  },
  {
   "cell_type": "code",
   "execution_count": 2,
   "metadata": {
    "collapsed": false
   },
   "outputs": [
    {
     "data": {
      "text/html": [
       "<h1 style=\"text-align:center\">FOOD CONNECT | REPORT</h1>"
      ],
      "text/plain": [
       "<IPython.core.display.HTML object>"
      ]
     },
     "metadata": {},
     "output_type": "display_data"
    }
   ],
   "source": [
    "h1('FOOD CONNECT | REPORT')"
   ]
  },
  {
   "cell_type": "code",
   "execution_count": 3,
   "metadata": {
    "collapsed": false
   },
   "outputs": [
    {
     "data": {
      "text/html": [
       "<h2 style=\"text-align:center\">People Council of Social Service</h2>"
      ],
      "text/plain": [
       "<IPython.core.display.HTML object>"
      ]
     },
     "metadata": {},
     "output_type": "display_data"
    }
   ],
   "source": [
    "h2(org_name)"
   ]
  },
  {
   "cell_type": "code",
   "execution_count": 4,
   "metadata": {
    "collapsed": false
   },
   "outputs": [
    {
     "data": {
      "text/html": [
       "<script>\n",
       "\n",
       "code_show=true;\n",
       "\n",
       "function code_toggle() {\n",
       "    if (code_show){ \n",
       "        $('div.input').hide();\n",
       "        $('.output_scroll').removeClass('output_scroll');\n",
       "        $('.prompt').hide();\n",
       "    } else {\n",
       "        $('div.input').show();\n",
       "        $('.output_scroll').removeClass('output_scroll');\n",
       "        $('.prompt').show();\n",
       "    }\n",
       "    code_show = !code_show\n",
       "}\n",
       "</script>\n",
       " \n",
       "<a class='btn btn-warning btn-lg' style=\"margin:0 auto; display:block; max-width:320px\" href=\"javascript:code_toggle()\">TOGGLE CODE</a>"
      ],
      "text/plain": [
       "<IPython.core.display.HTML object>"
      ]
     },
     "execution_count": 4,
     "metadata": {},
     "output_type": "execute_result"
    }
   ],
   "source": [
    "HTML('''<script>\n",
    "\n",
    "code_show=true;\n",
    "\n",
    "function code_toggle() {\n",
    "    if (code_show){ \n",
    "        $('div.input').hide();\n",
    "        $('.output_scroll').removeClass('output_scroll');\n",
    "        $('.prompt').hide();\n",
    "    } else {\n",
    "        $('div.input').show();\n",
    "        $('.output_scroll').removeClass('output_scroll');\n",
    "        $('.prompt').show();\n",
    "    }\n",
    "    code_show = !code_show\n",
    "}\n",
    "</script>\n",
    " \n",
    "<a class='btn btn-warning btn-lg' style=\"margin:0 auto; display:block; max-width:320px\" href=\"javascript:code_toggle()\">TOGGLE CODE</a>''')"
   ]
  },
  {
   "cell_type": "code",
   "execution_count": 5,
   "metadata": {
    "collapsed": false,
    "scrolled": false
   },
   "outputs": [
    {
     "ename": "IOError",
     "evalue": "File ../data/PCSS/PCSS.csv does not exist",
     "output_type": "error",
     "traceback": [
      "\u001b[0;31m---------------------------------------------------------------------------\u001b[0m",
      "\u001b[0;31mIOError\u001b[0m                                   Traceback (most recent call last)",
      "\u001b[0;32m<ipython-input-5-f13b97d0ed83>\u001b[0m in \u001b[0;36m<module>\u001b[0;34m()\u001b[0m\n\u001b[1;32m      1\u001b[0m \u001b[0;31m# Data Processing\u001b[0m\u001b[0;34m\u001b[0m\u001b[0;34m\u001b[0m\u001b[0m\n\u001b[0;32m----> 2\u001b[0;31m \u001b[0mdf\u001b[0m \u001b[0;34m=\u001b[0m \u001b[0mpd\u001b[0m\u001b[0;34m.\u001b[0m\u001b[0mread_csv\u001b[0m\u001b[0;34m(\u001b[0m\u001b[0morg_data\u001b[0m\u001b[0;34m,\u001b[0m \u001b[0mencoding\u001b[0m\u001b[0;34m=\u001b[0m\u001b[0;34m'utf-8'\u001b[0m\u001b[0;34m,\u001b[0m \u001b[0mparse_dates\u001b[0m\u001b[0;34m=\u001b[0m\u001b[0;34m[\u001b[0m\u001b[0;36m3\u001b[0m\u001b[0;34m]\u001b[0m\u001b[0;34m)\u001b[0m          \u001b[0;34m.\u001b[0m\u001b[0mfillna\u001b[0m\u001b[0;34m(\u001b[0m\u001b[0;36m0\u001b[0m\u001b[0;34m)\u001b[0m         \u001b[0;34m.\u001b[0m\u001b[0mset_index\u001b[0m\u001b[0;34m(\u001b[0m\u001b[0;34m[\u001b[0m\u001b[0;34m'NGO'\u001b[0m\u001b[0;34m,\u001b[0m\u001b[0;34m'Programme'\u001b[0m\u001b[0;34m,\u001b[0m\u001b[0;34m'Donor'\u001b[0m\u001b[0;34m,\u001b[0m\u001b[0;34m'Datetime'\u001b[0m\u001b[0;34m]\u001b[0m\u001b[0;34m)\u001b[0m\u001b[0;34m\u001b[0m\u001b[0m\n\u001b[0m\u001b[1;32m      3\u001b[0m \u001b[0;34m\u001b[0m\u001b[0m\n\u001b[1;32m      4\u001b[0m \u001b[0;31m# Internationalisation\u001b[0m\u001b[0;34m\u001b[0m\u001b[0;34m\u001b[0m\u001b[0m\n\u001b[1;32m      5\u001b[0m \u001b[0mi18n\u001b[0m \u001b[0;34m=\u001b[0m \u001b[0mpd\u001b[0m\u001b[0;34m.\u001b[0m\u001b[0mread_csv\u001b[0m\u001b[0;34m(\u001b[0m\u001b[0morg_i18n\u001b[0m\u001b[0;34m,\u001b[0m \u001b[0mencoding\u001b[0m\u001b[0;34m=\u001b[0m\u001b[0;34m'utf-8'\u001b[0m\u001b[0;34m)\u001b[0m\u001b[0;34m\u001b[0m\u001b[0m\n",
      "\u001b[0;32m/Users/DicksonK/anaconda/lib/python2.7/site-packages/pandas/io/parsers.pyc\u001b[0m in \u001b[0;36mparser_f\u001b[0;34m(filepath_or_buffer, sep, dialect, compression, doublequote, escapechar, quotechar, quoting, skipinitialspace, lineterminator, header, index_col, names, prefix, skiprows, skipfooter, skip_footer, na_values, true_values, false_values, delimiter, converters, dtype, usecols, engine, delim_whitespace, as_recarray, na_filter, compact_ints, use_unsigned, low_memory, buffer_lines, warn_bad_lines, error_bad_lines, keep_default_na, thousands, comment, decimal, parse_dates, keep_date_col, dayfirst, date_parser, memory_map, float_precision, nrows, iterator, chunksize, verbose, encoding, squeeze, mangle_dupe_cols, tupleize_cols, infer_datetime_format, skip_blank_lines)\u001b[0m\n\u001b[1;32m    489\u001b[0m                     skip_blank_lines=skip_blank_lines)\n\u001b[1;32m    490\u001b[0m \u001b[0;34m\u001b[0m\u001b[0m\n\u001b[0;32m--> 491\u001b[0;31m         \u001b[0;32mreturn\u001b[0m \u001b[0m_read\u001b[0m\u001b[0;34m(\u001b[0m\u001b[0mfilepath_or_buffer\u001b[0m\u001b[0;34m,\u001b[0m \u001b[0mkwds\u001b[0m\u001b[0;34m)\u001b[0m\u001b[0;34m\u001b[0m\u001b[0m\n\u001b[0m\u001b[1;32m    492\u001b[0m \u001b[0;34m\u001b[0m\u001b[0m\n\u001b[1;32m    493\u001b[0m     \u001b[0mparser_f\u001b[0m\u001b[0;34m.\u001b[0m\u001b[0m__name__\u001b[0m \u001b[0;34m=\u001b[0m \u001b[0mname\u001b[0m\u001b[0;34m\u001b[0m\u001b[0m\n",
      "\u001b[0;32m/Users/DicksonK/anaconda/lib/python2.7/site-packages/pandas/io/parsers.pyc\u001b[0m in \u001b[0;36m_read\u001b[0;34m(filepath_or_buffer, kwds)\u001b[0m\n\u001b[1;32m    266\u001b[0m \u001b[0;34m\u001b[0m\u001b[0m\n\u001b[1;32m    267\u001b[0m     \u001b[0;31m# Create the parser.\u001b[0m\u001b[0;34m\u001b[0m\u001b[0;34m\u001b[0m\u001b[0m\n\u001b[0;32m--> 268\u001b[0;31m     \u001b[0mparser\u001b[0m \u001b[0;34m=\u001b[0m \u001b[0mTextFileReader\u001b[0m\u001b[0;34m(\u001b[0m\u001b[0mfilepath_or_buffer\u001b[0m\u001b[0;34m,\u001b[0m \u001b[0;34m**\u001b[0m\u001b[0mkwds\u001b[0m\u001b[0;34m)\u001b[0m\u001b[0;34m\u001b[0m\u001b[0m\n\u001b[0m\u001b[1;32m    269\u001b[0m \u001b[0;34m\u001b[0m\u001b[0m\n\u001b[1;32m    270\u001b[0m     \u001b[0;32mif\u001b[0m \u001b[0;34m(\u001b[0m\u001b[0mnrows\u001b[0m \u001b[0;32mis\u001b[0m \u001b[0;32mnot\u001b[0m \u001b[0mNone\u001b[0m\u001b[0;34m)\u001b[0m \u001b[0;32mand\u001b[0m \u001b[0;34m(\u001b[0m\u001b[0mchunksize\u001b[0m \u001b[0;32mis\u001b[0m \u001b[0;32mnot\u001b[0m \u001b[0mNone\u001b[0m\u001b[0;34m)\u001b[0m\u001b[0;34m:\u001b[0m\u001b[0;34m\u001b[0m\u001b[0m\n",
      "\u001b[0;32m/Users/DicksonK/anaconda/lib/python2.7/site-packages/pandas/io/parsers.pyc\u001b[0m in \u001b[0;36m__init__\u001b[0;34m(self, f, engine, **kwds)\u001b[0m\n\u001b[1;32m    581\u001b[0m             \u001b[0mself\u001b[0m\u001b[0;34m.\u001b[0m\u001b[0moptions\u001b[0m\u001b[0;34m[\u001b[0m\u001b[0;34m'has_index_names'\u001b[0m\u001b[0;34m]\u001b[0m \u001b[0;34m=\u001b[0m \u001b[0mkwds\u001b[0m\u001b[0;34m[\u001b[0m\u001b[0;34m'has_index_names'\u001b[0m\u001b[0;34m]\u001b[0m\u001b[0;34m\u001b[0m\u001b[0m\n\u001b[1;32m    582\u001b[0m \u001b[0;34m\u001b[0m\u001b[0m\n\u001b[0;32m--> 583\u001b[0;31m         \u001b[0mself\u001b[0m\u001b[0;34m.\u001b[0m\u001b[0m_make_engine\u001b[0m\u001b[0;34m(\u001b[0m\u001b[0mself\u001b[0m\u001b[0;34m.\u001b[0m\u001b[0mengine\u001b[0m\u001b[0;34m)\u001b[0m\u001b[0;34m\u001b[0m\u001b[0m\n\u001b[0m\u001b[1;32m    584\u001b[0m \u001b[0;34m\u001b[0m\u001b[0m\n\u001b[1;32m    585\u001b[0m     \u001b[0;32mdef\u001b[0m \u001b[0m_get_options_with_defaults\u001b[0m\u001b[0;34m(\u001b[0m\u001b[0mself\u001b[0m\u001b[0;34m,\u001b[0m \u001b[0mengine\u001b[0m\u001b[0;34m)\u001b[0m\u001b[0;34m:\u001b[0m\u001b[0;34m\u001b[0m\u001b[0m\n",
      "\u001b[0;32m/Users/DicksonK/anaconda/lib/python2.7/site-packages/pandas/io/parsers.pyc\u001b[0m in \u001b[0;36m_make_engine\u001b[0;34m(self, engine)\u001b[0m\n\u001b[1;32m    722\u001b[0m     \u001b[0;32mdef\u001b[0m \u001b[0m_make_engine\u001b[0m\u001b[0;34m(\u001b[0m\u001b[0mself\u001b[0m\u001b[0;34m,\u001b[0m \u001b[0mengine\u001b[0m\u001b[0;34m=\u001b[0m\u001b[0;34m'c'\u001b[0m\u001b[0;34m)\u001b[0m\u001b[0;34m:\u001b[0m\u001b[0;34m\u001b[0m\u001b[0m\n\u001b[1;32m    723\u001b[0m         \u001b[0;32mif\u001b[0m \u001b[0mengine\u001b[0m \u001b[0;34m==\u001b[0m \u001b[0;34m'c'\u001b[0m\u001b[0;34m:\u001b[0m\u001b[0;34m\u001b[0m\u001b[0m\n\u001b[0;32m--> 724\u001b[0;31m             \u001b[0mself\u001b[0m\u001b[0;34m.\u001b[0m\u001b[0m_engine\u001b[0m \u001b[0;34m=\u001b[0m \u001b[0mCParserWrapper\u001b[0m\u001b[0;34m(\u001b[0m\u001b[0mself\u001b[0m\u001b[0;34m.\u001b[0m\u001b[0mf\u001b[0m\u001b[0;34m,\u001b[0m \u001b[0;34m**\u001b[0m\u001b[0mself\u001b[0m\u001b[0;34m.\u001b[0m\u001b[0moptions\u001b[0m\u001b[0;34m)\u001b[0m\u001b[0;34m\u001b[0m\u001b[0m\n\u001b[0m\u001b[1;32m    725\u001b[0m         \u001b[0;32melse\u001b[0m\u001b[0;34m:\u001b[0m\u001b[0;34m\u001b[0m\u001b[0m\n\u001b[1;32m    726\u001b[0m             \u001b[0;32mif\u001b[0m \u001b[0mengine\u001b[0m \u001b[0;34m==\u001b[0m \u001b[0;34m'python'\u001b[0m\u001b[0;34m:\u001b[0m\u001b[0;34m\u001b[0m\u001b[0m\n",
      "\u001b[0;32m/Users/DicksonK/anaconda/lib/python2.7/site-packages/pandas/io/parsers.pyc\u001b[0m in \u001b[0;36m__init__\u001b[0;34m(self, src, **kwds)\u001b[0m\n\u001b[1;32m   1091\u001b[0m         \u001b[0mkwds\u001b[0m\u001b[0;34m[\u001b[0m\u001b[0;34m'allow_leading_cols'\u001b[0m\u001b[0;34m]\u001b[0m \u001b[0;34m=\u001b[0m \u001b[0mself\u001b[0m\u001b[0;34m.\u001b[0m\u001b[0mindex_col\u001b[0m \u001b[0;32mis\u001b[0m \u001b[0;32mnot\u001b[0m \u001b[0mFalse\u001b[0m\u001b[0;34m\u001b[0m\u001b[0m\n\u001b[1;32m   1092\u001b[0m \u001b[0;34m\u001b[0m\u001b[0m\n\u001b[0;32m-> 1093\u001b[0;31m         \u001b[0mself\u001b[0m\u001b[0;34m.\u001b[0m\u001b[0m_reader\u001b[0m \u001b[0;34m=\u001b[0m \u001b[0m_parser\u001b[0m\u001b[0;34m.\u001b[0m\u001b[0mTextReader\u001b[0m\u001b[0;34m(\u001b[0m\u001b[0msrc\u001b[0m\u001b[0;34m,\u001b[0m \u001b[0;34m**\u001b[0m\u001b[0mkwds\u001b[0m\u001b[0;34m)\u001b[0m\u001b[0;34m\u001b[0m\u001b[0m\n\u001b[0m\u001b[1;32m   1094\u001b[0m \u001b[0;34m\u001b[0m\u001b[0m\n\u001b[1;32m   1095\u001b[0m         \u001b[0;31m# XXX\u001b[0m\u001b[0;34m\u001b[0m\u001b[0;34m\u001b[0m\u001b[0m\n",
      "\u001b[0;32mpandas/parser.pyx\u001b[0m in \u001b[0;36mpandas.parser.TextReader.__cinit__ (pandas/parser.c:3229)\u001b[0;34m()\u001b[0m\n",
      "\u001b[0;32mpandas/parser.pyx\u001b[0m in \u001b[0;36mpandas.parser.TextReader._setup_parser_source (pandas/parser.c:6042)\u001b[0;34m()\u001b[0m\n",
      "\u001b[0;31mIOError\u001b[0m: File ../data/PCSS/PCSS.csv does not exist"
     ]
    }
   ],
   "source": [
    "# Data Processing\n",
    "df = pd.read_csv(org_data, encoding='utf-8', parse_dates=[3])  \\\n",
    "        .fillna(0) \\\n",
    "        .set_index(['NGO','Programme','Donor','Datetime'])\n",
    "\n",
    "# Internationalisation\n",
    "i18n = pd.read_csv(org_i18n, encoding='utf-8')\n",
    "\n",
    "def is_data_in_lang(df, lang='zh'):\n",
    "    if df.columns[0] in i18n[lang.upper()].values:\n",
    "        return True\n",
    "    else:\n",
    "        return False\n",
    "\n",
    "# if org_lang == 'en' and is_data_in_lang(df, 'zh'):\n",
    "#     df.columns = [i18n.loc[i18n['ZH'] == feat]['EN'].values[0] for feat in df.columns]\n",
    "# elif org_lang == 'zh' and is_data_in_lang(df, 'en'):\n",
    "#     df.columns = [i18n.loc[i18n['EN'] == feat]['ZH'].values[0] for feat in df.columns]\n",
    "\n",
    "# Units\n",
    "df_units = pd.read_csv(org_units, encoding='utf-8')\n",
    "\n",
    "# Category Mapping\n",
    "\n",
    "# # TODO : COLOUR CODE CATEGORIES - FRESH vs PACKAGES\n",
    "\n",
    "# #      : Categorial legend\n",
    "\n",
    "# #      : Float 'Other' Category to the righr.\n",
    "\n",
    "df_map = pd.read_csv(org_map, encoding='utf-8')\n",
    "\n",
    "dfg = pd.DataFrame()\n",
    "for category in df_map.Canonical.unique():\n",
    "    dfg[category] = df[df_map[df_map.Canonical == category].Category.values].sum(axis=1)\n",
    "    \n",
    "# Timeseries \n",
    "ts = df.index.get_level_values('Datetime')\n",
    "\n",
    "# Yearly Data\n",
    "df_ts_y = dfg.reset_index().groupby(pd.Grouper(freq='1A',key='Datetime')).sum()\n",
    "\n",
    "# Monthly Data\n",
    "df_ts_m = dfg.reset_index().groupby(pd.Grouper(freq='1M',key='Datetime')).sum()"
   ]
  },
  {
   "cell_type": "code",
   "execution_count": null,
   "metadata": {
    "collapsed": false,
    "scrolled": true
   },
   "outputs": [],
   "source": [
    "month_offset = int(-ts.max().is_month_end)\n",
    "\n",
    "# Override Month \n",
    "# month_offset = 8\n",
    "\n",
    "month_max = df_ts_m.ix[-(1 + month_offset),:].name.strftime(\"%B\")\n",
    "\n",
    "h2_success('Latest Results : %s' % month_max)\n",
    "h3_info('Collected Food by Grouping')\n",
    "\n",
    "latest_month = df_ts_m.ix[-(1 + month_offset),:]\n",
    "prev_month = df_ts_m.ix[-(2 + month_offset),:]\n",
    "\n",
    "x = pd.Index([x.replace(' (kg)','') for x in latest_month.index.values])\n",
    "y = latest_month.values\n",
    "\n",
    "with sns.plotting_context(\"poster\", font_scale=1, rc=c):\n",
    "    # sns.heatmap(flights, annot=True, fmt=\"d\")\n",
    "    plt.xlabel = 'xlabel'\n",
    "    f, (ax) = plt.subplots()\n",
    "    sns.barplot(x, y, palette=cm, x_order=x, ax=ax);\n",
    "    ax.set_xlabel('FOOD CATEGORIES', labelpad=20)\n",
    "    ax.set_ylabel('Collected (KG)', labelpad=20)"
   ]
  },
  {
   "cell_type": "code",
   "execution_count": null,
   "metadata": {
    "collapsed": false
   },
   "outputs": [],
   "source": [
    "h3_info('Month on Month Performance (Absolute)')\n",
    "\n",
    "diff_month = latest_month - prev_month\n",
    "delta_month = pd.concat([latest_month, prev_month, diff_month], axis=1).astype('int')\n",
    "\n",
    "l = ts.max().strftime('%b')\n",
    "p = (ts.max() - pd.DateOffset(months=1)).strftime('%b')\n",
    "d = 'Δ'\n",
    "\n",
    "delta_month.columns = [l,p,d]\n",
    "    \n",
    "with sns.plotting_context(\"poster\", font_scale=1, rc=c):\n",
    "    sns.heatmap(delta_month.T, annot=True, fmt=\"d\", cmap='RdBu', cbar=False);\n",
    "#     plt.xlabel = 'xlabel'\n",
    "#     f, (ax) = plt.subplots()\n",
    "#     sns.barplot(x, y, palette='PuBu', x_order=x, ax=ax);\n",
    "#     ax.set_xlabel('FOOD CATEGORIES', labelpad=20)\n",
    "#     ax.set_ylabel('Collected (KG)', labelpad=20)"
   ]
  },
  {
   "cell_type": "code",
   "execution_count": null,
   "metadata": {
    "collapsed": false,
    "scrolled": true
   },
   "outputs": [],
   "source": [
    "h3_info('Month on Month Performance (Relative)')\n",
    "\n",
    "n1 = (latest_month / prev_month * 100).fillna(0).astype('int')\n",
    "n2 = (prev_month/prev_month * 100).fillna(0).astype('int')\n",
    "n3 = n1 - n2\n",
    "idx_month = pd.concat([n1,n2,n3],axis=1)\n",
    "idx_month.columns = [l,p,d]\n",
    "\n",
    "with sns.plotting_context(\"poster\", font_scale=1, rc=c):\n",
    "    sns.heatmap(idx_month.T, annot=True, fmt=\"d\", cmap='RdBu', cbar=False);\n",
    "#     plt.xlabel = 'xlabel'\n",
    "#     f, (ax) = plt.subplots()\n",
    "#     sns.barplot(x, y, palette='PuBu', x_order=x, ax=ax);\n",
    "#     ax.set_xlabel('FOOD CATEGORIES', labelpad=20)\n",
    "#     ax.set_ylabel('Collected (KG)', labelpad=20)"
   ]
  },
  {
   "cell_type": "code",
   "execution_count": null,
   "metadata": {
    "collapsed": false,
    "scrolled": true
   },
   "outputs": [],
   "source": [
    "year_max = ts.max().strftime(\"%Y\")\n",
    "\n",
    "# Override Year \n",
    "# year_max = 2014\n",
    "\n",
    "h2_success(\"Current Year : %s\" % year_max)"
   ]
  },
  {
   "cell_type": "code",
   "execution_count": null,
   "metadata": {
    "collapsed": false
   },
   "outputs": [],
   "source": [
    "h3_info('Monthly Breakdown')\n",
    "\n",
    "cy = str(int(datetime.now().strftime('%Y')))\n",
    "# Override Year\n",
    "# cy =' 2014'\n",
    "current_year = dfg.reset_index().ix[:,3:].set_index('Datetime').ix[cy,:]\n",
    "\n",
    "cy_gby_m = df_ts_m.ix[cy]\n",
    "month_names = [x.strftime('%b') for x in pd.to_datetime(cy_gby_m.index)]\n",
    "months_index = pd.Index([int(x.strftime('%m')) for x in pd.to_datetime(cy_gby_m.index)])\n",
    "\n",
    "handles = []\n",
    "stacked_bar_data = cy_gby_m.cumsum(axis=1)\n",
    "with sns.plotting_context(\"poster\", font_scale=1, rc=c):\n",
    "    f, (ax) = plt.subplots()\n",
    "    for idx, category in enumerate(stacked_bar_data.columns.values[::-1]):\n",
    "        print category\n",
    "        sns.barplot(x = months_index, y = stacked_bar_data[category], color = cm[idx]).set_ylabel('')\n",
    "        handles.append(plt.Rectangle((0,0),1,1,fc=cm[idx], edgecolor = 'none'))\n",
    "        ax.set_xlabel('MONTHS', labelpad=20)\n",
    "        ax.set_ylabel('Collected (KG)', labelpad=20)\n",
    "        ax.set_xticklabels(month_names)\n",
    "        \n",
    "l = plt.legend(handles, list(stacked_bar_data.columns.values[::-1]), loc=1, ncol = 2, prop={'size':16})"
   ]
  },
  {
   "cell_type": "code",
   "execution_count": null,
   "metadata": {
    "collapsed": false
   },
   "outputs": [],
   "source": [
    "h3_info('Weekly Pattern (Average)')\n",
    "\n",
    "current_year['wkday'] = current_year.reset_index().Datetime.dt.weekday.values\n",
    "wkday_grouped = current_year.groupby('wkday')\n",
    "weekly_mean = wkday_grouped.mean()\n",
    "weekly_median = wkday_grouped.median()\n",
    "weekdays = ['Mon','Tue','Wed','Thu','Fri','Sat','Sun']\n",
    "\n",
    "handles = []\n",
    "stacked_bar_data = weekly_mean.cumsum(axis=1)\n",
    "with sns.plotting_context(\"poster\", font_scale=1, rc=c):\n",
    "    f, (ax) = plt.subplots()\n",
    "    for idx, category in enumerate(stacked_bar_data.columns.values[::-1]):\n",
    "        sns.barplot(x = weekly_mean.index, y = stacked_bar_data[category], color = cm[idx]).set_ylabel('')\n",
    "        handles.append(plt.Rectangle((0,0),1,1,fc=cm[idx], edgecolor = 'none'))\n",
    "        ax.set_xlabel('WEEKDAYS', labelpad=20)\n",
    "        ax.set_ylabel('Collected (KG)', labelpad=20)\n",
    "        ax.set_xticklabels(weekdays)\n",
    "        \n",
    "l = plt.legend(handles, list(stacked_bar_data.columns.values[::-1]), loc=1, ncol = 2, prop={'size':16})"
   ]
  },
  {
   "cell_type": "code",
   "execution_count": null,
   "metadata": {
    "collapsed": false
   },
   "outputs": [],
   "source": [
    "h3_info('Weekly Pattern (Expected)')\n",
    "\n",
    "handles = []\n",
    "stacked_bar_data = weekly_median.cumsum(axis=1)\n",
    "with sns.plotting_context(\"poster\", font_scale=1, rc=c):\n",
    "    f, (ax) = plt.subplots()\n",
    "    for idx, category in enumerate(stacked_bar_data.columns.values[::-1]):\n",
    "        sns.barplot(x = weekly_median.index, y = stacked_bar_data[category], color = cm[idx]).set_ylabel('')\n",
    "        handles.append(plt.Rectangle((0,0),1,1,fc=cm[idx], edgecolor = 'none'))\n",
    "        ax.set_xlabel('WEEKDAYS', labelpad=20)\n",
    "        ax.set_ylabel('Collected (KG)', labelpad=20)\n",
    "        ax.set_xticklabels(weekdays)\n",
    "        \n",
    "l = plt.legend(handles, list(stacked_bar_data.columns.values[::-1]), loc=1, ncol = 2, prop={'size':16})"
   ]
  },
  {
   "cell_type": "code",
   "execution_count": null,
   "metadata": {
    "collapsed": false
   },
   "outputs": [],
   "source": [
    "year_min = ts.min().strftime(\"%Y\")\n",
    "h2_success(\"Historic : %s - %s\" % (year_min, year_max))"
   ]
  },
  {
   "cell_type": "code",
   "execution_count": null,
   "metadata": {
    "collapsed": false
   },
   "outputs": [],
   "source": [
    "h3_info('Top 5 Stories')\n",
    "df_unstack = df.T.unstack()\n",
    "df_unstack.sort(ascending=False)\n",
    "vimx = pd.DataFrame(df_unstack[:5]).reset_index().ix[:,3:]\n",
    "vimx.columns = ['When','What','How Much']\n",
    "table(vimx, print_header=True, print_index=False)"
   ]
  },
  {
   "cell_type": "code",
   "execution_count": null,
   "metadata": {
    "collapsed": false
   },
   "outputs": [],
   "source": [
    "h3_info('Monthly Food Recovery')\n",
    "\n",
    "xticks = tuple([dt.strftime('%b `%y') for idx, dt in enumerate(df_ts_m.index) if not idx % 2])\n",
    "\n",
    "with sns.plotting_context(\"poster\", font_scale=1, rc=c):\n",
    "    f, (ax) = plt.subplots()\n",
    "    plt.plot(df_ts_m.sum(axis=1))\n",
    "    ax.set_xticklabels(xticks)\n",
    "    ax.set_xlabel('MONTHS', labelpad=20)\n",
    "    ax.set_ylabel('Collected (KG)', labelpad=20)\n"
   ]
  },
  {
   "cell_type": "code",
   "execution_count": null,
   "metadata": {
    "collapsed": false
   },
   "outputs": [],
   "source": [
    "h3_info('Yearly Performance (Current)')\n",
    "\n",
    "handles = []\n",
    "stacked_bar_data = df_ts_y.cumsum(axis=1)\n",
    "with sns.plotting_context(\"poster\", font_scale=1, rc=c):\n",
    "    f, (ax) = plt.subplots()\n",
    "    for idx, category in enumerate(stacked_bar_data.columns.values[::-1]):\n",
    "        sns.barplot(x = pd.Index([2014,2015]), y = stacked_bar_data[category], color = cm[idx]).set_ylabel('')\n",
    "        handles.append(plt.Rectangle((0,0),1,1,fc=cm[idx], edgecolor = 'none'))\n",
    "        ax.set_xlabel('YEARS', labelpad=20)\n",
    "        ax.set_ylabel('Collected (KG)', labelpad=20)\n",
    "\n",
    "        \n",
    "l = plt.legend(handles, list(stacked_bar_data.columns.values[::-1]), loc=1, ncol = 2, prop={'size':16})"
   ]
  },
  {
   "cell_type": "code",
   "execution_count": null,
   "metadata": {
    "collapsed": false
   },
   "outputs": [],
   "source": [
    "# h3_info('Yearly Performance (Predicted)')\n",
    "\n",
    "# NOT YET AVAILABLE SINCE YEARLY CYCLE HAS NOT BEEN COMPLETE\n",
    "\n",
    "# handles = []\n",
    "# stacked_bar_data = df_ts_y.cumsum(axis=1)\n",
    "# with sns.plotting_context(\"poster\", font_scale=1, rc=c):\n",
    "#     for idx, category in enumerate(stacked_bar_data.columns.values[::-1]):\n",
    "#         sns.barplot(x = pd.Index([2014,2015]), y = stacked_bar_data[category], color = cm[idx]).set_ylabel('')\n",
    "#         handles.append(plt.Rectangle((0,0),1,1,fc=cm[idx], edgecolor = 'none'))\n",
    "        \n",
    "# l = plt.legend(handles, list(stacked_bar_data.columns.values[::-1]), loc=1, ncol = 2, prop={'size':16})"
   ]
  },
  {
   "cell_type": "code",
   "execution_count": null,
   "metadata": {
    "collapsed": false
   },
   "outputs": [],
   "source": [
    "HTML('''<a class='btn btn-warning btn-lg' style=\"margin:0 auto; display:block; max-width:320px\" href=\"javascript:code_toggle()\">TOGGLE CODE</a>''')"
   ]
  },
  {
   "cell_type": "code",
   "execution_count": null,
   "metadata": {
    "collapsed": false
   },
   "outputs": [],
   "source": [
    "HTML('''<link href='http://fonts.googleapis.com/css?family=Roboto|Open+Sans' rel='stylesheet' type='text/css'>\n",
    "<style>\n",
    "body #notebook {\n",
    "    font-family : 'Open Sans','Source Sans Pro','Proxima Nova', sans-serif;\n",
    "    line-height: 1.4em;\n",
    "    font-size: 1.2em;\n",
    "    padding: 0 32px;\n",
    "    line-height: 1.8em;\n",
    "}\n",
    "\n",
    "#notebook h1,\n",
    "#notebook h2,\n",
    "#notebook h3,\n",
    "#notebook h4,\n",
    "#notebook h5 {\n",
    "    font-family : 'Roboto','Source Sans Pro','Proxima Nova', sans-serif;\n",
    "}\n",
    "\n",
    "\n",
    "#notebook .panel-body {\n",
    "  font-size: 1.1em;\n",
    "  line-height: 1.6em;\n",
    "}\n",
    "\n",
    "#notebook .table,\n",
    "#notebook .table th,\n",
    "#notebook .table td,\n",
    "#notebook .table tr {\n",
    "    text-align : center;\n",
    "    border: 0;\n",
    "    font-size: 1.5rem;\n",
    "    line-height: 2.2rem\n",
    "}\n",
    "</style>\n",
    "\n",
    "<script>\n",
    "$(function(){\n",
    "    code_toggle()\n",
    "})\n",
    "</script>\n",
    "\n",
    "''')"
   ]
  }
 ],
 "metadata": {
  "kernelspec": {
   "display_name": "Python 2",
   "language": "python",
   "name": "python2"
  },
  "language_info": {
   "codemirror_mode": {
    "name": "ipython",
    "version": 2
   },
   "file_extension": ".py",
   "mimetype": "text/x-python",
   "name": "python",
   "nbconvert_exporter": "python",
   "pygments_lexer": "ipython2",
   "version": "2.7.10"
  }
 },
 "nbformat": 4,
 "nbformat_minor": 0
}
