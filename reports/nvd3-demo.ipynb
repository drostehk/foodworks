{
 "cells": [
  {
   "cell_type": "code",
   "execution_count": 6,
   "metadata": {
    "collapsed": false
   },
   "outputs": [
    {
     "data": {
      "text/html": [
       "<link media=\"all\" href=\"https://cdnjs.cloudflare.com/ajax/libs/nvd3/1.7.0/nv.d3.min.css\" type=\"text/css\"\n",
       "                        rel=\"stylesheet\"/>"
      ],
      "text/plain": [
       "<IPython.core.display.HTML object>"
      ]
     },
     "metadata": {},
     "output_type": "display_data"
    },
    {
     "data": {
      "application/javascript": [
       "$.getScript(\"https://cdnjs.cloudflare.com/ajax/libs/nvd3/1.7.0/nv.d3.min.js\")"
      ],
      "text/plain": [
       "<IPython.core.display.Javascript object>"
      ]
     },
     "metadata": {},
     "output_type": "display_data"
    },
    {
     "data": {
      "application/javascript": [
       "$.getScript(\"https://cdnjs.cloudflare.com/ajax/libs/d3/3.5.5/d3.min.js\", function() {\n",
       "                              $.getScript(\"https://cdnjs.cloudflare.com/ajax/libs/nvd3/1.7.0/nv.d3.min.js\", function() {})});"
      ],
      "text/plain": [
       "<IPython.core.display.Javascript object>"
      ]
     },
     "metadata": {},
     "output_type": "display_data"
    },
    {
     "data": {
      "text/html": [
       "<script src=\"https://cdnjs.cloudflare.com/ajax/libs/d3/3.5.5/d3.min.js\"></script>"
      ],
      "text/plain": [
       "<IPython.core.display.HTML object>"
      ]
     },
     "metadata": {},
     "output_type": "display_data"
    },
    {
     "data": {
      "text/html": [
       "<script src=\"https://cdnjs.cloudflare.com/ajax/libs/nvd3/1.7.0/nv.d3.min.js\"></script>"
      ],
      "text/plain": [
       "<IPython.core.display.HTML object>"
      ]
     },
     "metadata": {},
     "output_type": "display_data"
    }
   ],
   "source": [
    "import random\n",
    "from IPython import display as d\n",
    "import nvd3\n",
    "nvd3.ipynb.initialize_javascript(use_remote=True)"
   ]
  },
  {
   "cell_type": "code",
   "execution_count": 7,
   "metadata": {
    "collapsed": false
   },
   "outputs": [
    {
     "name": "stdout",
     "output_type": "stream",
     "text": [
      "Help on function initialize_javascript in module nvd3.ipynb:\n",
      "\n",
      "initialize_javascript(d3_js_url='https://cdnjs.cloudflare.com/ajax/libs/d3/3.5.5/d3.min.js', nvd3_js_url='https://cdnjs.cloudflare.com/ajax/libs/nvd3/1.7.0/nv.d3.min.js', nvd3_css_url='https://cdnjs.cloudflare.com/ajax/libs/nvd3/1.7.0/nv.d3.min.css', use_remote=False)\n",
      "    Initialize the ipython notebook to be able to display nvd3 results.\n",
      "    by instructing IPython to load the nvd3 JS and css files, and the d3 JS file.\n",
      "    \n",
      "    by default, it looks for the files in your IPython Notebook working directory.\n",
      "    \n",
      "    Takes the following options:\n",
      "    \n",
      "    use_remote: use remote hosts for d3.js, nvd3.js, and nv.d3.css (default False)\n",
      "    * Note:  the following options are ignored if use_remote is False:\n",
      "    nvd3_css_url: location of nvd3 css file (default https://cdnjs.cloudflare.com/ajax/libs/nvd3/1.7.0/nv.d3.min.css)\n",
      "    nvd3_js_url: location of nvd3 javascript file (default  https://cdnjs.cloudflare.com/ajax/libs/nvd3/1.7.0/nv.d3.min.css)\n",
      "    d3_js_url: location of d3 javascript file (default https://cdnjs.cloudflare.com/ajax/libs/d3/3.5.5/d3.min.js)\n",
      "\n"
     ]
    }
   ],
   "source": [
    "help(nvd3.ipynb.initialize_javascript)\n"
   ]
  },
  {
   "cell_type": "code",
   "execution_count": 8,
   "metadata": {
    "collapsed": false
   },
   "outputs": [
    {
     "data": {
      "text/html": [
       "<!DOCTYPE html>\n",
       "<html lang=\"en\">\n",
       "    <head>\n",
       "        <meta charset=\"utf-8\" />\n",
       "        <link href=\"https://cdnjs.cloudflare.com/ajax/libs/nvd3/1.7.0/nv.d3.min.css\" rel=\"stylesheet\" />\n",
       "        <script src=\"https://cdnjs.cloudflare.com/ajax/libs/d3/3.5.5/d3.min.js\"></script>\n",
       "        <script src=\"https://cdnjs.cloudflare.com/ajax/libs/nvd3/1.7.0/nv.d3.min.js\"></script>\n",
       "    </head>\n",
       "    <body>\n",
       "        \n",
       "    <div id=\"stackedareachart\"><svg style=\"width:500px;height:450px;\"></svg></div>\n",
       "\n",
       "\n",
       "    <script>\n",
       "\n",
       "\n",
       "            data_stackedareachart=[{\"values\": [{\"y\": 0, \"x\": 0}, {\"y\": 6, \"x\": 1}, {\"y\": 10, \"x\": 2}, {\"y\": 6, \"x\": 3}, {\"y\": 20, \"x\": 4}, {\"y\": 30, \"x\": 5}, {\"y\": 6, \"x\": 6}, {\"y\": 28, \"x\": 7}, {\"y\": 56, \"x\": 8}, {\"y\": 18, \"x\": 9}, {\"y\": 10, \"x\": 10}, {\"y\": 88, \"x\": 11}, {\"y\": 84, \"x\": 12}, {\"y\": 78, \"x\": 13}, {\"y\": 28, \"x\": 14}, {\"y\": 15, \"x\": 15}, {\"y\": 144, \"x\": 16}, {\"y\": 51, \"x\": 17}, {\"y\": 126, \"x\": 18}, {\"y\": 133, \"x\": 19}, {\"y\": 80, \"x\": 20}, {\"y\": 147, \"x\": 21}, {\"y\": 154, \"x\": 22}, {\"y\": 207, \"x\": 23}, {\"y\": 96, \"x\": 24}, {\"y\": 150, \"x\": 25}, {\"y\": 156, \"x\": 26}, {\"y\": 81, \"x\": 27}, {\"y\": 84, \"x\": 28}, {\"y\": 174, \"x\": 29}, {\"y\": 300, \"x\": 30}, {\"y\": 217, \"x\": 31}, {\"y\": 128, \"x\": 32}, {\"y\": 330, \"x\": 33}, {\"y\": 238, \"x\": 34}, {\"y\": 35, \"x\": 35}, {\"y\": 324, \"x\": 36}, {\"y\": 37, \"x\": 37}, {\"y\": 304, \"x\": 38}, {\"y\": 390, \"x\": 39}, {\"y\": 40, \"x\": 40}, {\"y\": 287, \"x\": 41}, {\"y\": 126, \"x\": 42}, {\"y\": 43, \"x\": 43}, {\"y\": 44, \"x\": 44}, {\"y\": 360, \"x\": 45}, {\"y\": 138, \"x\": 46}, {\"y\": 94, \"x\": 47}, {\"y\": 48, \"x\": 48}, {\"y\": 147, \"x\": 49}], \"key\": \"serie 1\", \"yAxis\": \"1\"}, {\"values\": [{\"y\": 0, \"x\": 0}, {\"y\": 12, \"x\": 1}, {\"y\": 20, \"x\": 2}, {\"y\": 12, \"x\": 3}, {\"y\": 40, \"x\": 4}, {\"y\": 60, \"x\": 5}, {\"y\": 12, \"x\": 6}, {\"y\": 56, \"x\": 7}, {\"y\": 112, \"x\": 8}, {\"y\": 36, \"x\": 9}, {\"y\": 20, \"x\": 10}, {\"y\": 176, \"x\": 11}, {\"y\": 168, \"x\": 12}, {\"y\": 156, \"x\": 13}, {\"y\": 56, \"x\": 14}, {\"y\": 30, \"x\": 15}, {\"y\": 288, \"x\": 16}, {\"y\": 102, \"x\": 17}, {\"y\": 252, \"x\": 18}, {\"y\": 266, \"x\": 19}, {\"y\": 160, \"x\": 20}, {\"y\": 294, \"x\": 21}, {\"y\": 308, \"x\": 22}, {\"y\": 414, \"x\": 23}, {\"y\": 192, \"x\": 24}, {\"y\": 300, \"x\": 25}, {\"y\": 312, \"x\": 26}, {\"y\": 162, \"x\": 27}, {\"y\": 168, \"x\": 28}, {\"y\": 348, \"x\": 29}, {\"y\": 600, \"x\": 30}, {\"y\": 434, \"x\": 31}, {\"y\": 256, \"x\": 32}, {\"y\": 660, \"x\": 33}, {\"y\": 476, \"x\": 34}, {\"y\": 70, \"x\": 35}, {\"y\": 648, \"x\": 36}, {\"y\": 74, \"x\": 37}, {\"y\": 608, \"x\": 38}, {\"y\": 780, \"x\": 39}, {\"y\": 80, \"x\": 40}, {\"y\": 574, \"x\": 41}, {\"y\": 252, \"x\": 42}, {\"y\": 86, \"x\": 43}, {\"y\": 88, \"x\": 44}, {\"y\": 720, \"x\": 45}, {\"y\": 276, \"x\": 46}, {\"y\": 188, \"x\": 47}, {\"y\": 96, \"x\": 48}, {\"y\": 294, \"x\": 49}], \"key\": \"serie 2\", \"yAxis\": \"1\"}, {\"values\": [{\"y\": 0, \"x\": 0}, {\"y\": 30, \"x\": 1}, {\"y\": 50, \"x\": 2}, {\"y\": 30, \"x\": 3}, {\"y\": 100, \"x\": 4}, {\"y\": 150, \"x\": 5}, {\"y\": 30, \"x\": 6}, {\"y\": 140, \"x\": 7}, {\"y\": 280, \"x\": 8}, {\"y\": 90, \"x\": 9}, {\"y\": 50, \"x\": 10}, {\"y\": 440, \"x\": 11}, {\"y\": 420, \"x\": 12}, {\"y\": 390, \"x\": 13}, {\"y\": 140, \"x\": 14}, {\"y\": 75, \"x\": 15}, {\"y\": 720, \"x\": 16}, {\"y\": 255, \"x\": 17}, {\"y\": 630, \"x\": 18}, {\"y\": 665, \"x\": 19}, {\"y\": 400, \"x\": 20}, {\"y\": 735, \"x\": 21}, {\"y\": 770, \"x\": 22}, {\"y\": 1035, \"x\": 23}, {\"y\": 480, \"x\": 24}, {\"y\": 750, \"x\": 25}, {\"y\": 780, \"x\": 26}, {\"y\": 405, \"x\": 27}, {\"y\": 420, \"x\": 28}, {\"y\": 870, \"x\": 29}, {\"y\": 1500, \"x\": 30}, {\"y\": 1085, \"x\": 31}, {\"y\": 640, \"x\": 32}, {\"y\": 1650, \"x\": 33}, {\"y\": 1190, \"x\": 34}, {\"y\": 175, \"x\": 35}, {\"y\": 1620, \"x\": 36}, {\"y\": 185, \"x\": 37}, {\"y\": 1520, \"x\": 38}, {\"y\": 1950, \"x\": 39}, {\"y\": 200, \"x\": 40}, {\"y\": 1435, \"x\": 41}, {\"y\": 630, \"x\": 42}, {\"y\": 215, \"x\": 43}, {\"y\": 220, \"x\": 44}, {\"y\": 1800, \"x\": 45}, {\"y\": 690, \"x\": 46}, {\"y\": 470, \"x\": 47}, {\"y\": 240, \"x\": 48}, {\"y\": 735, \"x\": 49}], \"key\": \"serie 3\", \"yAxis\": \"1\"}];\n",
       "\n",
       "    nv.addGraph(function() {\n",
       "        var chart = nv.models.stackedAreaChart().useInteractiveGuideline(true);\n",
       "\n",
       "        chart.margin({top: 30, right: 60, bottom: 20, left: 60});\n",
       "\n",
       "        var datum = data_stackedareachart;\n",
       "\n",
       "\n",
       "\n",
       "\n",
       "            chart.xAxis\n",
       "                .tickFormat(d3.format(',.2f'));\n",
       "            chart.yAxis\n",
       "                .tickFormat(d3.format(',.2f'));\n",
       "\n",
       "\n",
       "      chart.showLegend(true);\n",
       "\n",
       "\n",
       "\n",
       "        \n",
       "\n",
       "\n",
       "        d3.select('#stackedareachart svg')\n",
       "            .datum(datum)\n",
       "            .transition().duration(500)\n",
       "            .attr('width', 500)\n",
       "            .attr('height', 450)\n",
       "            .call(chart);\n",
       "\n",
       "\n",
       "    });\n",
       "\n",
       "\n",
       "\n",
       "    </script>\n",
       "\n",
       "    </body>\n",
       "</html>"
      ],
      "text/plain": [
       "<nvd3.stackedAreaChart.stackedAreaChart at 0x7f25aa705050>"
      ]
     },
     "execution_count": 8,
     "metadata": {},
     "output_type": "execute_result"
    }
   ],
   "source": [
    "type = 'stackedAreaChart'\n",
    "chart2 = nvd3.stackedAreaChart(name=type,height=450,width=500, \n",
    "                               use_interactive_guideline=True)\n",
    "nb_element = 50\n",
    "xdata = range(nb_element)\n",
    "ydata = [i * random.randint(1, 10) for i in range(nb_element)]\n",
    "ydata2 = [x * 2 for x in ydata]\n",
    "ydata3 = [x * 5 for x in ydata]\n",
    "chart2.add_serie(name=\"serie 1\", y=ydata, x=xdata)\n",
    "chart2.add_serie(name=\"serie 2\", y=ydata2, x=xdata)\n",
    "chart2.add_serie(name=\"serie 3\", y=ydata3, x=xdata)\n",
    "chart2"
   ]
  },
  {
   "cell_type": "code",
   "execution_count": 14,
   "metadata": {
    "collapsed": false
   },
   "outputs": [
    {
     "data": {
      "text/html": [
       "<!DOCTYPE html>\n",
       "<html lang=\"en\">\n",
       "    <head>\n",
       "        <meta charset=\"utf-8\" />\n",
       "        <link href=\"https://cdnjs.cloudflare.com/ajax/libs/nvd3/1.7.0/nv.d3.min.css\" rel=\"stylesheet\" />\n",
       "        <script src=\"https://cdnjs.cloudflare.com/ajax/libs/d3/3.5.5/d3.min.js\"></script>\n",
       "        <script src=\"https://cdnjs.cloudflare.com/ajax/libs/nvd3/1.7.0/nv.d3.min.js\"></script>\n",
       "    </head>\n",
       "    <body>\n",
       "        \n",
       "    <div id=\"scatterchart_1\"><svg style=\"width:600px;height:300px;\"></svg></div>\n",
       "\n",
       "\n",
       "    <script>\n",
       "\n",
       "\n",
       "\n",
       "            data_scatterchart_1=[{\"values\": [{\"y\": 0, \"x\": 6, \"shape\": \"circle\", \"size\": \"1\"}, {\"y\": 9, \"x\": 2, \"shape\": \"circle\", \"size\": \"1\"}, {\"y\": 14, \"x\": 4, \"shape\": \"circle\", \"size\": \"1\"}, {\"y\": 15, \"x\": 6, \"shape\": \"circle\", \"size\": \"1\"}, {\"y\": 12, \"x\": 7, \"shape\": \"circle\", \"size\": \"1\"}, {\"y\": 10, \"x\": 13, \"shape\": \"circle\", \"size\": \"1\"}, {\"y\": 36, \"x\": 10, \"shape\": \"circle\", \"size\": \"1\"}, {\"y\": 7, \"x\": 8, \"shape\": \"circle\", \"size\": \"1\"}, {\"y\": 8, \"x\": 13, \"shape\": \"circle\", \"size\": \"1\"}, {\"y\": 63, \"x\": 17, \"shape\": \"circle\", \"size\": \"1\"}, {\"y\": 90, \"x\": 12, \"shape\": \"circle\", \"size\": \"1\"}, {\"y\": 11, \"x\": 13, \"shape\": \"circle\", \"size\": \"1\"}, {\"y\": 120, \"x\": 13, \"shape\": \"circle\", \"size\": \"1\"}, {\"y\": 13, \"x\": 22, \"shape\": \"circle\", \"size\": \"1\"}, {\"y\": 140, \"x\": 18, \"shape\": \"circle\", \"size\": \"1\"}, {\"y\": 75, \"x\": 22, \"shape\": \"circle\", \"size\": \"1\"}, {\"y\": 16, \"x\": 20, \"shape\": \"circle\", \"size\": \"1\"}, {\"y\": 34, \"x\": 19, \"shape\": \"circle\", \"size\": \"1\"}, {\"y\": 180, \"x\": 25, \"shape\": \"circle\", \"size\": \"1\"}, {\"y\": 38, \"x\": 22, \"shape\": \"circle\", \"size\": \"1\"}, {\"y\": 20, \"x\": 30, \"shape\": \"circle\", \"size\": \"1\"}, {\"y\": 147, \"x\": 24, \"shape\": \"circle\", \"size\": \"1\"}, {\"y\": 132, \"x\": 30, \"shape\": \"circle\", \"size\": \"1\"}, {\"y\": 92, \"x\": 33, \"shape\": \"circle\", \"size\": \"1\"}, {\"y\": 96, \"x\": 31, \"shape\": \"circle\", \"size\": \"1\"}, {\"y\": 200, \"x\": 32, \"shape\": \"circle\", \"size\": \"1\"}, {\"y\": 234, \"x\": 36, \"shape\": \"circle\", \"size\": \"1\"}, {\"y\": 162, \"x\": 31, \"shape\": \"circle\", \"size\": \"1\"}, {\"y\": 112, \"x\": 35, \"shape\": \"circle\", \"size\": \"1\"}, {\"y\": 29, \"x\": 32, \"shape\": \"circle\", \"size\": \"1\"}, {\"y\": 120, \"x\": 35, \"shape\": \"circle\", \"size\": \"1\"}, {\"y\": 217, \"x\": 37, \"shape\": \"circle\", \"size\": \"1\"}, {\"y\": 224, \"x\": 33, \"shape\": \"circle\", \"size\": \"1\"}, {\"y\": 330, \"x\": 39, \"shape\": \"circle\", \"size\": \"1\"}, {\"y\": 204, \"x\": 39, \"shape\": \"circle\", \"size\": \"1\"}, {\"y\": 245, \"x\": 38, \"shape\": \"circle\", \"size\": \"1\"}, {\"y\": 360, \"x\": 42, \"shape\": \"circle\", \"size\": \"1\"}, {\"y\": 333, \"x\": 47, \"shape\": \"circle\", \"size\": \"1\"}, {\"y\": 342, \"x\": 48, \"shape\": \"circle\", \"size\": \"1\"}, {\"y\": 156, \"x\": 49, \"shape\": \"circle\", \"size\": \"1\"}, {\"y\": 120, \"x\": 47, \"shape\": \"circle\", \"size\": \"1\"}, {\"y\": 328, \"x\": 47, \"shape\": \"circle\", \"size\": \"1\"}, {\"y\": 126, \"x\": 44, \"shape\": \"circle\", \"size\": \"1\"}, {\"y\": 43, \"x\": 46, \"shape\": \"circle\", \"size\": \"1\"}, {\"y\": 132, \"x\": 45, \"shape\": \"circle\", \"size\": \"1\"}, {\"y\": 225, \"x\": 50, \"shape\": \"circle\", \"size\": \"1\"}, {\"y\": 368, \"x\": 48, \"shape\": \"circle\", \"size\": \"1\"}, {\"y\": 94, \"x\": 51, \"shape\": \"circle\", \"size\": \"1\"}, {\"y\": 480, \"x\": 58, \"shape\": \"circle\", \"size\": \"1\"}, {\"y\": 294, \"x\": 59, \"shape\": \"circle\", \"size\": \"1\"}], \"key\": \"serie 1\", \"yAxis\": \"1\"}, {\"values\": [{\"y\": 0, \"x\": 6, \"shape\": \"cross\", \"size\": \"10\"}, {\"y\": 18, \"x\": 2, \"shape\": \"cross\", \"size\": \"10\"}, {\"y\": 28, \"x\": 4, \"shape\": \"cross\", \"size\": \"10\"}, {\"y\": 30, \"x\": 6, \"shape\": \"cross\", \"size\": \"10\"}, {\"y\": 24, \"x\": 7, \"shape\": \"cross\", \"size\": \"10\"}, {\"y\": 20, \"x\": 13, \"shape\": \"cross\", \"size\": \"10\"}, {\"y\": 72, \"x\": 10, \"shape\": \"cross\", \"size\": \"10\"}, {\"y\": 14, \"x\": 8, \"shape\": \"cross\", \"size\": \"10\"}, {\"y\": 16, \"x\": 13, \"shape\": \"cross\", \"size\": \"10\"}, {\"y\": 126, \"x\": 17, \"shape\": \"cross\", \"size\": \"10\"}, {\"y\": 180, \"x\": 12, \"shape\": \"cross\", \"size\": \"10\"}, {\"y\": 22, \"x\": 13, \"shape\": \"cross\", \"size\": \"10\"}, {\"y\": 240, \"x\": 13, \"shape\": \"cross\", \"size\": \"10\"}, {\"y\": 26, \"x\": 22, \"shape\": \"cross\", \"size\": \"10\"}, {\"y\": 280, \"x\": 18, \"shape\": \"cross\", \"size\": \"10\"}, {\"y\": 150, \"x\": 22, \"shape\": \"cross\", \"size\": \"10\"}, {\"y\": 32, \"x\": 20, \"shape\": \"cross\", \"size\": \"10\"}, {\"y\": 68, \"x\": 19, \"shape\": \"cross\", \"size\": \"10\"}, {\"y\": 360, \"x\": 25, \"shape\": \"cross\", \"size\": \"10\"}, {\"y\": 76, \"x\": 22, \"shape\": \"cross\", \"size\": \"10\"}, {\"y\": 40, \"x\": 30, \"shape\": \"cross\", \"size\": \"10\"}, {\"y\": 294, \"x\": 24, \"shape\": \"cross\", \"size\": \"10\"}, {\"y\": 264, \"x\": 30, \"shape\": \"cross\", \"size\": \"10\"}, {\"y\": 184, \"x\": 33, \"shape\": \"cross\", \"size\": \"10\"}, {\"y\": 192, \"x\": 31, \"shape\": \"cross\", \"size\": \"10\"}, {\"y\": 400, \"x\": 32, \"shape\": \"cross\", \"size\": \"10\"}, {\"y\": 468, \"x\": 36, \"shape\": \"cross\", \"size\": \"10\"}, {\"y\": 324, \"x\": 31, \"shape\": \"cross\", \"size\": \"10\"}, {\"y\": 224, \"x\": 35, \"shape\": \"cross\", \"size\": \"10\"}, {\"y\": 58, \"x\": 32, \"shape\": \"cross\", \"size\": \"10\"}, {\"y\": 240, \"x\": 35, \"shape\": \"cross\", \"size\": \"10\"}, {\"y\": 434, \"x\": 37, \"shape\": \"cross\", \"size\": \"10\"}, {\"y\": 448, \"x\": 33, \"shape\": \"cross\", \"size\": \"10\"}, {\"y\": 660, \"x\": 39, \"shape\": \"cross\", \"size\": \"10\"}, {\"y\": 408, \"x\": 39, \"shape\": \"cross\", \"size\": \"10\"}, {\"y\": 490, \"x\": 38, \"shape\": \"cross\", \"size\": \"10\"}, {\"y\": 720, \"x\": 42, \"shape\": \"cross\", \"size\": \"10\"}, {\"y\": 666, \"x\": 47, \"shape\": \"cross\", \"size\": \"10\"}, {\"y\": 684, \"x\": 48, \"shape\": \"cross\", \"size\": \"10\"}, {\"y\": 312, \"x\": 49, \"shape\": \"cross\", \"size\": \"10\"}, {\"y\": 240, \"x\": 47, \"shape\": \"cross\", \"size\": \"10\"}, {\"y\": 656, \"x\": 47, \"shape\": \"cross\", \"size\": \"10\"}, {\"y\": 252, \"x\": 44, \"shape\": \"cross\", \"size\": \"10\"}, {\"y\": 86, \"x\": 46, \"shape\": \"cross\", \"size\": \"10\"}, {\"y\": 264, \"x\": 45, \"shape\": \"cross\", \"size\": \"10\"}, {\"y\": 450, \"x\": 50, \"shape\": \"cross\", \"size\": \"10\"}, {\"y\": 736, \"x\": 48, \"shape\": \"cross\", \"size\": \"10\"}, {\"y\": 188, \"x\": 51, \"shape\": \"cross\", \"size\": \"10\"}, {\"y\": 960, \"x\": 58, \"shape\": \"cross\", \"size\": \"10\"}, {\"y\": 588, \"x\": 59, \"shape\": \"cross\", \"size\": \"10\"}], \"key\": \"serie 2\", \"yAxis\": \"1\"}, {\"values\": [{\"y\": 0, \"x\": 6, \"shape\": \"triangle-up\", \"size\": \"100\"}, {\"y\": 45, \"x\": 2, \"shape\": \"triangle-up\", \"size\": \"100\"}, {\"y\": 70, \"x\": 4, \"shape\": \"triangle-up\", \"size\": \"100\"}, {\"y\": 75, \"x\": 6, \"shape\": \"triangle-up\", \"size\": \"100\"}, {\"y\": 60, \"x\": 7, \"shape\": \"triangle-up\", \"size\": \"100\"}, {\"y\": 50, \"x\": 13, \"shape\": \"triangle-up\", \"size\": \"100\"}, {\"y\": 180, \"x\": 10, \"shape\": \"triangle-up\", \"size\": \"100\"}, {\"y\": 35, \"x\": 8, \"shape\": \"triangle-up\", \"size\": \"100\"}, {\"y\": 40, \"x\": 13, \"shape\": \"triangle-up\", \"size\": \"100\"}, {\"y\": 315, \"x\": 17, \"shape\": \"triangle-up\", \"size\": \"100\"}, {\"y\": 450, \"x\": 12, \"shape\": \"triangle-up\", \"size\": \"100\"}, {\"y\": 55, \"x\": 13, \"shape\": \"triangle-up\", \"size\": \"100\"}, {\"y\": 600, \"x\": 13, \"shape\": \"triangle-up\", \"size\": \"100\"}, {\"y\": 65, \"x\": 22, \"shape\": \"triangle-up\", \"size\": \"100\"}, {\"y\": 700, \"x\": 18, \"shape\": \"triangle-up\", \"size\": \"100\"}, {\"y\": 375, \"x\": 22, \"shape\": \"triangle-up\", \"size\": \"100\"}, {\"y\": 80, \"x\": 20, \"shape\": \"triangle-up\", \"size\": \"100\"}, {\"y\": 170, \"x\": 19, \"shape\": \"triangle-up\", \"size\": \"100\"}, {\"y\": 900, \"x\": 25, \"shape\": \"triangle-up\", \"size\": \"100\"}, {\"y\": 190, \"x\": 22, \"shape\": \"triangle-up\", \"size\": \"100\"}, {\"y\": 100, \"x\": 30, \"shape\": \"triangle-up\", \"size\": \"100\"}, {\"y\": 735, \"x\": 24, \"shape\": \"triangle-up\", \"size\": \"100\"}, {\"y\": 660, \"x\": 30, \"shape\": \"triangle-up\", \"size\": \"100\"}, {\"y\": 460, \"x\": 33, \"shape\": \"triangle-up\", \"size\": \"100\"}, {\"y\": 480, \"x\": 31, \"shape\": \"triangle-up\", \"size\": \"100\"}, {\"y\": 1000, \"x\": 32, \"shape\": \"triangle-up\", \"size\": \"100\"}, {\"y\": 1170, \"x\": 36, \"shape\": \"triangle-up\", \"size\": \"100\"}, {\"y\": 810, \"x\": 31, \"shape\": \"triangle-up\", \"size\": \"100\"}, {\"y\": 560, \"x\": 35, \"shape\": \"triangle-up\", \"size\": \"100\"}, {\"y\": 145, \"x\": 32, \"shape\": \"triangle-up\", \"size\": \"100\"}, {\"y\": 600, \"x\": 35, \"shape\": \"triangle-up\", \"size\": \"100\"}, {\"y\": 1085, \"x\": 37, \"shape\": \"triangle-up\", \"size\": \"100\"}, {\"y\": 1120, \"x\": 33, \"shape\": \"triangle-up\", \"size\": \"100\"}, {\"y\": 1650, \"x\": 39, \"shape\": \"triangle-up\", \"size\": \"100\"}, {\"y\": 1020, \"x\": 39, \"shape\": \"triangle-up\", \"size\": \"100\"}, {\"y\": 1225, \"x\": 38, \"shape\": \"triangle-up\", \"size\": \"100\"}, {\"y\": 1800, \"x\": 42, \"shape\": \"triangle-up\", \"size\": \"100\"}, {\"y\": 1665, \"x\": 47, \"shape\": \"triangle-up\", \"size\": \"100\"}, {\"y\": 1710, \"x\": 48, \"shape\": \"triangle-up\", \"size\": \"100\"}, {\"y\": 780, \"x\": 49, \"shape\": \"triangle-up\", \"size\": \"100\"}, {\"y\": 600, \"x\": 47, \"shape\": \"triangle-up\", \"size\": \"100\"}, {\"y\": 1640, \"x\": 47, \"shape\": \"triangle-up\", \"size\": \"100\"}, {\"y\": 630, \"x\": 44, \"shape\": \"triangle-up\", \"size\": \"100\"}, {\"y\": 215, \"x\": 46, \"shape\": \"triangle-up\", \"size\": \"100\"}, {\"y\": 660, \"x\": 45, \"shape\": \"triangle-up\", \"size\": \"100\"}, {\"y\": 1125, \"x\": 50, \"shape\": \"triangle-up\", \"size\": \"100\"}, {\"y\": 1840, \"x\": 48, \"shape\": \"triangle-up\", \"size\": \"100\"}, {\"y\": 470, \"x\": 51, \"shape\": \"triangle-up\", \"size\": \"100\"}, {\"y\": 2400, \"x\": 58, \"shape\": \"triangle-up\", \"size\": \"100\"}, {\"y\": 1470, \"x\": 59, \"shape\": \"triangle-up\", \"size\": \"100\"}], \"key\": \"serie 3\", \"yAxis\": \"1\"}];\n",
       "\n",
       "\n",
       "        nv.addGraph(function() {\n",
       "        var chart = nv.models.scatterChart();\n",
       "\n",
       "        chart.margin({top: 30, right: 60, bottom: 20, left: 60});\n",
       "\n",
       "        var datum = data_scatterchart_1;\n",
       "\n",
       "\n",
       "\n",
       "                chart.xAxis\n",
       "                .tickFormat(d3.format(',.02f'));\n",
       "            chart.yAxis\n",
       "                .tickFormat(d3.format(',.02f'));\n",
       "\n",
       "\n",
       "\n",
       "          chart.showLegend(true);\n",
       "\n",
       "\n",
       "    \n",
       "\n",
       "        \n",
       "\n",
       "\n",
       "\n",
       "\n",
       "    chart\n",
       "        .showDistX(true)\n",
       "        .showDistY(true)\n",
       "        .color(d3.scale.category10().range());\n",
       "\n",
       "            d3.select('#scatterchart_1 svg')\n",
       "            .datum(datum)\n",
       "            .transition().duration(500)\n",
       "            .attr('width', 600)\n",
       "            .attr('height', 300)\n",
       "            .call(chart);\n",
       "\n",
       "\n",
       "        });\n",
       "\n",
       "\n",
       "\n",
       "    </script>\n",
       "\n",
       "    </body>\n",
       "</html>"
      ],
      "text/plain": [
       "<nvd3.scatterChart.scatterChart at 0x7f25aa6baf50>"
      ]
     },
     "execution_count": 14,
     "metadata": {},
     "output_type": "execute_result"
    }
   ],
   "source": [
    "chart = nvd3.scatterChart(name='scatterChart_1', width=600, height=300, x_is_date=False)\n",
    "nb_element = 50\n",
    "xdata = [i + random.randint(1, 10) for i in range(nb_element)]\n",
    "ydata = [i * random.randint(1, 10) for i in range(nb_element)]\n",
    "ydata2 = [x * 2 for x in ydata]\n",
    "ydata3 = [x * 5 for x in ydata]\n",
    "\n",
    "kwargs1 = {'shape': 'circle', 'size': '1'}\n",
    "kwargs2 = {'shape': 'cross', 'size': '10'}\n",
    "kwargs3 = {'shape': 'triangle-up', 'size': '100'}\n",
    "\n",
    "extra_serie = {\"tooltip\": {\"y_start\": \"\", \"y_end\": \" calls\"}}\n",
    "chart.add_serie(name=\"serie 1\", y=ydata, x=xdata, extra=extra_serie, **kwargs1)\n",
    "chart.add_serie(name=\"serie 2\", y=ydata2, x=xdata, extra=extra_serie, **kwargs2)\n",
    "chart.add_serie(name=\"serie 3\", y=ydata3, x=xdata, extra=extra_serie, **kwargs3)\n",
    "chart"
   ]
  },
  {
   "cell_type": "code",
   "execution_count": 17,
   "metadata": {
    "collapsed": false
   },
   "outputs": [
    {
     "data": {
      "text/html": [
       "<!DOCTYPE html>\n",
       "<html lang=\"en\">\n",
       "    <head>\n",
       "        <meta charset=\"utf-8\" />\n",
       "        <link href=\"https://cdnjs.cloudflare.com/ajax/libs/nvd3/1.7.0/nv.d3.min.css\" rel=\"stylesheet\" />\n",
       "        <script src=\"https://cdnjs.cloudflare.com/ajax/libs/d3/3.5.5/d3.min.js\"></script>\n",
       "        <script src=\"https://cdnjs.cloudflare.com/ajax/libs/nvd3/1.7.0/nv.d3.min.js\"></script>\n",
       "    </head>\n",
       "    <body>\n",
       "        \n",
       "    \n",
       "\n",
       "<h2>pieChart</h2>\n",
       "\n",
       "<div id=\"piechart\"><svg style=\"width:450px;height:450px;\"></svg></div>\n",
       "\n",
       "\n",
       "    <script>\n",
       "\n",
       "\n",
       "\n",
       "    data_piechart=[{\"values\": [{\"value\": 3, \"label\": \"Orange\"}, {\"value\": 4, \"label\": \"Banana\"}, {\"value\": 0, \"label\": \"Pear\"}, {\"value\": 1, \"label\": \"Kiwi\"}, {\"value\": 5, \"label\": \"Apple\"}, {\"value\": 7, \"label\": \"Strawberry\"}, {\"value\": 3, \"label\": \"Pineapple\"}], \"key\": \"Serie 1\"}];\n",
       "\n",
       "    nv.addGraph(function() {\n",
       "        var chart = nv.models.pieChart();\n",
       "        chart.margin({top: 30, right: 60, bottom: 20, left: 60});\n",
       "        var datum = data_piechart[0].values;\n",
       "\n",
       "    chart.tooltipContent(function(key, y, e, graph) {\n",
       "          var x = String(key);\n",
       "              var y =  String(y)  + ' cal';\n",
       "\n",
       "              tooltip_str = '<center><b>'+x+'</b></center>' + y;\n",
       "              return tooltip_str;\n",
       "              });\n",
       "        chart.showLabels(true);\n",
       "\n",
       "            chart.donut(false);\n",
       "\n",
       "    chart.showLegend(true);\n",
       "\n",
       "\n",
       "\n",
       "\n",
       "        chart\n",
       "            .x(function(d) { return d.label })\n",
       "            .y(function(d) { return d.value });\n",
       "\n",
       "        chart.width(450);\n",
       "\n",
       "        chart.height(450);\n",
       "\n",
       "\n",
       "            d3.select('#piechart svg')\n",
       "            .datum(datum)\n",
       "            .transition().duration(500)\n",
       "            .attr('width', 450)\n",
       "            .attr('height', 450)\n",
       "            .call(chart);\n",
       "\n",
       "\n",
       "        });\n",
       "\n",
       "\n",
       "\n",
       "    </script>\n",
       "\n",
       "    </body>\n",
       "</html>"
      ],
      "text/plain": [
       "<nvd3.pieChart.pieChart at 0x7f25aa705910>"
      ]
     },
     "execution_count": 17,
     "metadata": {},
     "output_type": "execute_result"
    }
   ],
   "source": [
    "type = 'pieChart'\n",
    "chart1 = nvd3.pieChart(name=type, color_category='category20c', height=450, width=450)\n",
    "chart1.set_containerheader(\"\\n\\n<h2>\" + type + \"</h2>\\n\\n\")\n",
    "\n",
    "#Create the keys\n",
    "xdata = [\"Orange\", \"Banana\", \"Pear\", \"Kiwi\", \"Apple\", \"Strawberry\", \"Pineapple\"]\n",
    "ydata = [3, 4, 0, 1, 5, 7, 3]\n",
    "\n",
    "#Add the serie\n",
    "extra_serie = {\"tooltip\": {\"y_start\": \"\", \"y_end\": \" cal\"}}\n",
    "chart1.add_serie(y=ydata, x=xdata, extra=extra_serie)\n",
    "chart1"
   ]
  },
  {
   "cell_type": "code",
   "execution_count": null,
   "metadata": {
    "collapsed": true
   },
   "outputs": [],
   "source": []
  },
  {
   "cell_type": "code",
   "execution_count": null,
   "metadata": {
    "collapsed": true
   },
   "outputs": [],
   "source": []
  }
 ],
 "metadata": {
  "kernelspec": {
   "display_name": "Python 2",
   "language": "python",
   "name": "python2"
  },
  "language_info": {
   "codemirror_mode": {
    "name": "ipython",
    "version": 2
   },
   "file_extension": ".py",
   "mimetype": "text/x-python",
   "name": "python",
   "nbconvert_exporter": "python",
   "pygments_lexer": "ipython2",
   "version": "2.7.10"
  }
 },
 "nbformat": 4,
 "nbformat_minor": 0
}
