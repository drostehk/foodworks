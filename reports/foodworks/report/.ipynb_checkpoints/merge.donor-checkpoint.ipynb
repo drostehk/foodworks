{
 "cells": [
  {
   "cell_type": "code",
   "execution_count": 2,
   "metadata": {
    "collapsed": true
   },
   "outputs": [],
   "source": [
    "import os\n",
    "import pandas as pd"
   ]
  },
  {
   "cell_type": "code",
   "execution_count": 3,
   "metadata": {
    "collapsed": true
   },
   "outputs": [],
   "source": [
    "folder_dir = \"../../../../Data/Canonical/\""
   ]
  },
  {
   "cell_type": "code",
   "execution_count": 4,
   "metadata": {
    "collapsed": false
   },
   "outputs": [],
   "source": [
    "df = pd.read_csv('../../../../Tableau/Data/master.merge.csv')\n",
    "\n",
    "df_loc = df[['location']]\n",
    "\n",
    "unique_loc = df_loc.iloc[:,0].unique()\n",
    "\n"
   ]
  },
  {
   "cell_type": "code",
   "execution_count": 29,
   "metadata": {
    "collapsed": false
   },
   "outputs": [
    {
     "data": {
      "text/plain": [
       "Index([u'canonical', u'datetime', u'day', u'donor', u'donor_category',\n",
       "       u'isFresh', u'location', u'month', u'name_zh', u'organisation_id',\n",
       "       u'programme', u'value', u'variable', u'year', u'ngo', u'name_eng',\n",
       "       u'district', u'territories', u'country', u'lat', u'lng',\n",
       "       u'formatted_add_eng'],\n",
       "      dtype='object')"
      ]
     },
     "execution_count": 29,
     "metadata": {},
     "output_type": "execute_result"
    }
   ],
   "source": [
    "df.columns"
   ]
  },
  {
   "cell_type": "code",
   "execution_count": 30,
   "metadata": {
    "collapsed": false
   },
   "outputs": [
    {
     "data": {
      "text/html": [
       "<div>\n",
       "<table border=\"1\" class=\"dataframe\">\n",
       "  <thead>\n",
       "    <tr style=\"text-align: right;\">\n",
       "      <th></th>\n",
       "      <th>location</th>\n",
       "      <th>name_zh</th>\n",
       "      <th>organisation_id</th>\n",
       "      <th>year</th>\n",
       "    </tr>\n",
       "  </thead>\n",
       "  <tbody>\n",
       "    <tr>\n",
       "      <th>18169</th>\n",
       "      <td>77, Tin Shui Road, Tin Shui Wai, Yuen Long</td>\n",
       "      <td>NaN</td>\n",
       "      <td>TSWN</td>\n",
       "      <td>2014</td>\n",
       "    </tr>\n",
       "    <tr>\n",
       "      <th>18170</th>\n",
       "      <td>33, Tin Wah Road, Tin Shui Wai, Yuen Long</td>\n",
       "      <td>NaN</td>\n",
       "      <td>TSWN</td>\n",
       "      <td>2014</td>\n",
       "    </tr>\n",
       "    <tr>\n",
       "      <th>18195</th>\n",
       "      <td>2, Tin Wu Road, Tin Shui Wai, Yuen Long</td>\n",
       "      <td>NaN</td>\n",
       "      <td>TSWN</td>\n",
       "      <td>2014</td>\n",
       "    </tr>\n",
       "    <tr>\n",
       "      <th>18296</th>\n",
       "      <td>NaN</td>\n",
       "      <td>NaN</td>\n",
       "      <td>TSWN</td>\n",
       "      <td>2014</td>\n",
       "    </tr>\n",
       "    <tr>\n",
       "      <th>18358</th>\n",
       "      <td>3, Tin Ching Street, Tin Shui Wai, Yuen Long</td>\n",
       "      <td>NaN</td>\n",
       "      <td>TSWN</td>\n",
       "      <td>2014</td>\n",
       "    </tr>\n",
       "    <tr>\n",
       "      <th>19579</th>\n",
       "      <td>1, Tin Chung Court, Tin Shui Wai, Yuen Long</td>\n",
       "      <td>NaN</td>\n",
       "      <td>TSWN</td>\n",
       "      <td>2014</td>\n",
       "    </tr>\n",
       "    <tr>\n",
       "      <th>19585</th>\n",
       "      <td>12-18, Tin Yan Road, Tin Shui Wai, Yuen Long</td>\n",
       "      <td>NaN</td>\n",
       "      <td>TSWN</td>\n",
       "      <td>2014</td>\n",
       "    </tr>\n",
       "    <tr>\n",
       "      <th>19620</th>\n",
       "      <td>Shop Tis 42, Unpaid Concourse, Tin Shui Wai St...</td>\n",
       "      <td>NaN</td>\n",
       "      <td>TSWN</td>\n",
       "      <td>2014</td>\n",
       "    </tr>\n",
       "    <tr>\n",
       "      <th>19637</th>\n",
       "      <td>9, Tin Shui Road, Tin Shui Wai, Yuen Long</td>\n",
       "      <td>NaN</td>\n",
       "      <td>TSWN</td>\n",
       "      <td>2014</td>\n",
       "    </tr>\n",
       "    <tr>\n",
       "      <th>19813</th>\n",
       "      <td>30-33, Tin Wah Road, Tin Shui Wai, Yuen Long</td>\n",
       "      <td>NaN</td>\n",
       "      <td>TSWN</td>\n",
       "      <td>2014</td>\n",
       "    </tr>\n",
       "    <tr>\n",
       "      <th>20700</th>\n",
       "      <td>Shop Tis 29, MTR Tin Shui Wai Station, Tin Shu...</td>\n",
       "      <td>NaN</td>\n",
       "      <td>TSWN</td>\n",
       "      <td>2014</td>\n",
       "    </tr>\n",
       "    <tr>\n",
       "      <th>20701</th>\n",
       "      <td>3, Tin Shing Street, Tin Shui Wai, Yuen Long</td>\n",
       "      <td>NaN</td>\n",
       "      <td>TSWN</td>\n",
       "      <td>2014</td>\n",
       "    </tr>\n",
       "    <tr>\n",
       "      <th>20891</th>\n",
       "      <td>71, 73, 75 &amp; 77, Tin Shui Road, Tin Shui Wai, ...</td>\n",
       "      <td>NaN</td>\n",
       "      <td>TSWN</td>\n",
       "      <td>2014</td>\n",
       "    </tr>\n",
       "    <tr>\n",
       "      <th>21177</th>\n",
       "      <td>3/F, Tin Ching Amenity and Community Building,...</td>\n",
       "      <td>NaN</td>\n",
       "      <td>TSWN</td>\n",
       "      <td>2014</td>\n",
       "    </tr>\n",
       "    <tr>\n",
       "      <th>21420</th>\n",
       "      <td>1, Tin Chung Court, Tin Shui Wai, Yuen Long</td>\n",
       "      <td>頌富山崎</td>\n",
       "      <td>TSWN</td>\n",
       "      <td>2015</td>\n",
       "    </tr>\n",
       "    <tr>\n",
       "      <th>21421</th>\n",
       "      <td>2, Tin Wu Road, Tin Shui Wai, Yuen Long</td>\n",
       "      <td>天耀街市</td>\n",
       "      <td>TSWN</td>\n",
       "      <td>2015</td>\n",
       "    </tr>\n",
       "    <tr>\n",
       "      <th>21424</th>\n",
       "      <td>77, Tin Shui Road, Tin Shui Wai, Yuen Long</td>\n",
       "      <td>天澤街市</td>\n",
       "      <td>TSWN</td>\n",
       "      <td>2015</td>\n",
       "    </tr>\n",
       "    <tr>\n",
       "      <th>21427</th>\n",
       "      <td>NaN</td>\n",
       "      <td>個人</td>\n",
       "      <td>TSWN</td>\n",
       "      <td>2015</td>\n",
       "    </tr>\n",
       "    <tr>\n",
       "      <th>21428</th>\n",
       "      <td>NaN</td>\n",
       "      <td>食品供應商</td>\n",
       "      <td>TSWN</td>\n",
       "      <td>2015</td>\n",
       "    </tr>\n",
       "    <tr>\n",
       "      <th>21431</th>\n",
       "      <td>NaN</td>\n",
       "      <td>團體</td>\n",
       "      <td>TSWN</td>\n",
       "      <td>2015</td>\n",
       "    </tr>\n",
       "    <tr>\n",
       "      <th>21441</th>\n",
       "      <td>9, Tin Shui Road, Tin Shui Wai, Yuen Long</td>\n",
       "      <td>天瑞街市</td>\n",
       "      <td>TSWN</td>\n",
       "      <td>2015</td>\n",
       "    </tr>\n",
       "    <tr>\n",
       "      <th>21456</th>\n",
       "      <td>3/F, Tin Ching Amenity and Community Building,...</td>\n",
       "      <td>兒童發展中心</td>\n",
       "      <td>TSWN</td>\n",
       "      <td>2015</td>\n",
       "    </tr>\n",
       "    <tr>\n",
       "      <th>21673</th>\n",
       "      <td>33, Tin Wah Road, Tin Shui Wai, Yuen Long</td>\n",
       "      <td>天富街市</td>\n",
       "      <td>TSWN</td>\n",
       "      <td>2015</td>\n",
       "    </tr>\n",
       "    <tr>\n",
       "      <th>21856</th>\n",
       "      <td>71, 73, 75 &amp; 77, Tin Shui Road, Tin Shui Wai, ...</td>\n",
       "      <td>鴻福堂天澤</td>\n",
       "      <td>TSWN</td>\n",
       "      <td>2015</td>\n",
       "    </tr>\n",
       "    <tr>\n",
       "      <th>21858</th>\n",
       "      <td>3, Tin Ching Street, Tin Shui Wai, Yuen Long</td>\n",
       "      <td>天盛街市</td>\n",
       "      <td>TSWN</td>\n",
       "      <td>2015</td>\n",
       "    </tr>\n",
       "    <tr>\n",
       "      <th>22866</th>\n",
       "      <td>757, Lai Chi Kok Road, Sham Shui Po</td>\n",
       "      <td>長沙灣菜統處</td>\n",
       "      <td>TSWN</td>\n",
       "      <td>2015</td>\n",
       "    </tr>\n",
       "    <tr>\n",
       "      <th>23784</th>\n",
       "      <td>NaN</td>\n",
       "      <td>飯商1</td>\n",
       "      <td>TSWN</td>\n",
       "      <td>2015</td>\n",
       "    </tr>\n",
       "    <tr>\n",
       "      <th>23862</th>\n",
       "      <td>NaN</td>\n",
       "      <td>飯商2</td>\n",
       "      <td>TSWN</td>\n",
       "      <td>2015</td>\n",
       "    </tr>\n",
       "    <tr>\n",
       "      <th>24043</th>\n",
       "      <td>2, Tin Wu Road, Tin Shui Wai, Yuen Long</td>\n",
       "      <td>鴻福堂天耀</td>\n",
       "      <td>TSWN</td>\n",
       "      <td>2015</td>\n",
       "    </tr>\n",
       "    <tr>\n",
       "      <th>24044</th>\n",
       "      <td>Shop Tis 29, MTR Tin Shui Wai Station, Tin Shu...</td>\n",
       "      <td>鴻福堂西鐵</td>\n",
       "      <td>TSWN</td>\n",
       "      <td>2015</td>\n",
       "    </tr>\n",
       "    <tr>\n",
       "      <th>24045</th>\n",
       "      <td>30-33, Tin Wah Road, Tin Shui Wai, Yuen Long</td>\n",
       "      <td>鴻福堂頌富</td>\n",
       "      <td>TSWN</td>\n",
       "      <td>2015</td>\n",
       "    </tr>\n",
       "    <tr>\n",
       "      <th>24188</th>\n",
       "      <td>Shop Tis 42, Unpaid Concourse, Tin Shui Wai St...</td>\n",
       "      <td>西鐵山崎</td>\n",
       "      <td>TSWN</td>\n",
       "      <td>2015</td>\n",
       "    </tr>\n",
       "    <tr>\n",
       "      <th>24465</th>\n",
       "      <td>12-18, Tin Yan Road, Tin Shui Wai, Yuen Long</td>\n",
       "      <td>銀座山崎</td>\n",
       "      <td>TSWN</td>\n",
       "      <td>2015</td>\n",
       "    </tr>\n",
       "    <tr>\n",
       "      <th>24466</th>\n",
       "      <td>9, Tin Shui Road, Tin Shui Wai, Yuen Long</td>\n",
       "      <td>天瑞ok</td>\n",
       "      <td>TSWN</td>\n",
       "      <td>2015</td>\n",
       "    </tr>\n",
       "    <tr>\n",
       "      <th>24479</th>\n",
       "      <td>30-33, Tin Wah Road, Tin Shui Wai, Yuen Long</td>\n",
       "      <td>頌富美心</td>\n",
       "      <td>TSWN</td>\n",
       "      <td>2015</td>\n",
       "    </tr>\n",
       "    <tr>\n",
       "      <th>25335</th>\n",
       "      <td>NaN</td>\n",
       "      <td>君屏</td>\n",
       "      <td>TSWN</td>\n",
       "      <td>2015</td>\n",
       "    </tr>\n",
       "    <tr>\n",
       "      <th>25336</th>\n",
       "      <td>NaN</td>\n",
       "      <td>元朗金桃</td>\n",
       "      <td>TSWN</td>\n",
       "      <td>2015</td>\n",
       "    </tr>\n",
       "    <tr>\n",
       "      <th>25338</th>\n",
       "      <td>NaN</td>\n",
       "      <td>天水圍金桃</td>\n",
       "      <td>TSWN</td>\n",
       "      <td>2015</td>\n",
       "    </tr>\n",
       "  </tbody>\n",
       "</table>\n",
       "</div>"
      ],
      "text/plain": [
       "                                                location name_zh  \\\n",
       "18169         77, Tin Shui Road, Tin Shui Wai, Yuen Long     NaN   \n",
       "18170          33, Tin Wah Road, Tin Shui Wai, Yuen Long     NaN   \n",
       "18195            2, Tin Wu Road, Tin Shui Wai, Yuen Long     NaN   \n",
       "18296                                                NaN     NaN   \n",
       "18358       3, Tin Ching Street, Tin Shui Wai, Yuen Long     NaN   \n",
       "19579        1, Tin Chung Court, Tin Shui Wai, Yuen Long     NaN   \n",
       "19585       12-18, Tin Yan Road, Tin Shui Wai, Yuen Long     NaN   \n",
       "19620  Shop Tis 42, Unpaid Concourse, Tin Shui Wai St...     NaN   \n",
       "19637          9, Tin Shui Road, Tin Shui Wai, Yuen Long     NaN   \n",
       "19813       30-33, Tin Wah Road, Tin Shui Wai, Yuen Long     NaN   \n",
       "20700  Shop Tis 29, MTR Tin Shui Wai Station, Tin Shu...     NaN   \n",
       "20701       3, Tin Shing Street, Tin Shui Wai, Yuen Long     NaN   \n",
       "20891  71, 73, 75 & 77, Tin Shui Road, Tin Shui Wai, ...     NaN   \n",
       "21177  3/F, Tin Ching Amenity and Community Building,...     NaN   \n",
       "21420        1, Tin Chung Court, Tin Shui Wai, Yuen Long    頌富山崎   \n",
       "21421            2, Tin Wu Road, Tin Shui Wai, Yuen Long    天耀街市   \n",
       "21424         77, Tin Shui Road, Tin Shui Wai, Yuen Long    天澤街市   \n",
       "21427                                                NaN      個人   \n",
       "21428                                                NaN   食品供應商   \n",
       "21431                                                NaN      團體   \n",
       "21441          9, Tin Shui Road, Tin Shui Wai, Yuen Long    天瑞街市   \n",
       "21456  3/F, Tin Ching Amenity and Community Building,...  兒童發展中心   \n",
       "21673          33, Tin Wah Road, Tin Shui Wai, Yuen Long    天富街市   \n",
       "21856  71, 73, 75 & 77, Tin Shui Road, Tin Shui Wai, ...   鴻福堂天澤   \n",
       "21858       3, Tin Ching Street, Tin Shui Wai, Yuen Long    天盛街市   \n",
       "22866                757, Lai Chi Kok Road, Sham Shui Po  長沙灣菜統處   \n",
       "23784                                                NaN     飯商1   \n",
       "23862                                                NaN     飯商2   \n",
       "24043            2, Tin Wu Road, Tin Shui Wai, Yuen Long   鴻福堂天耀   \n",
       "24044  Shop Tis 29, MTR Tin Shui Wai Station, Tin Shu...   鴻福堂西鐵   \n",
       "24045       30-33, Tin Wah Road, Tin Shui Wai, Yuen Long   鴻福堂頌富   \n",
       "24188  Shop Tis 42, Unpaid Concourse, Tin Shui Wai St...    西鐵山崎   \n",
       "24465       12-18, Tin Yan Road, Tin Shui Wai, Yuen Long    銀座山崎   \n",
       "24466          9, Tin Shui Road, Tin Shui Wai, Yuen Long    天瑞ok   \n",
       "24479       30-33, Tin Wah Road, Tin Shui Wai, Yuen Long    頌富美心   \n",
       "25335                                                NaN      君屏   \n",
       "25336                                                NaN    元朗金桃   \n",
       "25338                                                NaN   天水圍金桃   \n",
       "\n",
       "      organisation_id  year  \n",
       "18169            TSWN  2014  \n",
       "18170            TSWN  2014  \n",
       "18195            TSWN  2014  \n",
       "18296            TSWN  2014  \n",
       "18358            TSWN  2014  \n",
       "19579            TSWN  2014  \n",
       "19585            TSWN  2014  \n",
       "19620            TSWN  2014  \n",
       "19637            TSWN  2014  \n",
       "19813            TSWN  2014  \n",
       "20700            TSWN  2014  \n",
       "20701            TSWN  2014  \n",
       "20891            TSWN  2014  \n",
       "21177            TSWN  2014  \n",
       "21420            TSWN  2015  \n",
       "21421            TSWN  2015  \n",
       "21424            TSWN  2015  \n",
       "21427            TSWN  2015  \n",
       "21428            TSWN  2015  \n",
       "21431            TSWN  2015  \n",
       "21441            TSWN  2015  \n",
       "21456            TSWN  2015  \n",
       "21673            TSWN  2015  \n",
       "21856            TSWN  2015  \n",
       "21858            TSWN  2015  \n",
       "22866            TSWN  2015  \n",
       "23784            TSWN  2015  \n",
       "23862            TSWN  2015  \n",
       "24043            TSWN  2015  \n",
       "24044            TSWN  2015  \n",
       "24045            TSWN  2015  \n",
       "24188            TSWN  2015  \n",
       "24465            TSWN  2015  \n",
       "24466            TSWN  2015  \n",
       "24479            TSWN  2015  \n",
       "25335            TSWN  2015  \n",
       "25336            TSWN  2015  \n",
       "25338            TSWN  2015  "
      ]
     },
     "execution_count": 30,
     "metadata": {},
     "output_type": "execute_result"
    }
   ],
   "source": [
    "df[df.organisation_id == \"TSWN\"].ix[:,(6,8,9, 13)].drop_duplicates()"
   ]
  },
  {
   "cell_type": "code",
   "execution_count": 27,
   "metadata": {
    "collapsed": false
   },
   "outputs": [
    {
     "data": {
      "text/plain": [
       "38"
      ]
     },
     "execution_count": 27,
     "metadata": {},
     "output_type": "execute_result"
    }
   ],
   "source": [
    "len(df[df.organisation_id == \"TSWN\"].ix[:,(6,8,9)].drop_duplicates())"
   ]
  },
  {
   "cell_type": "code",
   "execution_count": null,
   "metadata": {
    "collapsed": true
   },
   "outputs": [],
   "source": []
  },
  {
   "cell_type": "code",
   "execution_count": null,
   "metadata": {
    "collapsed": true
   },
   "outputs": [],
   "source": []
  },
  {
   "cell_type": "code",
   "execution_count": null,
   "metadata": {
    "collapsed": true
   },
   "outputs": [],
   "source": []
  },
  {
   "cell_type": "code",
   "execution_count": null,
   "metadata": {
    "collapsed": true
   },
   "outputs": [],
   "source": []
  },
  {
   "cell_type": "code",
   "execution_count": null,
   "metadata": {
    "collapsed": true
   },
   "outputs": [],
   "source": []
  },
  {
   "cell_type": "code",
   "execution_count": null,
   "metadata": {
    "collapsed": true
   },
   "outputs": [],
   "source": []
  },
  {
   "cell_type": "code",
   "execution_count": null,
   "metadata": {
    "collapsed": true
   },
   "outputs": [],
   "source": []
  },
  {
   "cell_type": "code",
   "execution_count": null,
   "metadata": {
    "collapsed": true
   },
   "outputs": [],
   "source": []
  },
  {
   "cell_type": "code",
   "execution_count": null,
   "metadata": {
    "collapsed": true
   },
   "outputs": [],
   "source": []
  },
  {
   "cell_type": "code",
   "execution_count": null,
   "metadata": {
    "collapsed": true
   },
   "outputs": [],
   "source": []
  },
  {
   "cell_type": "code",
   "execution_count": null,
   "metadata": {
    "collapsed": true
   },
   "outputs": [],
   "source": []
  },
  {
   "cell_type": "code",
   "execution_count": null,
   "metadata": {
    "collapsed": true
   },
   "outputs": [],
   "source": []
  }
 ],
 "metadata": {
  "kernelspec": {
   "display_name": "Python 2",
   "language": "python",
   "name": "python2"
  },
  "language_info": {
   "codemirror_mode": {
    "name": "ipython",
    "version": 2
   },
   "file_extension": ".py",
   "mimetype": "text/x-python",
   "name": "python",
   "nbconvert_exporter": "python",
   "pygments_lexer": "ipython2",
   "version": "2.7.10"
  }
 },
 "nbformat": 4,
 "nbformat_minor": 0
}
