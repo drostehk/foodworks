{
 "cells": [
  {
   "cell_type": "code",
   "execution_count": 6,
   "metadata": {
    "collapsed": false
   },
   "outputs": [],
   "source": [
    "# -*- coding: utf-8 -*-\n",
    "from __future__ import unicode_literals, division\n",
    "\n",
    "import IPython\n",
    "import warnings\n",
    "from datetime import datetime\n",
    "import numpy as np\n",
    "import pandas as pd\n",
    "import seaborn as sns\n",
    "import matplotlib as mpl\n",
    "import matplotlib.pyplot as plt\n",
    "\n",
    "from IPython.display import HTML\n",
    "from IPython.display import display as prnt\n",
    "\n",
    "import sys\n",
    "reload(sys)\n",
    "sys.setdefaultencoding(\"utf-8\")\n",
    "\n",
    "# Notebook Options\n",
    "%matplotlib inline\n",
    "warnings.filterwarnings('ignore')\n",
    "np.set_printoptions(suppress=True)\n",
    "\n",
    "# Matplotlib Styles\n",
    "c = {\n",
    "'axes.labelsize': 17,\n",
    "'axes.titlesize': 16,\n",
    "'figure.figsize': [18, 8],\n",
    "'grid.linewidth': 1.6,\n",
    "'legend.fontsize': 17,\n",
    "'lines.linewidth': 2,\n",
    "'lines.markeredgewidth': 0.0,\n",
    "'lines.markersize': 11,\n",
    "'patch.linewidth': 0.5,\n",
    "'xtick.labelsize': 16,\n",
    "'xtick.major.pad': 20,\n",
    "'xtick.major.width': 2,\n",
    "'xtick.minor.width': 1,\n",
    "'ytick.labelsize': 16.0,\n",
    "'ytick.major.pad': 20,\n",
    "'ytick.major.width': 2,\n",
    "'ytick.minor.width': 1 }\n",
    "wide_c = dict(c, **{'figure.figsize':[20,8]})\n",
    "\n",
    "# Colors // Categorical\n",
    "cm = [\n",
    "'#9c27b0',\n",
    "'#8bc34a',\n",
    "'#ffeb3b',\n",
    "'#ffc107',\n",
    "'#e91e63',\n",
    "'#ff5722',\n",
    "'#3f51b5',\n",
    "'#607d8b',\n",
    "'#03a9f4',\n",
    "'#9e9e9e',\n",
    "]\n",
    "\n",
    "cm = ['#f44336',\n",
    "'#e91e63',\n",
    "'#9c27b0',\n",
    "'#673ab7',\n",
    "'#3f51b5',\n",
    "'#2196f3',\n",
    "'#00bcd4',\n",
    "'#009688',\n",
    "'#4caf50',\n",
    "'#ffeb3b',\n",
    "'#ffc107',\n",
    "'#ff5722']\n",
    "\n",
    "cm = ['#e53935',\n",
    "'#d81b60',\n",
    "'#3949ab',\n",
    "'#00897b',\n",
    "'#00acc1',\n",
    "'#1d486d',\n",
    "'#43a047',\n",
    "'#fdd835',\n",
    "'#ffb300',\n",
    "'#f9a78d']\n",
    "\n",
    "# cm = [\n",
    "#     '#e23e2c',\n",
    "#     '#e9e396',\n",
    "#     '#4b71a7',\n",
    "#     '#4aaa5d',\n",
    "#     '#e23e2c',\n",
    "#     '#e9e396',\n",
    "#     '#4b71a7',\n",
    "#     '#4aaa5d',\n",
    "#     '#e23e2c',\n",
    "#     '#e9e396',\n",
    "#     '#4b71a7',\n",
    "#     '#4aaa5d'\n",
    "# ]\n",
    "\n",
    "# Utility Functions\n",
    "def table(df, replace_match=\"\",replace_str=\"\", print_index=True, print_header=True):\n",
    "    return IPython.display.display(HTML(df.to_html(index=print_index, header=print_header).replace('<table border=\"1\" class=\"dataframe\">','<table class=\"table table-striped table-hover\">').replace(replace_match,replace_str)))\n",
    "\n",
    "# HTML Functions\n",
    "h1 = lambda x : prnt(HTML('''<h1 style=\"text-align:center\">'''+ x +'''</h1>'''))\n",
    "h2 = lambda x: prnt(HTML('''<h2 style=\"text-align:center\">'''+ x +'''</h2>'''))\n",
    "h2_success = lambda x: prnt(HTML('''<h2 style=\"text-align:center\" class=\"alert alert-success\">'''+ x +'''</h2>'''))\n",
    "\n",
    "h3_danger = lambda x: prnt(HTML('''<h3 style=\"text-align:center\" class=\"alert alert-danger\">'''+ x +'''</h3>'''))\n",
    "h3_info = lambda x: prnt(HTML('''<h3 style=\"text-align:center\" class=\"alert alert-info\">'''+ x +'''</h3>'''))\n",
    "h3_warning = lambda x: prnt(HTML('''<h3 style=\"text-align:center\" class=\"alert alert-warning\">'''+ x +'''</h3>'''))\n",
    "\n",
    "h3 = lambda x : prnt(HTML('''<h3 style=\"text-align:center\">'''+ x +'''</h3>'''))\n",
    "p  = lambda x : prnt(HTML('''<p class=\"text_cell_render\">'''+ x +'''</p>'''))\n",
    "\n",
    "md_wrap = lambda s, m, e: reduce(lambda x, y: x + \"\".join(y), zip(s.split(m), ['<'+e+'>','</'+e+'>'] * int(len(s)/2)), \"\")[:-3] if (m in s) else s\n",
    "md_b = lambda s : md_wrap(s,'**','b')\n",
    "md_i = lambda s :  md_wrap(s,'_','i')\n",
    "\n",
    "md = lambda s : md_i(md_b(s))\n",
    "\n",
    "def ul(lis):\n",
    "    lis = ['''<div class=\"panel panel-default\"><div class=\"panel-body\">''' + md(li) + '''</div></div>''' for li in lis]\n",
    "    prnt(HTML(\"\".join(lis)))\n",
    "    \n",
    "# Client Data\n",
    "org_name = 'People Council of Social Service'\n",
    "org_code = 'PCSS'\n",
    "org_uri = '../../Data/Canonical/' + org_code + '/' + org_code\n",
    "org_data = org_uri + '.csv'\n",
    "org_i18n = org_uri + '.i18n.csv'\n",
    "org_map = org_uri + '.map.csv'\n",
    "org_units = org_uri + '.units.csv'\n",
    "org_lang = 'zh' # 'en' or 'zh'"
   ]
  },
  {
   "cell_type": "code",
   "execution_count": 7,
   "metadata": {
    "collapsed": false
   },
   "outputs": [
    {
     "data": {
      "text/html": [
       "<h1 style=\"text-align:center\">FOOD CONNECT | REPORT</h1>"
      ],
      "text/plain": [
       "<IPython.core.display.HTML object>"
      ]
     },
     "metadata": {},
     "output_type": "display_data"
    }
   ],
   "source": [
    "h1('FOOD CONNECT | REPORT')"
   ]
  },
  {
   "cell_type": "code",
   "execution_count": 8,
   "metadata": {
    "collapsed": false
   },
   "outputs": [
    {
     "data": {
      "text/html": [
       "<h2 style=\"text-align:center\">People Council of Social Service</h2>"
      ],
      "text/plain": [
       "<IPython.core.display.HTML object>"
      ]
     },
     "metadata": {},
     "output_type": "display_data"
    }
   ],
   "source": [
    "h2(org_name)"
   ]
  },
  {
   "cell_type": "code",
   "execution_count": 9,
   "metadata": {
    "collapsed": false
   },
   "outputs": [
    {
     "data": {
      "text/html": [
       "<script>\n",
       "\n",
       "code_show=true;\n",
       "\n",
       "function code_toggle() {\n",
       "    if (code_show){ \n",
       "        $('div.input').hide();\n",
       "        $('.output_scroll').removeClass('output_scroll');\n",
       "        $('.prompt').hide();\n",
       "    } else {\n",
       "        $('div.input').show();\n",
       "        $('.output_scroll').removeClass('output_scroll');\n",
       "        $('.prompt').show();\n",
       "    }\n",
       "    code_show = !code_show\n",
       "}\n",
       "</script>\n",
       " \n",
       "<a class='btn btn-warning btn-lg' style=\"margin:0 auto; display:block; max-width:320px\" href=\"javascript:code_toggle()\">TOGGLE CODE</a>"
      ],
      "text/plain": [
       "<IPython.core.display.HTML object>"
      ]
     },
     "execution_count": 9,
     "metadata": {},
     "output_type": "execute_result"
    }
   ],
   "source": [
    "HTML('''<script>\n",
    "\n",
    "code_show=true;\n",
    "\n",
    "function code_toggle() {\n",
    "    if (code_show){ \n",
    "        $('div.input').hide();\n",
    "        $('.output_scroll').removeClass('output_scroll');\n",
    "        $('.prompt').hide();\n",
    "    } else {\n",
    "        $('div.input').show();\n",
    "        $('.output_scroll').removeClass('output_scroll');\n",
    "        $('.prompt').show();\n",
    "    }\n",
    "    code_show = !code_show\n",
    "}\n",
    "</script>\n",
    " \n",
    "<a class='btn btn-warning btn-lg' style=\"margin:0 auto; display:block; max-width:320px\" href=\"javascript:code_toggle()\">TOGGLE CODE</a>''')"
   ]
  },
  {
   "cell_type": "code",
   "execution_count": 32,
   "metadata": {
    "collapsed": false
   },
   "outputs": [
    {
     "data": {
      "text/plain": [
       "array([u'Leafy Veg', u'Ground Veg', u'Soy Products', u'Fruit', u'Bread',\n",
       "       u'Staple', u'Frozen', u'Condiment', u'Drinks', u'Cooked Food',\n",
       "       u'Packaged Other', u'Fresh Other', u'Milk Powder', u'Meat',\n",
       "       u'Seafood', nan], dtype=object)"
      ]
     },
     "execution_count": 32,
     "metadata": {},
     "output_type": "execute_result"
    }
   ],
   "source": [
    "df_map.canonical.unique()"
   ]
  },
  {
   "cell_type": "code",
   "execution_count": 52,
   "metadata": {
    "collapsed": false
   },
   "outputs": [
    {
     "data": {
      "text/plain": [
       "unicode"
      ]
     },
     "execution_count": 52,
     "metadata": {},
     "output_type": "execute_result"
    }
   ],
   "source": [
    "type(cate_list[len(cate_list)-2])"
   ]
  },
  {
   "cell_type": "code",
   "execution_count": 56,
   "metadata": {
    "collapsed": false
   },
   "outputs": [
    {
     "data": {
      "text/plain": [
       "[u'Leafy Veg',\n",
       " u'Ground Veg',\n",
       " u'Soy Products',\n",
       " u'Fruit',\n",
       " u'Bread',\n",
       " u'Staple',\n",
       " u'Frozen',\n",
       " u'Condiment',\n",
       " u'Drinks',\n",
       " u'Cooked Food',\n",
       " u'Packaged Other',\n",
       " u'Fresh Other',\n",
       " u'Milk Powder',\n",
       " u'Meat',\n",
       " u'Seafood']"
      ]
     },
     "execution_count": 56,
     "metadata": {},
     "output_type": "execute_result"
    }
   ],
   "source": [
    "\n",
    "cate_list"
   ]
  },
  {
   "cell_type": "code",
   "execution_count": 59,
   "metadata": {
    "collapsed": true
   },
   "outputs": [],
   "source": [
    "category = cate_list[1]"
   ]
  },
  {
   "cell_type": "code",
   "execution_count": 66,
   "metadata": {
    "collapsed": false,
    "scrolled": true
   },
   "outputs": [
    {
     "data": {
      "text/plain": [
       "'\\\\u96de\\\\u813e\\\\u8339'"
      ]
     },
     "execution_count": 66,
     "metadata": {},
     "output_type": "execute_result"
    }
   ],
   "source": [
    "#df['\\\\u96de\\\\u813e\\\\u8339'].head()\n",
    "str('\\\\u96de\\\\u813e\\\\u8339')"
   ]
  },
  {
   "cell_type": "code",
   "execution_count": 76,
   "metadata": {
    "collapsed": false
   },
   "outputs": [
    {
     "data": {
      "text/html": [
       "<div>\n",
       "<table border=\"1\" class=\"dataframe\">\n",
       "  <thead>\n",
       "    <tr style=\"text-align: right;\">\n",
       "      <th></th>\n",
       "      <th></th>\n",
       "      <th></th>\n",
       "      <th></th>\n",
       "      <th>菜 (kg)</th>\n",
       "      <th>麵包 (kg)</th>\n",
       "      <th>生果 (kg)</th>\n",
       "      <th>其他 (kg)</th>\n",
       "      <th>其他 (種類)</th>\n",
       "      <th>酒席</th>\n",
       "      <th>菜肉包</th>\n",
       "      <th>文理書院飯盒</th>\n",
       "      <th>龜岺膏</th>\n",
       "      <th>豆腐</th>\n",
       "      <th>...</th>\n",
       "      <th>罐頭蠔菇</th>\n",
       "      <th>豆漿</th>\n",
       "      <th>干麵</th>\n",
       "      <th>麥皮</th>\n",
       "      <th>橄欖油</th>\n",
       "      <th>剩食</th>\n",
       "      <th>魚蛋</th>\n",
       "      <th>豆腐乾</th>\n",
       "      <th>竹荀包</th>\n",
       "      <th>金菇包</th>\n",
       "    </tr>\n",
       "    <tr>\n",
       "      <th>NGO</th>\n",
       "      <th>Programme</th>\n",
       "      <th>Donor</th>\n",
       "      <th>Datetime</th>\n",
       "      <th></th>\n",
       "      <th></th>\n",
       "      <th></th>\n",
       "      <th></th>\n",
       "      <th></th>\n",
       "      <th></th>\n",
       "      <th></th>\n",
       "      <th></th>\n",
       "      <th></th>\n",
       "      <th></th>\n",
       "      <th></th>\n",
       "      <th></th>\n",
       "      <th></th>\n",
       "      <th></th>\n",
       "      <th></th>\n",
       "      <th></th>\n",
       "      <th></th>\n",
       "      <th></th>\n",
       "      <th></th>\n",
       "      <th></th>\n",
       "      <th></th>\n",
       "    </tr>\n",
       "  </thead>\n",
       "  <tbody>\n",
       "    <tr>\n",
       "      <th rowspan=\"5\" valign=\"top\">PCSS</th>\n",
       "      <th rowspan=\"5\" valign=\"top\">General</th>\n",
       "      <th rowspan=\"5\" valign=\"top\">General</th>\n",
       "      <th>2014-03-01</th>\n",
       "      <td>0</td>\n",
       "      <td>0</td>\n",
       "      <td>0</td>\n",
       "      <td>0</td>\n",
       "      <td>0</td>\n",
       "      <td>0</td>\n",
       "      <td>0</td>\n",
       "      <td>0</td>\n",
       "      <td>0</td>\n",
       "      <td>0</td>\n",
       "      <td>...</td>\n",
       "      <td>0</td>\n",
       "      <td>0</td>\n",
       "      <td>0</td>\n",
       "      <td>0</td>\n",
       "      <td>0</td>\n",
       "      <td>0</td>\n",
       "      <td>0</td>\n",
       "      <td>0</td>\n",
       "      <td>0</td>\n",
       "      <td>0</td>\n",
       "    </tr>\n",
       "    <tr>\n",
       "      <th>2014-03-02</th>\n",
       "      <td>0</td>\n",
       "      <td>0</td>\n",
       "      <td>0</td>\n",
       "      <td>0</td>\n",
       "      <td>0</td>\n",
       "      <td>0</td>\n",
       "      <td>0</td>\n",
       "      <td>0</td>\n",
       "      <td>0</td>\n",
       "      <td>0</td>\n",
       "      <td>...</td>\n",
       "      <td>0</td>\n",
       "      <td>0</td>\n",
       "      <td>0</td>\n",
       "      <td>0</td>\n",
       "      <td>0</td>\n",
       "      <td>0</td>\n",
       "      <td>0</td>\n",
       "      <td>0</td>\n",
       "      <td>0</td>\n",
       "      <td>0</td>\n",
       "    </tr>\n",
       "    <tr>\n",
       "      <th>2014-03-03</th>\n",
       "      <td>0</td>\n",
       "      <td>0</td>\n",
       "      <td>0</td>\n",
       "      <td>0</td>\n",
       "      <td>0</td>\n",
       "      <td>0</td>\n",
       "      <td>0</td>\n",
       "      <td>0</td>\n",
       "      <td>0</td>\n",
       "      <td>0</td>\n",
       "      <td>...</td>\n",
       "      <td>0</td>\n",
       "      <td>0</td>\n",
       "      <td>0</td>\n",
       "      <td>0</td>\n",
       "      <td>0</td>\n",
       "      <td>0</td>\n",
       "      <td>0</td>\n",
       "      <td>0</td>\n",
       "      <td>0</td>\n",
       "      <td>0</td>\n",
       "    </tr>\n",
       "    <tr>\n",
       "      <th>2014-03-04</th>\n",
       "      <td>0</td>\n",
       "      <td>0</td>\n",
       "      <td>0</td>\n",
       "      <td>0</td>\n",
       "      <td>0</td>\n",
       "      <td>0</td>\n",
       "      <td>0</td>\n",
       "      <td>0</td>\n",
       "      <td>0</td>\n",
       "      <td>0</td>\n",
       "      <td>...</td>\n",
       "      <td>0</td>\n",
       "      <td>0</td>\n",
       "      <td>0</td>\n",
       "      <td>0</td>\n",
       "      <td>0</td>\n",
       "      <td>0</td>\n",
       "      <td>0</td>\n",
       "      <td>0</td>\n",
       "      <td>0</td>\n",
       "      <td>0</td>\n",
       "    </tr>\n",
       "    <tr>\n",
       "      <th>2014-03-05</th>\n",
       "      <td>0</td>\n",
       "      <td>0</td>\n",
       "      <td>0</td>\n",
       "      <td>0</td>\n",
       "      <td>0</td>\n",
       "      <td>0</td>\n",
       "      <td>0</td>\n",
       "      <td>0</td>\n",
       "      <td>0</td>\n",
       "      <td>0</td>\n",
       "      <td>...</td>\n",
       "      <td>0</td>\n",
       "      <td>0</td>\n",
       "      <td>0</td>\n",
       "      <td>0</td>\n",
       "      <td>0</td>\n",
       "      <td>0</td>\n",
       "      <td>0</td>\n",
       "      <td>0</td>\n",
       "      <td>0</td>\n",
       "      <td>0</td>\n",
       "    </tr>\n",
       "  </tbody>\n",
       "</table>\n",
       "<p>5 rows × 55 columns</p>\n",
       "</div>"
      ],
      "text/plain": [
       "                                   菜 (kg)  麵包 (kg)  生果 (kg)  其他 (kg)  其他 (種類)  \\\n",
       "NGO  Programme Donor   Datetime                                                 \n",
       "PCSS General   General 2014-03-01       0        0        0        0        0   \n",
       "                       2014-03-02       0        0        0        0        0   \n",
       "                       2014-03-03       0        0        0        0        0   \n",
       "                       2014-03-04       0        0        0        0        0   \n",
       "                       2014-03-05       0        0        0        0        0   \n",
       "\n",
       "                                   酒席  菜肉包  文理書院飯盒  龜岺膏  豆腐 ...   罐頭蠔菇  豆漿  \\\n",
       "NGO  Programme Donor   Datetime                             ...              \n",
       "PCSS General   General 2014-03-01   0    0       0    0   0 ...      0   0   \n",
       "                       2014-03-02   0    0       0    0   0 ...      0   0   \n",
       "                       2014-03-03   0    0       0    0   0 ...      0   0   \n",
       "                       2014-03-04   0    0       0    0   0 ...      0   0   \n",
       "                       2014-03-05   0    0       0    0   0 ...      0   0   \n",
       "\n",
       "                                   干麵  麥皮  橄欖油  剩食  魚蛋  豆腐乾  竹荀包  金菇包  \n",
       "NGO  Programme Donor   Datetime                                        \n",
       "PCSS General   General 2014-03-01   0   0    0   0   0    0    0    0  \n",
       "                       2014-03-02   0   0    0   0   0    0    0    0  \n",
       "                       2014-03-03   0   0    0   0   0    0    0    0  \n",
       "                       2014-03-04   0   0    0   0   0    0    0    0  \n",
       "                       2014-03-05   0   0    0   0   0    0    0    0  \n",
       "\n",
       "[5 rows x 55 columns]"
      ]
     },
     "execution_count": 76,
     "metadata": {},
     "output_type": "execute_result"
    }
   ],
   "source": [
    "df.head()"
   ]
  },
  {
   "cell_type": "code",
   "execution_count": 71,
   "metadata": {
    "collapsed": false
   },
   "outputs": [
    {
     "data": {
      "text/plain": [
       "u'\\u83dc\\u8089\\u5305'"
      ]
     },
     "execution_count": 71,
     "metadata": {},
     "output_type": "execute_result"
    }
   ],
   "source": [
    "unicode('菜肉包')"
   ]
  },
  {
   "cell_type": "code",
   "execution_count": 74,
   "metadata": {
    "collapsed": false
   },
   "outputs": [],
   "source": [
    "df.columns = df.columns.values"
   ]
  },
  {
   "cell_type": "code",
   "execution_count": null,
   "metadata": {
    "collapsed": true
   },
   "outputs": [],
   "source": [
    "dfg = pd.DataFrame()\n",
    "for category in df_map.canonical.unique():\n",
    "    dfg[category] = df[df_map[df_map.canonical == category].category.values].sum(axis=1)\n",
    "\n"
   ]
  },
  {
   "cell_type": "code",
   "execution_count": 68,
   "metadata": {
    "collapsed": false
   },
   "outputs": [
    {
     "data": {
      "text/plain": [
       "'\\\\u96de\\\\u813e\\\\u8339'"
      ]
     },
     "execution_count": 68,
     "metadata": {},
     "output_type": "execute_result"
    }
   ],
   "source": [
    "u'\\\\u96de\\\\u813e\\\\u8339'.encode('utf8')"
   ]
  },
  {
   "cell_type": "code",
   "execution_count": 75,
   "metadata": {
    "collapsed": false
   },
   "outputs": [
    {
     "ename": "KeyError",
     "evalue": "\"[u'\\\\u852c\\\\u83dc' u'\\\\u96de\\\\u813e\\\\u8339' u'\\\\u852c\\\\u83dc' u'\\\\u74dc\\\\u83dc'\\n u'\\\\u852c\\\\u83dc' u'\\\\u74dc\\\\u83dc' u'\\\\u852c\\\\u83dc' u'\\\\u852c\\\\u83dc'\\n u'\\\\u74dc\\\\u83dc' u'\\\\u74dc\\\\u83dc (\\\\u60dc\\\\u98df\\\\u5802)' u'\\\\u852c\\\\u83dc'\\n u'\\\\u74dc\\\\u83dc' u'\\\\u852c\\\\u83dc' u'\\\\u74dc\\\\u83dc'] not in index\"",
     "output_type": "error",
     "traceback": [
      "\u001b[0;31m---------------------------------------------------------------------------\u001b[0m",
      "\u001b[0;31mKeyError\u001b[0m                                  Traceback (most recent call last)",
      "\u001b[0;32m<ipython-input-75-1b6099a99e1f>\u001b[0m in \u001b[0;36m<module>\u001b[0;34m()\u001b[0m\n\u001b[1;32m      3\u001b[0m \u001b[0mcate_list\u001b[0m \u001b[0;34m=\u001b[0m \u001b[0;34m[\u001b[0m\u001b[0mx\u001b[0m \u001b[0;32mfor\u001b[0m \u001b[0mx\u001b[0m \u001b[0;32min\u001b[0m \u001b[0mcate_list\u001b[0m \u001b[0;32mif\u001b[0m \u001b[0mtype\u001b[0m\u001b[0;34m(\u001b[0m\u001b[0mx\u001b[0m\u001b[0;34m)\u001b[0m \u001b[0;34m==\u001b[0m \u001b[0municode\u001b[0m\u001b[0;34m]\u001b[0m\u001b[0;34m\u001b[0m\u001b[0m\n\u001b[1;32m      4\u001b[0m \u001b[0;32mfor\u001b[0m \u001b[0mcategory\u001b[0m \u001b[0;32min\u001b[0m \u001b[0mcate_list\u001b[0m\u001b[0;34m:\u001b[0m\u001b[0;34m\u001b[0m\u001b[0m\n\u001b[0;32m----> 5\u001b[0;31m     \u001b[0mdfg\u001b[0m\u001b[0;34m[\u001b[0m\u001b[0mcategory\u001b[0m\u001b[0;34m]\u001b[0m \u001b[0;34m=\u001b[0m \u001b[0mdf\u001b[0m\u001b[0;34m[\u001b[0m\u001b[0mdf_map\u001b[0m\u001b[0;34m[\u001b[0m\u001b[0mdf_map\u001b[0m\u001b[0;34m.\u001b[0m\u001b[0mcanonical\u001b[0m \u001b[0;34m==\u001b[0m \u001b[0mcategory\u001b[0m\u001b[0;34m]\u001b[0m\u001b[0;34m.\u001b[0m\u001b[0mcategory\u001b[0m\u001b[0;34m.\u001b[0m\u001b[0mvalues\u001b[0m\u001b[0;34m]\u001b[0m\u001b[0;34m.\u001b[0m\u001b[0msum\u001b[0m\u001b[0;34m(\u001b[0m\u001b[0maxis\u001b[0m\u001b[0;34m=\u001b[0m\u001b[0;36m1\u001b[0m\u001b[0;34m)\u001b[0m\u001b[0;34m\u001b[0m\u001b[0m\n\u001b[0m\u001b[1;32m      6\u001b[0m \u001b[0;34m\u001b[0m\u001b[0m\n",
      "\u001b[0;32m/Users/DicksonK/anaconda/lib/python2.7/site-packages/pandas/core/frame.pyc\u001b[0m in \u001b[0;36m__getitem__\u001b[0;34m(self, key)\u001b[0m\n\u001b[1;32m   1906\u001b[0m         \u001b[0;32mif\u001b[0m \u001b[0misinstance\u001b[0m\u001b[0;34m(\u001b[0m\u001b[0mkey\u001b[0m\u001b[0;34m,\u001b[0m \u001b[0;34m(\u001b[0m\u001b[0mSeries\u001b[0m\u001b[0;34m,\u001b[0m \u001b[0mnp\u001b[0m\u001b[0;34m.\u001b[0m\u001b[0mndarray\u001b[0m\u001b[0;34m,\u001b[0m \u001b[0mIndex\u001b[0m\u001b[0;34m,\u001b[0m \u001b[0mlist\u001b[0m\u001b[0;34m)\u001b[0m\u001b[0;34m)\u001b[0m\u001b[0;34m:\u001b[0m\u001b[0;34m\u001b[0m\u001b[0m\n\u001b[1;32m   1907\u001b[0m             \u001b[0;31m# either boolean or fancy integer index\u001b[0m\u001b[0;34m\u001b[0m\u001b[0;34m\u001b[0m\u001b[0m\n\u001b[0;32m-> 1908\u001b[0;31m             \u001b[0;32mreturn\u001b[0m \u001b[0mself\u001b[0m\u001b[0;34m.\u001b[0m\u001b[0m_getitem_array\u001b[0m\u001b[0;34m(\u001b[0m\u001b[0mkey\u001b[0m\u001b[0;34m)\u001b[0m\u001b[0;34m\u001b[0m\u001b[0m\n\u001b[0m\u001b[1;32m   1909\u001b[0m         \u001b[0;32melif\u001b[0m \u001b[0misinstance\u001b[0m\u001b[0;34m(\u001b[0m\u001b[0mkey\u001b[0m\u001b[0;34m,\u001b[0m \u001b[0mDataFrame\u001b[0m\u001b[0;34m)\u001b[0m\u001b[0;34m:\u001b[0m\u001b[0;34m\u001b[0m\u001b[0m\n\u001b[1;32m   1910\u001b[0m             \u001b[0;32mreturn\u001b[0m \u001b[0mself\u001b[0m\u001b[0;34m.\u001b[0m\u001b[0m_getitem_frame\u001b[0m\u001b[0;34m(\u001b[0m\u001b[0mkey\u001b[0m\u001b[0;34m)\u001b[0m\u001b[0;34m\u001b[0m\u001b[0m\n",
      "\u001b[0;32m/Users/DicksonK/anaconda/lib/python2.7/site-packages/pandas/core/frame.pyc\u001b[0m in \u001b[0;36m_getitem_array\u001b[0;34m(self, key)\u001b[0m\n\u001b[1;32m   1950\u001b[0m             \u001b[0;32mreturn\u001b[0m \u001b[0mself\u001b[0m\u001b[0;34m.\u001b[0m\u001b[0mtake\u001b[0m\u001b[0;34m(\u001b[0m\u001b[0mindexer\u001b[0m\u001b[0;34m,\u001b[0m \u001b[0maxis\u001b[0m\u001b[0;34m=\u001b[0m\u001b[0;36m0\u001b[0m\u001b[0;34m,\u001b[0m \u001b[0mconvert\u001b[0m\u001b[0;34m=\u001b[0m\u001b[0mFalse\u001b[0m\u001b[0;34m)\u001b[0m\u001b[0;34m\u001b[0m\u001b[0m\n\u001b[1;32m   1951\u001b[0m         \u001b[0;32melse\u001b[0m\u001b[0;34m:\u001b[0m\u001b[0;34m\u001b[0m\u001b[0m\n\u001b[0;32m-> 1952\u001b[0;31m             \u001b[0mindexer\u001b[0m \u001b[0;34m=\u001b[0m \u001b[0mself\u001b[0m\u001b[0;34m.\u001b[0m\u001b[0mix\u001b[0m\u001b[0;34m.\u001b[0m\u001b[0m_convert_to_indexer\u001b[0m\u001b[0;34m(\u001b[0m\u001b[0mkey\u001b[0m\u001b[0;34m,\u001b[0m \u001b[0maxis\u001b[0m\u001b[0;34m=\u001b[0m\u001b[0;36m1\u001b[0m\u001b[0;34m)\u001b[0m\u001b[0;34m\u001b[0m\u001b[0m\n\u001b[0m\u001b[1;32m   1953\u001b[0m             \u001b[0;32mreturn\u001b[0m \u001b[0mself\u001b[0m\u001b[0;34m.\u001b[0m\u001b[0mtake\u001b[0m\u001b[0;34m(\u001b[0m\u001b[0mindexer\u001b[0m\u001b[0;34m,\u001b[0m \u001b[0maxis\u001b[0m\u001b[0;34m=\u001b[0m\u001b[0;36m1\u001b[0m\u001b[0;34m,\u001b[0m \u001b[0mconvert\u001b[0m\u001b[0;34m=\u001b[0m\u001b[0mTrue\u001b[0m\u001b[0;34m)\u001b[0m\u001b[0;34m\u001b[0m\u001b[0m\n\u001b[1;32m   1954\u001b[0m \u001b[0;34m\u001b[0m\u001b[0m\n",
      "\u001b[0;32m/Users/DicksonK/anaconda/lib/python2.7/site-packages/pandas/core/indexing.pyc\u001b[0m in \u001b[0;36m_convert_to_indexer\u001b[0;34m(self, obj, axis, is_setter)\u001b[0m\n\u001b[1;32m   1119\u001b[0m                 \u001b[0mmask\u001b[0m \u001b[0;34m=\u001b[0m \u001b[0mcheck\u001b[0m \u001b[0;34m==\u001b[0m \u001b[0;34m-\u001b[0m\u001b[0;36m1\u001b[0m\u001b[0;34m\u001b[0m\u001b[0m\n\u001b[1;32m   1120\u001b[0m                 \u001b[0;32mif\u001b[0m \u001b[0mmask\u001b[0m\u001b[0;34m.\u001b[0m\u001b[0many\u001b[0m\u001b[0;34m(\u001b[0m\u001b[0;34m)\u001b[0m\u001b[0;34m:\u001b[0m\u001b[0;34m\u001b[0m\u001b[0m\n\u001b[0;32m-> 1121\u001b[0;31m                     \u001b[0;32mraise\u001b[0m \u001b[0mKeyError\u001b[0m\u001b[0;34m(\u001b[0m\u001b[0;34m'%s not in index'\u001b[0m \u001b[0;34m%\u001b[0m \u001b[0mobjarr\u001b[0m\u001b[0;34m[\u001b[0m\u001b[0mmask\u001b[0m\u001b[0;34m]\u001b[0m\u001b[0;34m)\u001b[0m\u001b[0;34m\u001b[0m\u001b[0m\n\u001b[0m\u001b[1;32m   1122\u001b[0m \u001b[0;34m\u001b[0m\u001b[0m\n\u001b[1;32m   1123\u001b[0m                 \u001b[0;32mreturn\u001b[0m \u001b[0m_values_from_object\u001b[0m\u001b[0;34m(\u001b[0m\u001b[0mindexer\u001b[0m\u001b[0;34m)\u001b[0m\u001b[0;34m\u001b[0m\u001b[0m\n",
      "\u001b[0;31mKeyError\u001b[0m: \"[u'\\\\u852c\\\\u83dc' u'\\\\u96de\\\\u813e\\\\u8339' u'\\\\u852c\\\\u83dc' u'\\\\u74dc\\\\u83dc'\\n u'\\\\u852c\\\\u83dc' u'\\\\u74dc\\\\u83dc' u'\\\\u852c\\\\u83dc' u'\\\\u852c\\\\u83dc'\\n u'\\\\u74dc\\\\u83dc' u'\\\\u74dc\\\\u83dc (\\\\u60dc\\\\u98df\\\\u5802)' u'\\\\u852c\\\\u83dc'\\n u'\\\\u74dc\\\\u83dc' u'\\\\u852c\\\\u83dc' u'\\\\u74dc\\\\u83dc'] not in index\""
     ]
    }
   ],
   "source": [
    "dfg = pd.DataFrame()\n",
    "cate_list = df_map.canonical.unique()\n",
    "cate_list = [x for x in cate_list if type(x) == unicode] \n",
    "for category in cate_list:\n",
    "    dfg[category] = df[df_map[df_map.canonical == category].category.values].sum(axis=1)\n",
    "\n"
   ]
  },
  {
   "cell_type": "code",
   "execution_count": 28,
   "metadata": {
    "collapsed": false,
    "scrolled": false
   },
   "outputs": [
    {
     "ename": "KeyError",
     "evalue": "\"[u'\\\\u852c\\\\u83dc' u'\\\\u96de\\\\u813e\\\\u8339' u'\\\\u852c\\\\u83dc' u'\\\\u74dc\\\\u83dc'\\n u'\\\\u852c\\\\u83dc' u'\\\\u74dc\\\\u83dc' u'\\\\u852c\\\\u83dc' u'\\\\u852c\\\\u83dc'\\n u'\\\\u74dc\\\\u83dc' u'\\\\u74dc\\\\u83dc (\\\\u60dc\\\\u98df\\\\u5802)' u'\\\\u852c\\\\u83dc'\\n u'\\\\u74dc\\\\u83dc' u'\\\\u852c\\\\u83dc' u'\\\\u74dc\\\\u83dc'] not in index\"",
     "output_type": "error",
     "traceback": [
      "\u001b[0;31m---------------------------------------------------------------------------\u001b[0m",
      "\u001b[0;31mKeyError\u001b[0m                                  Traceback (most recent call last)",
      "\u001b[0;32m<ipython-input-28-764454f7593a>\u001b[0m in \u001b[0;36m<module>\u001b[0;34m()\u001b[0m\n\u001b[1;32m     31\u001b[0m \u001b[0mdfg\u001b[0m \u001b[0;34m=\u001b[0m \u001b[0mpd\u001b[0m\u001b[0;34m.\u001b[0m\u001b[0mDataFrame\u001b[0m\u001b[0;34m(\u001b[0m\u001b[0;34m)\u001b[0m\u001b[0;34m\u001b[0m\u001b[0m\n\u001b[1;32m     32\u001b[0m \u001b[0;32mfor\u001b[0m \u001b[0mcategory\u001b[0m \u001b[0;32min\u001b[0m \u001b[0mdf_map\u001b[0m\u001b[0;34m.\u001b[0m\u001b[0mcanonical\u001b[0m\u001b[0;34m.\u001b[0m\u001b[0munique\u001b[0m\u001b[0;34m(\u001b[0m\u001b[0;34m)\u001b[0m\u001b[0;34m:\u001b[0m\u001b[0;34m\u001b[0m\u001b[0m\n\u001b[0;32m---> 33\u001b[0;31m     \u001b[0mdfg\u001b[0m\u001b[0;34m[\u001b[0m\u001b[0mcategory\u001b[0m\u001b[0;34m]\u001b[0m \u001b[0;34m=\u001b[0m \u001b[0mdf\u001b[0m\u001b[0;34m[\u001b[0m\u001b[0mdf_map\u001b[0m\u001b[0;34m[\u001b[0m\u001b[0mdf_map\u001b[0m\u001b[0;34m.\u001b[0m\u001b[0mcanonical\u001b[0m \u001b[0;34m==\u001b[0m \u001b[0mcategory\u001b[0m\u001b[0;34m]\u001b[0m\u001b[0;34m.\u001b[0m\u001b[0mcategory\u001b[0m\u001b[0;34m.\u001b[0m\u001b[0mvalues\u001b[0m\u001b[0;34m]\u001b[0m\u001b[0;34m.\u001b[0m\u001b[0msum\u001b[0m\u001b[0;34m(\u001b[0m\u001b[0maxis\u001b[0m\u001b[0;34m=\u001b[0m\u001b[0;36m1\u001b[0m\u001b[0;34m)\u001b[0m\u001b[0;34m\u001b[0m\u001b[0m\n\u001b[0m\u001b[1;32m     34\u001b[0m \u001b[0;34m\u001b[0m\u001b[0m\n\u001b[1;32m     35\u001b[0m \u001b[0;31m# Timeseries\u001b[0m\u001b[0;34m\u001b[0m\u001b[0;34m\u001b[0m\u001b[0m\n",
      "\u001b[0;32m/Users/DicksonK/anaconda/lib/python2.7/site-packages/pandas/core/frame.pyc\u001b[0m in \u001b[0;36m__getitem__\u001b[0;34m(self, key)\u001b[0m\n\u001b[1;32m   1906\u001b[0m         \u001b[0;32mif\u001b[0m \u001b[0misinstance\u001b[0m\u001b[0;34m(\u001b[0m\u001b[0mkey\u001b[0m\u001b[0;34m,\u001b[0m \u001b[0;34m(\u001b[0m\u001b[0mSeries\u001b[0m\u001b[0;34m,\u001b[0m \u001b[0mnp\u001b[0m\u001b[0;34m.\u001b[0m\u001b[0mndarray\u001b[0m\u001b[0;34m,\u001b[0m \u001b[0mIndex\u001b[0m\u001b[0;34m,\u001b[0m \u001b[0mlist\u001b[0m\u001b[0;34m)\u001b[0m\u001b[0;34m)\u001b[0m\u001b[0;34m:\u001b[0m\u001b[0;34m\u001b[0m\u001b[0m\n\u001b[1;32m   1907\u001b[0m             \u001b[0;31m# either boolean or fancy integer index\u001b[0m\u001b[0;34m\u001b[0m\u001b[0;34m\u001b[0m\u001b[0m\n\u001b[0;32m-> 1908\u001b[0;31m             \u001b[0;32mreturn\u001b[0m \u001b[0mself\u001b[0m\u001b[0;34m.\u001b[0m\u001b[0m_getitem_array\u001b[0m\u001b[0;34m(\u001b[0m\u001b[0mkey\u001b[0m\u001b[0;34m)\u001b[0m\u001b[0;34m\u001b[0m\u001b[0m\n\u001b[0m\u001b[1;32m   1909\u001b[0m         \u001b[0;32melif\u001b[0m \u001b[0misinstance\u001b[0m\u001b[0;34m(\u001b[0m\u001b[0mkey\u001b[0m\u001b[0;34m,\u001b[0m \u001b[0mDataFrame\u001b[0m\u001b[0;34m)\u001b[0m\u001b[0;34m:\u001b[0m\u001b[0;34m\u001b[0m\u001b[0m\n\u001b[1;32m   1910\u001b[0m             \u001b[0;32mreturn\u001b[0m \u001b[0mself\u001b[0m\u001b[0;34m.\u001b[0m\u001b[0m_getitem_frame\u001b[0m\u001b[0;34m(\u001b[0m\u001b[0mkey\u001b[0m\u001b[0;34m)\u001b[0m\u001b[0;34m\u001b[0m\u001b[0m\n",
      "\u001b[0;32m/Users/DicksonK/anaconda/lib/python2.7/site-packages/pandas/core/frame.pyc\u001b[0m in \u001b[0;36m_getitem_array\u001b[0;34m(self, key)\u001b[0m\n\u001b[1;32m   1950\u001b[0m             \u001b[0;32mreturn\u001b[0m \u001b[0mself\u001b[0m\u001b[0;34m.\u001b[0m\u001b[0mtake\u001b[0m\u001b[0;34m(\u001b[0m\u001b[0mindexer\u001b[0m\u001b[0;34m,\u001b[0m \u001b[0maxis\u001b[0m\u001b[0;34m=\u001b[0m\u001b[0;36m0\u001b[0m\u001b[0;34m,\u001b[0m \u001b[0mconvert\u001b[0m\u001b[0;34m=\u001b[0m\u001b[0mFalse\u001b[0m\u001b[0;34m)\u001b[0m\u001b[0;34m\u001b[0m\u001b[0m\n\u001b[1;32m   1951\u001b[0m         \u001b[0;32melse\u001b[0m\u001b[0;34m:\u001b[0m\u001b[0;34m\u001b[0m\u001b[0m\n\u001b[0;32m-> 1952\u001b[0;31m             \u001b[0mindexer\u001b[0m \u001b[0;34m=\u001b[0m \u001b[0mself\u001b[0m\u001b[0;34m.\u001b[0m\u001b[0mix\u001b[0m\u001b[0;34m.\u001b[0m\u001b[0m_convert_to_indexer\u001b[0m\u001b[0;34m(\u001b[0m\u001b[0mkey\u001b[0m\u001b[0;34m,\u001b[0m \u001b[0maxis\u001b[0m\u001b[0;34m=\u001b[0m\u001b[0;36m1\u001b[0m\u001b[0;34m)\u001b[0m\u001b[0;34m\u001b[0m\u001b[0m\n\u001b[0m\u001b[1;32m   1953\u001b[0m             \u001b[0;32mreturn\u001b[0m \u001b[0mself\u001b[0m\u001b[0;34m.\u001b[0m\u001b[0mtake\u001b[0m\u001b[0;34m(\u001b[0m\u001b[0mindexer\u001b[0m\u001b[0;34m,\u001b[0m \u001b[0maxis\u001b[0m\u001b[0;34m=\u001b[0m\u001b[0;36m1\u001b[0m\u001b[0;34m,\u001b[0m \u001b[0mconvert\u001b[0m\u001b[0;34m=\u001b[0m\u001b[0mTrue\u001b[0m\u001b[0;34m)\u001b[0m\u001b[0;34m\u001b[0m\u001b[0m\n\u001b[1;32m   1954\u001b[0m \u001b[0;34m\u001b[0m\u001b[0m\n",
      "\u001b[0;32m/Users/DicksonK/anaconda/lib/python2.7/site-packages/pandas/core/indexing.pyc\u001b[0m in \u001b[0;36m_convert_to_indexer\u001b[0;34m(self, obj, axis, is_setter)\u001b[0m\n\u001b[1;32m   1119\u001b[0m                 \u001b[0mmask\u001b[0m \u001b[0;34m=\u001b[0m \u001b[0mcheck\u001b[0m \u001b[0;34m==\u001b[0m \u001b[0;34m-\u001b[0m\u001b[0;36m1\u001b[0m\u001b[0;34m\u001b[0m\u001b[0m\n\u001b[1;32m   1120\u001b[0m                 \u001b[0;32mif\u001b[0m \u001b[0mmask\u001b[0m\u001b[0;34m.\u001b[0m\u001b[0many\u001b[0m\u001b[0;34m(\u001b[0m\u001b[0;34m)\u001b[0m\u001b[0;34m:\u001b[0m\u001b[0;34m\u001b[0m\u001b[0m\n\u001b[0;32m-> 1121\u001b[0;31m                     \u001b[0;32mraise\u001b[0m \u001b[0mKeyError\u001b[0m\u001b[0;34m(\u001b[0m\u001b[0;34m'%s not in index'\u001b[0m \u001b[0;34m%\u001b[0m \u001b[0mobjarr\u001b[0m\u001b[0;34m[\u001b[0m\u001b[0mmask\u001b[0m\u001b[0;34m]\u001b[0m\u001b[0;34m)\u001b[0m\u001b[0;34m\u001b[0m\u001b[0m\n\u001b[0m\u001b[1;32m   1122\u001b[0m \u001b[0;34m\u001b[0m\u001b[0m\n\u001b[1;32m   1123\u001b[0m                 \u001b[0;32mreturn\u001b[0m \u001b[0m_values_from_object\u001b[0m\u001b[0;34m(\u001b[0m\u001b[0mindexer\u001b[0m\u001b[0;34m)\u001b[0m\u001b[0;34m\u001b[0m\u001b[0m\n",
      "\u001b[0;31mKeyError\u001b[0m: \"[u'\\\\u852c\\\\u83dc' u'\\\\u96de\\\\u813e\\\\u8339' u'\\\\u852c\\\\u83dc' u'\\\\u74dc\\\\u83dc'\\n u'\\\\u852c\\\\u83dc' u'\\\\u74dc\\\\u83dc' u'\\\\u852c\\\\u83dc' u'\\\\u852c\\\\u83dc'\\n u'\\\\u74dc\\\\u83dc' u'\\\\u74dc\\\\u83dc (\\\\u60dc\\\\u98df\\\\u5802)' u'\\\\u852c\\\\u83dc'\\n u'\\\\u74dc\\\\u83dc' u'\\\\u852c\\\\u83dc' u'\\\\u74dc\\\\u83dc'] not in index\""
     ]
    }
   ],
   "source": [
    "# Data Processing\n",
    "df = pd.read_csv(org_data, encoding='utf-8', parse_dates=[3])  \\\n",
    "        .fillna(0) \\\n",
    "        .set_index(['NGO','Programme','Donor','Datetime'])\n",
    "\n",
    "# Internationalisation\n",
    "i18n = pd.read_csv(org_i18n, encoding='utf-8')\n",
    "\n",
    "def is_data_in_lang(df, lang='zh'):\n",
    "    if df.columns[0] in i18n[lang.upper()].values:\n",
    "        return True\n",
    "    else:\n",
    "        return False\n",
    "\n",
    "# if org_lang == 'en' and is_data_in_lang(df, 'zh'):\n",
    "#     df.columns = [i18n.loc[i18n['ZH'] == feat]['EN'].values[0] for feat in df.columns]\n",
    "# elif org_lang == 'zh' and is_data_in_lang(df, 'en'):\n",
    "#     df.columns = [i18n.loc[i18n['EN'] == feat]['ZH'].values[0] for feat in df.columns]\n",
    "\n",
    "# Units\n",
    "df_units = pd.read_csv(org_units, encoding='utf-8')\n",
    "\n",
    "# Category Mapping\n",
    "\n",
    "# # TODO : COLOUR CODE CATEGORIES - FRESH vs PACKAGES\n",
    "\n",
    "# #      : Categorial legend\n",
    "\n",
    "# #      : Float 'Other' Category to the righr.\n",
    "\n",
    "df_map = pd.read_csv(org_map, encoding='utf-8')\n",
    "\n",
    "dfg = pd.DataFrame()\n",
    "for category in df_map.canonical.unique():\n",
    "    dfg[category] = df[df_map[df_map.canonical == category].category.values].sum(axis=1)\n",
    "    \n",
    "# Timeseries \n",
    "ts = df.index.get_level_values('Datetime')\n",
    "\n",
    "# Yearly Data\n",
    "df_ts_y = dfg.reset_index().groupby(pd.Grouper(freq='1A',key='Datetime')).sum()\n",
    "\n",
    "# Monthly Data\n",
    "df_ts_m = dfg.reset_index().groupby(pd.Grouper(freq='1M',key='Datetime')).sum()"
   ]
  },
  {
   "cell_type": "code",
   "execution_count": 27,
   "metadata": {
    "collapsed": false
   },
   "outputs": [
    {
     "ename": "KeyError",
     "evalue": "'The grouper name Datetime is not found'",
     "output_type": "error",
     "traceback": [
      "\u001b[0;31m---------------------------------------------------------------------------\u001b[0m",
      "\u001b[0;31mKeyError\u001b[0m                                  Traceback (most recent call last)",
      "\u001b[0;32m<ipython-input-27-a594cce6d13d>\u001b[0m in \u001b[0;36m<module>\u001b[0;34m()\u001b[0m\n\u001b[1;32m      3\u001b[0m \u001b[0;34m\u001b[0m\u001b[0m\n\u001b[1;32m      4\u001b[0m \u001b[0;31m# Yearly Data\u001b[0m\u001b[0;34m\u001b[0m\u001b[0;34m\u001b[0m\u001b[0m\n\u001b[0;32m----> 5\u001b[0;31m \u001b[0mdf_ts_y\u001b[0m \u001b[0;34m=\u001b[0m \u001b[0mdfg\u001b[0m\u001b[0;34m.\u001b[0m\u001b[0mreset_index\u001b[0m\u001b[0;34m(\u001b[0m\u001b[0;34m)\u001b[0m\u001b[0;34m.\u001b[0m\u001b[0mgroupby\u001b[0m\u001b[0;34m(\u001b[0m\u001b[0mpd\u001b[0m\u001b[0;34m.\u001b[0m\u001b[0mGrouper\u001b[0m\u001b[0;34m(\u001b[0m\u001b[0mfreq\u001b[0m\u001b[0;34m=\u001b[0m\u001b[0;34m'1A'\u001b[0m\u001b[0;34m,\u001b[0m\u001b[0mkey\u001b[0m\u001b[0;34m=\u001b[0m\u001b[0;34m'Datetime'\u001b[0m\u001b[0;34m)\u001b[0m\u001b[0;34m)\u001b[0m\u001b[0;34m.\u001b[0m\u001b[0msum\u001b[0m\u001b[0;34m(\u001b[0m\u001b[0;34m)\u001b[0m\u001b[0;34m\u001b[0m\u001b[0m\n\u001b[0m\u001b[1;32m      6\u001b[0m \u001b[0;34m\u001b[0m\u001b[0m\n\u001b[1;32m      7\u001b[0m \u001b[0;31m# Monthly Data\u001b[0m\u001b[0;34m\u001b[0m\u001b[0;34m\u001b[0m\u001b[0m\n",
      "\u001b[0;32m/Users/DicksonK/anaconda/lib/python2.7/site-packages/pandas/core/generic.pyc\u001b[0m in \u001b[0;36mgroupby\u001b[0;34m(self, by, axis, level, as_index, sort, group_keys, squeeze)\u001b[0m\n\u001b[1;32m   3322\u001b[0m         \u001b[0maxis\u001b[0m \u001b[0;34m=\u001b[0m \u001b[0mself\u001b[0m\u001b[0;34m.\u001b[0m\u001b[0m_get_axis_number\u001b[0m\u001b[0;34m(\u001b[0m\u001b[0maxis\u001b[0m\u001b[0;34m)\u001b[0m\u001b[0;34m\u001b[0m\u001b[0m\n\u001b[1;32m   3323\u001b[0m         return groupby(self, by=by, axis=axis, level=level, as_index=as_index,\n\u001b[0;32m-> 3324\u001b[0;31m                        sort=sort, group_keys=group_keys, squeeze=squeeze)\n\u001b[0m\u001b[1;32m   3325\u001b[0m \u001b[0;34m\u001b[0m\u001b[0m\n\u001b[1;32m   3326\u001b[0m     \u001b[0;32mdef\u001b[0m \u001b[0masfreq\u001b[0m\u001b[0;34m(\u001b[0m\u001b[0mself\u001b[0m\u001b[0;34m,\u001b[0m \u001b[0mfreq\u001b[0m\u001b[0;34m,\u001b[0m \u001b[0mmethod\u001b[0m\u001b[0;34m=\u001b[0m\u001b[0mNone\u001b[0m\u001b[0;34m,\u001b[0m \u001b[0mhow\u001b[0m\u001b[0;34m=\u001b[0m\u001b[0mNone\u001b[0m\u001b[0;34m,\u001b[0m \u001b[0mnormalize\u001b[0m\u001b[0;34m=\u001b[0m\u001b[0mFalse\u001b[0m\u001b[0;34m)\u001b[0m\u001b[0;34m:\u001b[0m\u001b[0;34m\u001b[0m\u001b[0m\n",
      "\u001b[0;32m/Users/DicksonK/anaconda/lib/python2.7/site-packages/pandas/core/groupby.pyc\u001b[0m in \u001b[0;36mgroupby\u001b[0;34m(obj, by, **kwds)\u001b[0m\n\u001b[1;32m   1250\u001b[0m         \u001b[0;32mraise\u001b[0m \u001b[0mTypeError\u001b[0m\u001b[0;34m(\u001b[0m\u001b[0;34m'invalid type: %s'\u001b[0m \u001b[0;34m%\u001b[0m \u001b[0mtype\u001b[0m\u001b[0;34m(\u001b[0m\u001b[0mobj\u001b[0m\u001b[0;34m)\u001b[0m\u001b[0;34m)\u001b[0m\u001b[0;34m\u001b[0m\u001b[0m\n\u001b[1;32m   1251\u001b[0m \u001b[0;34m\u001b[0m\u001b[0m\n\u001b[0;32m-> 1252\u001b[0;31m     \u001b[0;32mreturn\u001b[0m \u001b[0mklass\u001b[0m\u001b[0;34m(\u001b[0m\u001b[0mobj\u001b[0m\u001b[0;34m,\u001b[0m \u001b[0mby\u001b[0m\u001b[0;34m,\u001b[0m \u001b[0;34m**\u001b[0m\u001b[0mkwds\u001b[0m\u001b[0;34m)\u001b[0m\u001b[0;34m\u001b[0m\u001b[0m\n\u001b[0m\u001b[1;32m   1253\u001b[0m \u001b[0;34m\u001b[0m\u001b[0m\n\u001b[1;32m   1254\u001b[0m \u001b[0;34m\u001b[0m\u001b[0m\n",
      "\u001b[0;32m/Users/DicksonK/anaconda/lib/python2.7/site-packages/pandas/core/groupby.pyc\u001b[0m in \u001b[0;36m__init__\u001b[0;34m(self, obj, keys, axis, level, grouper, exclusions, selection, as_index, sort, group_keys, squeeze)\u001b[0m\n\u001b[1;32m    414\u001b[0m         \u001b[0;32mif\u001b[0m \u001b[0mgrouper\u001b[0m \u001b[0;32mis\u001b[0m \u001b[0mNone\u001b[0m\u001b[0;34m:\u001b[0m\u001b[0;34m\u001b[0m\u001b[0m\n\u001b[1;32m    415\u001b[0m             grouper, exclusions, obj = _get_grouper(obj, keys, axis=axis,\n\u001b[0;32m--> 416\u001b[0;31m                                                     level=level, sort=sort)\n\u001b[0m\u001b[1;32m    417\u001b[0m \u001b[0;34m\u001b[0m\u001b[0m\n\u001b[1;32m    418\u001b[0m         \u001b[0mself\u001b[0m\u001b[0;34m.\u001b[0m\u001b[0mobj\u001b[0m \u001b[0;34m=\u001b[0m \u001b[0mobj\u001b[0m\u001b[0;34m\u001b[0m\u001b[0m\n",
      "\u001b[0;32m/Users/DicksonK/anaconda/lib/python2.7/site-packages/pandas/core/groupby.pyc\u001b[0m in \u001b[0;36m_get_grouper\u001b[0;34m(obj, key, axis, level, sort)\u001b[0m\n\u001b[1;32m   2094\u001b[0m     \u001b[0;31m# a passed-in Grouper, directly convert\u001b[0m\u001b[0;34m\u001b[0m\u001b[0;34m\u001b[0m\u001b[0m\n\u001b[1;32m   2095\u001b[0m     \u001b[0;32mif\u001b[0m \u001b[0misinstance\u001b[0m\u001b[0;34m(\u001b[0m\u001b[0mkey\u001b[0m\u001b[0;34m,\u001b[0m \u001b[0mGrouper\u001b[0m\u001b[0;34m)\u001b[0m\u001b[0;34m:\u001b[0m\u001b[0;34m\u001b[0m\u001b[0m\n\u001b[0;32m-> 2096\u001b[0;31m         \u001b[0mbinner\u001b[0m\u001b[0;34m,\u001b[0m \u001b[0mgrouper\u001b[0m\u001b[0;34m,\u001b[0m \u001b[0mobj\u001b[0m \u001b[0;34m=\u001b[0m \u001b[0mkey\u001b[0m\u001b[0;34m.\u001b[0m\u001b[0m_get_grouper\u001b[0m\u001b[0;34m(\u001b[0m\u001b[0mobj\u001b[0m\u001b[0;34m)\u001b[0m\u001b[0;34m\u001b[0m\u001b[0m\n\u001b[0m\u001b[1;32m   2097\u001b[0m         \u001b[0;32mif\u001b[0m \u001b[0mkey\u001b[0m\u001b[0;34m.\u001b[0m\u001b[0mkey\u001b[0m \u001b[0;32mis\u001b[0m \u001b[0mNone\u001b[0m\u001b[0;34m:\u001b[0m\u001b[0;34m\u001b[0m\u001b[0m\n\u001b[1;32m   2098\u001b[0m             \u001b[0;32mreturn\u001b[0m \u001b[0mgrouper\u001b[0m\u001b[0;34m,\u001b[0m \u001b[0;34m[\u001b[0m\u001b[0;34m]\u001b[0m\u001b[0;34m,\u001b[0m \u001b[0mobj\u001b[0m\u001b[0;34m\u001b[0m\u001b[0m\n",
      "\u001b[0;32m/Users/DicksonK/anaconda/lib/python2.7/site-packages/pandas/tseries/resample.pyc\u001b[0m in \u001b[0;36m_get_grouper\u001b[0;34m(self, obj)\u001b[0m\n\u001b[1;32m    107\u001b[0m \u001b[0;34m\u001b[0m\u001b[0m\n\u001b[1;32m    108\u001b[0m     \u001b[0;32mdef\u001b[0m \u001b[0m_get_grouper\u001b[0m\u001b[0;34m(\u001b[0m\u001b[0mself\u001b[0m\u001b[0;34m,\u001b[0m \u001b[0mobj\u001b[0m\u001b[0;34m)\u001b[0m\u001b[0;34m:\u001b[0m\u001b[0;34m\u001b[0m\u001b[0m\n\u001b[0;32m--> 109\u001b[0;31m         \u001b[0mself\u001b[0m\u001b[0;34m.\u001b[0m\u001b[0m_set_grouper\u001b[0m\u001b[0;34m(\u001b[0m\u001b[0mobj\u001b[0m\u001b[0;34m)\u001b[0m\u001b[0;34m\u001b[0m\u001b[0m\n\u001b[0m\u001b[1;32m    110\u001b[0m         \u001b[0;32mreturn\u001b[0m \u001b[0mself\u001b[0m\u001b[0;34m.\u001b[0m\u001b[0m_get_binner_for_resample\u001b[0m\u001b[0;34m(\u001b[0m\u001b[0;34m)\u001b[0m\u001b[0;34m\u001b[0m\u001b[0m\n\u001b[1;32m    111\u001b[0m \u001b[0;34m\u001b[0m\u001b[0m\n",
      "\u001b[0;32m/Users/DicksonK/anaconda/lib/python2.7/site-packages/pandas/core/groupby.pyc\u001b[0m in \u001b[0;36m_set_grouper\u001b[0;34m(self, obj, sort)\u001b[0m\n\u001b[1;32m    258\u001b[0m             \u001b[0mkey\u001b[0m \u001b[0;34m=\u001b[0m \u001b[0mself\u001b[0m\u001b[0;34m.\u001b[0m\u001b[0mkey\u001b[0m\u001b[0;34m\u001b[0m\u001b[0m\n\u001b[1;32m    259\u001b[0m             \u001b[0;32mif\u001b[0m \u001b[0mkey\u001b[0m \u001b[0;32mnot\u001b[0m \u001b[0;32min\u001b[0m \u001b[0mobj\u001b[0m\u001b[0;34m.\u001b[0m\u001b[0m_info_axis\u001b[0m\u001b[0;34m:\u001b[0m\u001b[0;34m\u001b[0m\u001b[0m\n\u001b[0;32m--> 260\u001b[0;31m                 \u001b[0;32mraise\u001b[0m \u001b[0mKeyError\u001b[0m\u001b[0;34m(\u001b[0m\u001b[0;34m\"The grouper name {0} is not found\"\u001b[0m\u001b[0;34m.\u001b[0m\u001b[0mformat\u001b[0m\u001b[0;34m(\u001b[0m\u001b[0mkey\u001b[0m\u001b[0;34m)\u001b[0m\u001b[0;34m)\u001b[0m\u001b[0;34m\u001b[0m\u001b[0m\n\u001b[0m\u001b[1;32m    261\u001b[0m             \u001b[0max\u001b[0m \u001b[0;34m=\u001b[0m \u001b[0mIndex\u001b[0m\u001b[0;34m(\u001b[0m\u001b[0mobj\u001b[0m\u001b[0;34m[\u001b[0m\u001b[0mkey\u001b[0m\u001b[0;34m]\u001b[0m\u001b[0;34m,\u001b[0m \u001b[0mname\u001b[0m\u001b[0;34m=\u001b[0m\u001b[0mkey\u001b[0m\u001b[0;34m)\u001b[0m\u001b[0;34m\u001b[0m\u001b[0m\n\u001b[1;32m    262\u001b[0m \u001b[0;34m\u001b[0m\u001b[0m\n",
      "\u001b[0;31mKeyError\u001b[0m: 'The grouper name Datetime is not found'"
     ]
    }
   ],
   "source": [
    "# Timeseries \n",
    "ts = df.index.get_level_values('Datetime')\n",
    "\n",
    "# Yearly Data\n",
    "df_ts_y = dfg.reset_index().groupby(pd.Grouper(freq='1A',key='Datetime')).sum()\n",
    "\n",
    "# Monthly Data\n",
    "df_ts_m = dfg.reset_index().groupby(pd.Grouper(freq='1M',key='Datetime')).sum()"
   ]
  },
  {
   "cell_type": "code",
   "execution_count": 26,
   "metadata": {
    "collapsed": false,
    "scrolled": true
   },
   "outputs": [
    {
     "ename": "NameError",
     "evalue": "name 'df_ts_m' is not defined",
     "output_type": "error",
     "traceback": [
      "\u001b[0;31m---------------------------------------------------------------------------\u001b[0m",
      "\u001b[0;31mNameError\u001b[0m                                 Traceback (most recent call last)",
      "\u001b[0;32m<ipython-input-26-d29613440c21>\u001b[0m in \u001b[0;36m<module>\u001b[0;34m()\u001b[0m\n\u001b[1;32m      4\u001b[0m \u001b[0;31m# month_offset = 8\u001b[0m\u001b[0;34m\u001b[0m\u001b[0;34m\u001b[0m\u001b[0m\n\u001b[1;32m      5\u001b[0m \u001b[0;34m\u001b[0m\u001b[0m\n\u001b[0;32m----> 6\u001b[0;31m \u001b[0mmonth_max\u001b[0m \u001b[0;34m=\u001b[0m \u001b[0mdf_ts_m\u001b[0m\u001b[0;34m.\u001b[0m\u001b[0mix\u001b[0m\u001b[0;34m[\u001b[0m\u001b[0;34m-\u001b[0m\u001b[0;34m(\u001b[0m\u001b[0;36m1\u001b[0m \u001b[0;34m+\u001b[0m \u001b[0mmonth_offset\u001b[0m\u001b[0;34m)\u001b[0m\u001b[0;34m,\u001b[0m\u001b[0;34m:\u001b[0m\u001b[0;34m]\u001b[0m\u001b[0;34m.\u001b[0m\u001b[0mname\u001b[0m\u001b[0;34m.\u001b[0m\u001b[0mstrftime\u001b[0m\u001b[0;34m(\u001b[0m\u001b[0;34m\"%B\"\u001b[0m\u001b[0;34m)\u001b[0m\u001b[0;34m\u001b[0m\u001b[0m\n\u001b[0m\u001b[1;32m      7\u001b[0m \u001b[0;34m\u001b[0m\u001b[0m\n\u001b[1;32m      8\u001b[0m \u001b[0mh2_success\u001b[0m\u001b[0;34m(\u001b[0m\u001b[0;34m'Latest Results : %s'\u001b[0m \u001b[0;34m%\u001b[0m \u001b[0mmonth_max\u001b[0m\u001b[0;34m)\u001b[0m\u001b[0;34m\u001b[0m\u001b[0m\n",
      "\u001b[0;31mNameError\u001b[0m: name 'df_ts_m' is not defined"
     ]
    }
   ],
   "source": [
    "month_offset = int(-ts.max().is_month_end)\n",
    "\n",
    "# Override Month \n",
    "# month_offset = 8\n",
    "\n",
    "month_max = df_ts_m.ix[-(1 + month_offset),:].name.strftime(\"%B\")\n",
    "\n",
    "h2_success('Latest Results : %s' % month_max)\n",
    "h3_info('Collected Food by Grouping')\n",
    "\n",
    "latest_month = df_ts_m.ix[-(1 + month_offset),:]\n",
    "prev_month = df_ts_m.ix[-(2 + month_offset),:]\n",
    "\n",
    "x = pd.Index([x.replace(' (kg)','') for x in latest_month.index.values])\n",
    "y = latest_month.values\n",
    "\n",
    "with sns.plotting_context(\"poster\", font_scale=1, rc=c):\n",
    "    # sns.heatmap(flights, annot=True, fmt=\"d\")\n",
    "    plt.xlabel = 'xlabel'\n",
    "    f, (ax) = plt.subplots()\n",
    "    sns.barplot(x, y, palette=cm, x_order=x, ax=ax);\n",
    "    ax.set_xlabel('FOOD CATEGORIES', labelpad=20)\n",
    "    ax.set_ylabel('Collected (KG)', labelpad=20)"
   ]
  },
  {
   "cell_type": "code",
   "execution_count": null,
   "metadata": {
    "collapsed": false
   },
   "outputs": [],
   "source": [
    "h3_info('Month on Month Performance (Absolute)')\n",
    "\n",
    "diff_month = latest_month - prev_month\n",
    "delta_month = pd.concat([latest_month, prev_month, diff_month], axis=1).astype('int')\n",
    "\n",
    "l = ts.max().strftime('%b')\n",
    "p = (ts.max() - pd.DateOffset(months=1)).strftime('%b')\n",
    "d = 'Δ'\n",
    "\n",
    "delta_month.columns = [l,p,d]\n",
    "    \n",
    "with sns.plotting_context(\"poster\", font_scale=1, rc=c):\n",
    "    sns.heatmap(delta_month.T, annot=True, fmt=\"d\", cmap='RdBu', cbar=False);\n",
    "#     plt.xlabel = 'xlabel'\n",
    "#     f, (ax) = plt.subplots()\n",
    "#     sns.barplot(x, y, palette='PuBu', x_order=x, ax=ax);\n",
    "#     ax.set_xlabel('FOOD CATEGORIES', labelpad=20)\n",
    "#     ax.set_ylabel('Collected (KG)', labelpad=20)"
   ]
  },
  {
   "cell_type": "code",
   "execution_count": null,
   "metadata": {
    "collapsed": false,
    "scrolled": true
   },
   "outputs": [],
   "source": [
    "h3_info('Month on Month Performance (Relative)')\n",
    "\n",
    "n1 = (latest_month / prev_month * 100).fillna(0).astype('int')\n",
    "n2 = (prev_month/prev_month * 100).fillna(0).astype('int')\n",
    "n3 = n1 - n2\n",
    "idx_month = pd.concat([n1,n2,n3],axis=1)\n",
    "idx_month.columns = [l,p,d]\n",
    "\n",
    "with sns.plotting_context(\"poster\", font_scale=1, rc=c):\n",
    "    sns.heatmap(idx_month.T, annot=True, fmt=\"d\", cmap='RdBu', cbar=False);\n",
    "#     plt.xlabel = 'xlabel'\n",
    "#     f, (ax) = plt.subplots()\n",
    "#     sns.barplot(x, y, palette='PuBu', x_order=x, ax=ax);\n",
    "#     ax.set_xlabel('FOOD CATEGORIES', labelpad=20)\n",
    "#     ax.set_ylabel('Collected (KG)', labelpad=20)"
   ]
  },
  {
   "cell_type": "code",
   "execution_count": null,
   "metadata": {
    "collapsed": false,
    "scrolled": true
   },
   "outputs": [],
   "source": [
    "year_max = ts.max().strftime(\"%Y\")\n",
    "\n",
    "# Override Year \n",
    "# year_max = 2014\n",
    "\n",
    "h2_success(\"Current Year : %s\" % year_max)"
   ]
  },
  {
   "cell_type": "code",
   "execution_count": null,
   "metadata": {
    "collapsed": false
   },
   "outputs": [],
   "source": [
    "h3_info('Monthly Breakdown')\n",
    "\n",
    "cy = str(int(datetime.now().strftime('%Y')))\n",
    "# Override Year\n",
    "# cy =' 2014'\n",
    "current_year = dfg.reset_index().ix[:,3:].set_index('Datetime').ix[cy,:]\n",
    "\n",
    "cy_gby_m = df_ts_m.ix[cy]\n",
    "month_names = [x.strftime('%b') for x in pd.to_datetime(cy_gby_m.index)]\n",
    "months_index = pd.Index([int(x.strftime('%m')) for x in pd.to_datetime(cy_gby_m.index)])\n",
    "\n",
    "handles = []\n",
    "stacked_bar_data = cy_gby_m.cumsum(axis=1)\n",
    "with sns.plotting_context(\"poster\", font_scale=1, rc=c):\n",
    "    f, (ax) = plt.subplots()\n",
    "    for idx, category in enumerate(stacked_bar_data.columns.values[::-1]):\n",
    "        print category\n",
    "        sns.barplot(x = months_index, y = stacked_bar_data[category], color = cm[idx]).set_ylabel('')\n",
    "        handles.append(plt.Rectangle((0,0),1,1,fc=cm[idx], edgecolor = 'none'))\n",
    "        ax.set_xlabel('MONTHS', labelpad=20)\n",
    "        ax.set_ylabel('Collected (KG)', labelpad=20)\n",
    "        ax.set_xticklabels(month_names)\n",
    "        \n",
    "l = plt.legend(handles, list(stacked_bar_data.columns.values[::-1]), loc=1, ncol = 2, prop={'size':16})"
   ]
  },
  {
   "cell_type": "code",
   "execution_count": null,
   "metadata": {
    "collapsed": false
   },
   "outputs": [],
   "source": [
    "h3_info('Weekly Pattern (Average)')\n",
    "\n",
    "current_year['wkday'] = current_year.reset_index().Datetime.dt.weekday.values\n",
    "wkday_grouped = current_year.groupby('wkday')\n",
    "weekly_mean = wkday_grouped.mean()\n",
    "weekly_median = wkday_grouped.median()\n",
    "weekdays = ['Mon','Tue','Wed','Thu','Fri','Sat','Sun']\n",
    "\n",
    "handles = []\n",
    "stacked_bar_data = weekly_mean.cumsum(axis=1)\n",
    "with sns.plotting_context(\"poster\", font_scale=1, rc=c):\n",
    "    f, (ax) = plt.subplots()\n",
    "    for idx, category in enumerate(stacked_bar_data.columns.values[::-1]):\n",
    "        sns.barplot(x = weekly_mean.index, y = stacked_bar_data[category], color = cm[idx]).set_ylabel('')\n",
    "        handles.append(plt.Rectangle((0,0),1,1,fc=cm[idx], edgecolor = 'none'))\n",
    "        ax.set_xlabel('WEEKDAYS', labelpad=20)\n",
    "        ax.set_ylabel('Collected (KG)', labelpad=20)\n",
    "        ax.set_xticklabels(weekdays)\n",
    "        \n",
    "l = plt.legend(handles, list(stacked_bar_data.columns.values[::-1]), loc=1, ncol = 2, prop={'size':16})"
   ]
  },
  {
   "cell_type": "code",
   "execution_count": null,
   "metadata": {
    "collapsed": false
   },
   "outputs": [],
   "source": [
    "h3_info('Weekly Pattern (Expected)')\n",
    "\n",
    "handles = []\n",
    "stacked_bar_data = weekly_median.cumsum(axis=1)\n",
    "with sns.plotting_context(\"poster\", font_scale=1, rc=c):\n",
    "    f, (ax) = plt.subplots()\n",
    "    for idx, category in enumerate(stacked_bar_data.columns.values[::-1]):\n",
    "        sns.barplot(x = weekly_median.index, y = stacked_bar_data[category], color = cm[idx]).set_ylabel('')\n",
    "        handles.append(plt.Rectangle((0,0),1,1,fc=cm[idx], edgecolor = 'none'))\n",
    "        ax.set_xlabel('WEEKDAYS', labelpad=20)\n",
    "        ax.set_ylabel('Collected (KG)', labelpad=20)\n",
    "        ax.set_xticklabels(weekdays)\n",
    "        \n",
    "l = plt.legend(handles, list(stacked_bar_data.columns.values[::-1]), loc=1, ncol = 2, prop={'size':16})"
   ]
  },
  {
   "cell_type": "code",
   "execution_count": null,
   "metadata": {
    "collapsed": false
   },
   "outputs": [],
   "source": [
    "year_min = ts.min().strftime(\"%Y\")\n",
    "h2_success(\"Historic : %s - %s\" % (year_min, year_max))"
   ]
  },
  {
   "cell_type": "code",
   "execution_count": null,
   "metadata": {
    "collapsed": false
   },
   "outputs": [],
   "source": [
    "h3_info('Top 5 Stories')\n",
    "df_unstack = df.T.unstack()\n",
    "df_unstack.sort(ascending=False)\n",
    "vimx = pd.DataFrame(df_unstack[:5]).reset_index().ix[:,3:]\n",
    "vimx.columns = ['When','What','How Much']\n",
    "table(vimx, print_header=True, print_index=False)"
   ]
  },
  {
   "cell_type": "code",
   "execution_count": null,
   "metadata": {
    "collapsed": false
   },
   "outputs": [],
   "source": [
    "h3_info('Monthly Food Recovery')\n",
    "\n",
    "xticks = tuple([dt.strftime('%b `%y') for idx, dt in enumerate(df_ts_m.index) if not idx % 2])\n",
    "\n",
    "with sns.plotting_context(\"poster\", font_scale=1, rc=c):\n",
    "    f, (ax) = plt.subplots()\n",
    "    plt.plot(df_ts_m.sum(axis=1))\n",
    "    ax.set_xticklabels(xticks)\n",
    "    ax.set_xlabel('MONTHS', labelpad=20)\n",
    "    ax.set_ylabel('Collected (KG)', labelpad=20)\n"
   ]
  },
  {
   "cell_type": "code",
   "execution_count": null,
   "metadata": {
    "collapsed": false
   },
   "outputs": [],
   "source": [
    "h3_info('Yearly Performance (Current)')\n",
    "\n",
    "handles = []\n",
    "stacked_bar_data = df_ts_y.cumsum(axis=1)\n",
    "with sns.plotting_context(\"poster\", font_scale=1, rc=c):\n",
    "    f, (ax) = plt.subplots()\n",
    "    for idx, category in enumerate(stacked_bar_data.columns.values[::-1]):\n",
    "        sns.barplot(x = pd.Index([2014,2015]), y = stacked_bar_data[category], color = cm[idx]).set_ylabel('')\n",
    "        handles.append(plt.Rectangle((0,0),1,1,fc=cm[idx], edgecolor = 'none'))\n",
    "        ax.set_xlabel('YEARS', labelpad=20)\n",
    "        ax.set_ylabel('Collected (KG)', labelpad=20)\n",
    "\n",
    "        \n",
    "l = plt.legend(handles, list(stacked_bar_data.columns.values[::-1]), loc=1, ncol = 2, prop={'size':16})"
   ]
  },
  {
   "cell_type": "code",
   "execution_count": null,
   "metadata": {
    "collapsed": false
   },
   "outputs": [],
   "source": [
    "# h3_info('Yearly Performance (Predicted)')\n",
    "\n",
    "# NOT YET AVAILABLE SINCE YEARLY CYCLE HAS NOT BEEN COMPLETE\n",
    "\n",
    "# handles = []\n",
    "# stacked_bar_data = df_ts_y.cumsum(axis=1)\n",
    "# with sns.plotting_context(\"poster\", font_scale=1, rc=c):\n",
    "#     for idx, category in enumerate(stacked_bar_data.columns.values[::-1]):\n",
    "#         sns.barplot(x = pd.Index([2014,2015]), y = stacked_bar_data[category], color = cm[idx]).set_ylabel('')\n",
    "#         handles.append(plt.Rectangle((0,0),1,1,fc=cm[idx], edgecolor = 'none'))\n",
    "        \n",
    "# l = plt.legend(handles, list(stacked_bar_data.columns.values[::-1]), loc=1, ncol = 2, prop={'size':16})"
   ]
  },
  {
   "cell_type": "code",
   "execution_count": null,
   "metadata": {
    "collapsed": false
   },
   "outputs": [],
   "source": [
    "HTML('''<a class='btn btn-warning btn-lg' style=\"margin:0 auto; display:block; max-width:320px\" href=\"javascript:code_toggle()\">TOGGLE CODE</a>''')"
   ]
  },
  {
   "cell_type": "code",
   "execution_count": null,
   "metadata": {
    "collapsed": false
   },
   "outputs": [],
   "source": [
    "HTML('''<link href='http://fonts.googleapis.com/css?family=Roboto|Open+Sans' rel='stylesheet' type='text/css'>\n",
    "<style>\n",
    "body #notebook {\n",
    "    font-family : 'Open Sans','Source Sans Pro','Proxima Nova', sans-serif;\n",
    "    line-height: 1.4em;\n",
    "    font-size: 1.2em;\n",
    "    padding: 0 32px;\n",
    "    line-height: 1.8em;\n",
    "}\n",
    "\n",
    "#notebook h1,\n",
    "#notebook h2,\n",
    "#notebook h3,\n",
    "#notebook h4,\n",
    "#notebook h5 {\n",
    "    font-family : 'Roboto','Source Sans Pro','Proxima Nova', sans-serif;\n",
    "}\n",
    "\n",
    "\n",
    "#notebook .panel-body {\n",
    "  font-size: 1.1em;\n",
    "  line-height: 1.6em;\n",
    "}\n",
    "\n",
    "#notebook .table,\n",
    "#notebook .table th,\n",
    "#notebook .table td,\n",
    "#notebook .table tr {\n",
    "    text-align : center;\n",
    "    border: 0;\n",
    "    font-size: 1.5rem;\n",
    "    line-height: 2.2rem\n",
    "}\n",
    "</style>\n",
    "\n",
    "<script>\n",
    "$(function(){\n",
    "    code_toggle()\n",
    "})\n",
    "</script>\n",
    "\n",
    "''')"
   ]
  }
 ],
 "metadata": {
  "kernelspec": {
   "display_name": "Python 2",
   "language": "python",
   "name": "python2"
  },
  "language_info": {
   "codemirror_mode": {
    "name": "ipython",
    "version": 2
   },
   "file_extension": ".py",
   "mimetype": "text/x-python",
   "name": "python",
   "nbconvert_exporter": "python",
   "pygments_lexer": "ipython2",
   "version": "2.7.10"
  }
 },
 "nbformat": 4,
 "nbformat_minor": 0
}
