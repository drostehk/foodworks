{
 "cells": [
  {
   "cell_type": "code",
   "execution_count": 1,
   "metadata": {
    "collapsed": true
   },
   "outputs": [],
   "source": [
    "import pandas as pd\n",
    "import numpy as np\n",
    "import os\n",
    "import operator as op\n",
    "file_num = 2\n",
    "\n",
    "## Input NGO, Year\n",
    "\n",
    "folder_dir = \"../../../../Data/Canonical/\"\n",
    "fresh_food = [\"Vegitable\", \"Leafy Veg\", \"Ground Veg\", \"Soy Products\", \"Fruit\", \"Bread\", \"Meat\", \"Seafood\", \"Cooked Food\", \"Fresh Other\"]\n",
    "package_food = [\"Staple\", \"Frozen\", \"Condiment\", \"Drinks\", \"Milk Powder\", \"Packaged Other\"]\n",
    "\n",
    "def check_fresh(element):\n",
    "\treturn element.canonical in fresh_food\n",
    "\n",
    "def getYear(element):\n",
    "\treturn element.datetime.year\n",
    "\n",
    "def getMonth(element):\n",
    "\treturn element.datetime.month\n",
    "\n",
    "def getDay(element):\n",
    "\treturn element.datetime.day\n",
    "\n",
    "def find(the_series, the_value):\n",
    "    return (''.join(map(str,[the_series for the_series, x in enumerate(the_series) if x == the_value])))\n",
    "\n",
    "def fixAllmth(the_series):\n",
    "\tthe_list = []\n",
    "\tcheck_list = the_series.index.tolist()\n",
    "\tfor mth in range(1, 13):\n",
    "\t\tif(find(check_list, mth).isdigit()):\n",
    "\t\t\tthe_list = the_list + [the_series[mth]]\n",
    "\t\telse:\n",
    "\t\t\tthe_list = the_list + [0]\n",
    "\treturn the_list\n",
    "\n",
    "def getList(the_df, target_element):\n",
    "\treturn the_df[the_df.element == target_element].ix[: , 1:].values[0]\n",
    "\n",
    "def genRow(the_name, the_series):\n",
    "\tthe_series = fixAllmth(the_series)\n",
    "\treturn [the_name] + the_series\n",
    "\n",
    "def getMonthNum(element):\n",
    "\treturn ([i for i, x in enumerate(['Jan', 'Feb', 'Mar', 'Apr', 'May', 'Jun', 'Jul', 'Aug', 'Sep', 'Oct', 'Nov', 'Dec']) if x == element][0] + 1)\n",
    "\n",
    "def getMonthDays(element, year):\n",
    "\tmonrh_days = [31, 28, 31, 30, 31, 30, 31, 30, 30, 31, 30, 31]\n",
    "\tresult = monrh_days[element - 1]\n",
    "\tif year % 4 == 0 & element == 2:\n",
    "\t\tresult = 29\n",
    "\treturn result"
   ]
  },
  {
   "cell_type": "code",
   "execution_count": 3,
   "metadata": {
    "collapsed": true
   },
   "outputs": [],
   "source": [
    "ngo = 'PCSS'\n",
    "year = 2015"
   ]
  },
  {
   "cell_type": "code",
   "execution_count": 20,
   "metadata": {
    "collapsed": false
   },
   "outputs": [],
   "source": [
    "datafile_name = ngo + '.' + str(year) + '.csv'\n",
    "mapfile_name = ngo + '.map.csv'\n",
    "donorsfile_name = ngo + '.donors.csv'\n",
    "distfile_name = ngo + '.' + str(year) + '.distribution.csv'\n",
    "benffile_name = ngo + '.' + str(year) + '.beneficiary.csv'\n",
    "procfile_name = ngo + '.' + str(year) + '.processing.csv'\n",
    "finfile_name = ngo + '.' + str(year) + '.finance.csv'\n",
    "\n",
    "# Load the data in\n",
    "df = pd.read_csv(folder_dir + ngo + '/' + datafile_name)\n",
    "df_map = pd.read_csv(folder_dir + ngo + '/' + mapfile_name)\n",
    "df_donors = pd.read_csv(folder_dir + ngo + '/' + donorsfile_name)\n",
    "df_dist = pd.read_csv(folder_dir + ngo + '/' + distfile_name)\n",
    "df_benf = pd.read_csv(folder_dir + ngo + '/' + benffile_name)\n",
    "df_proc = pd.read_csv(folder_dir + ngo + '/' + procfile_name)\n",
    "df_fin = pd.read_csv(folder_dir + ngo + '/' + finfile_name)\n",
    "\n",
    "if os.path.isfile(folder_dir + ngo + '/' + ngo + '.' + str(year - 1) + '.csv'):\n",
    "    df = pd.concat([df, pd.read_csv(folder_dir + ngo + '/' + ngo + '.' + str(year - 1) + '.csv')])\n",
    "\n",
    "if os.path.isfile(folder_dir + ngo + '/' + ngo + '.' + str(year - 1) + '.distribution.csv'):\n",
    "    df_dist = pd.concat([df_dist, pd.read_csv(folder_dir + ngo + '/' + ngo + '.' + str(year - 1) + '.distribution.csv')])\n",
    "\n",
    "if os.path.isfile(folder_dir + ngo + '/' + ngo + '.' + str(year - 1) + '.processing.csv'):\n",
    "    df_proc = pd.concat([df_proc, pd.read_csv(folder_dir + ngo + '/' + ngo + '.' + str(year - 1) + '.processing.csv')])"
   ]
  },
  {
   "cell_type": "code",
   "execution_count": 21,
   "metadata": {
    "collapsed": true
   },
   "outputs": [],
   "source": [
    "## Collection\n",
    "# Reshape the dataframe\n",
    "df['datetime'] = pd.to_datetime(df['datetime'])\n",
    "df = df[df.apply(getYear, axis=1) == year]\n",
    "df = df.fillna(0)\n",
    "\n",
    "melt_head = ['datetime', 'donor', 'organisation_id', 'programme']\n",
    "rest_col = [x for x in list(df.columns.values) if x not in melt_head]\n",
    "\n",
    "df = pd.melt(df, id_vars=melt_head, value_vars=rest_col)\n",
    "df['datetime'] = pd.to_datetime(df['datetime'])\n",
    "df = df[df.value != 0]\n",
    "df = df[df['value'].notnull()]"
   ]
  },
  {
   "cell_type": "code",
   "execution_count": 22,
   "metadata": {
    "collapsed": false
   },
   "outputs": [
    {
     "data": {
      "text/html": [
       "<div>\n",
       "<table border=\"1\" class=\"dataframe\">\n",
       "  <thead>\n",
       "    <tr style=\"text-align: right;\">\n",
       "      <th></th>\n",
       "      <th>datetime</th>\n",
       "      <th>donor</th>\n",
       "      <th>organisation_id</th>\n",
       "      <th>programme</th>\n",
       "      <th>variable</th>\n",
       "      <th>value</th>\n",
       "    </tr>\n",
       "  </thead>\n",
       "  <tbody>\n",
       "    <tr>\n",
       "      <th>0</th>\n",
       "      <td>2015-01-02</td>\n",
       "      <td>TKWM</td>\n",
       "      <td>PCSS</td>\n",
       "      <td>general</td>\n",
       "      <td>蔬菜</td>\n",
       "      <td>38.8</td>\n",
       "    </tr>\n",
       "    <tr>\n",
       "      <th>1</th>\n",
       "      <td>2015-01-03</td>\n",
       "      <td>TKWM</td>\n",
       "      <td>PCSS</td>\n",
       "      <td>general</td>\n",
       "      <td>蔬菜</td>\n",
       "      <td>21.7</td>\n",
       "    </tr>\n",
       "    <tr>\n",
       "      <th>2</th>\n",
       "      <td>2015-01-05</td>\n",
       "      <td>TKWM</td>\n",
       "      <td>PCSS</td>\n",
       "      <td>general</td>\n",
       "      <td>蔬菜</td>\n",
       "      <td>33.2</td>\n",
       "    </tr>\n",
       "    <tr>\n",
       "      <th>3</th>\n",
       "      <td>2015-01-07</td>\n",
       "      <td>TKWM</td>\n",
       "      <td>PCSS</td>\n",
       "      <td>general</td>\n",
       "      <td>蔬菜</td>\n",
       "      <td>40.8</td>\n",
       "    </tr>\n",
       "    <tr>\n",
       "      <th>4</th>\n",
       "      <td>2015-01-08</td>\n",
       "      <td>TKWM</td>\n",
       "      <td>PCSS</td>\n",
       "      <td>general</td>\n",
       "      <td>蔬菜</td>\n",
       "      <td>38.9</td>\n",
       "    </tr>\n",
       "  </tbody>\n",
       "</table>\n",
       "</div>"
      ],
      "text/plain": [
       "    datetime donor organisation_id programme variable  value\n",
       "0 2015-01-02  TKWM            PCSS   general       蔬菜   38.8\n",
       "1 2015-01-03  TKWM            PCSS   general       蔬菜   21.7\n",
       "2 2015-01-05  TKWM            PCSS   general       蔬菜   33.2\n",
       "3 2015-01-07  TKWM            PCSS   general       蔬菜   40.8\n",
       "4 2015-01-08  TKWM            PCSS   general       蔬菜   38.9"
      ]
     },
     "execution_count": 22,
     "metadata": {},
     "output_type": "execute_result"
    }
   ],
   "source": [
    "df.head()"
   ]
  },
  {
   "cell_type": "code",
   "execution_count": 23,
   "metadata": {
    "collapsed": true
   },
   "outputs": [],
   "source": [
    "#print(df.head(100))\n",
    "df_map = df_map[df_map.organisation_id == ngo]\n",
    "df_map = df_map[['category', 'canonical']]\n",
    "df_map = df_map.drop_duplicates()\n",
    "\n",
    "df_merge = pd.merge(df, df_map, how='left', left_on=['variable'], right_on=['category'])\n",
    "df_merge = df_merge.drop('category', 1)"
   ]
  },
  {
   "cell_type": "code",
   "execution_count": 24,
   "metadata": {
    "collapsed": false
   },
   "outputs": [
    {
     "data": {
      "text/html": [
       "<div>\n",
       "<table border=\"1\" class=\"dataframe\">\n",
       "  <thead>\n",
       "    <tr style=\"text-align: right;\">\n",
       "      <th></th>\n",
       "      <th>datetime</th>\n",
       "      <th>donor</th>\n",
       "      <th>organisation_id</th>\n",
       "      <th>programme</th>\n",
       "      <th>variable</th>\n",
       "      <th>value</th>\n",
       "      <th>canonical</th>\n",
       "    </tr>\n",
       "  </thead>\n",
       "  <tbody>\n",
       "    <tr>\n",
       "      <th>0</th>\n",
       "      <td>2015-01-02</td>\n",
       "      <td>TKWM</td>\n",
       "      <td>PCSS</td>\n",
       "      <td>general</td>\n",
       "      <td>蔬菜</td>\n",
       "      <td>38.8</td>\n",
       "      <td>NaN</td>\n",
       "    </tr>\n",
       "    <tr>\n",
       "      <th>1</th>\n",
       "      <td>2015-01-03</td>\n",
       "      <td>TKWM</td>\n",
       "      <td>PCSS</td>\n",
       "      <td>general</td>\n",
       "      <td>蔬菜</td>\n",
       "      <td>21.7</td>\n",
       "      <td>NaN</td>\n",
       "    </tr>\n",
       "    <tr>\n",
       "      <th>2</th>\n",
       "      <td>2015-01-05</td>\n",
       "      <td>TKWM</td>\n",
       "      <td>PCSS</td>\n",
       "      <td>general</td>\n",
       "      <td>蔬菜</td>\n",
       "      <td>33.2</td>\n",
       "      <td>NaN</td>\n",
       "    </tr>\n",
       "    <tr>\n",
       "      <th>3</th>\n",
       "      <td>2015-01-07</td>\n",
       "      <td>TKWM</td>\n",
       "      <td>PCSS</td>\n",
       "      <td>general</td>\n",
       "      <td>蔬菜</td>\n",
       "      <td>40.8</td>\n",
       "      <td>NaN</td>\n",
       "    </tr>\n",
       "    <tr>\n",
       "      <th>4</th>\n",
       "      <td>2015-01-08</td>\n",
       "      <td>TKWM</td>\n",
       "      <td>PCSS</td>\n",
       "      <td>general</td>\n",
       "      <td>蔬菜</td>\n",
       "      <td>38.9</td>\n",
       "      <td>NaN</td>\n",
       "    </tr>\n",
       "  </tbody>\n",
       "</table>\n",
       "</div>"
      ],
      "text/plain": [
       "    datetime donor organisation_id programme variable  value canonical\n",
       "0 2015-01-02  TKWM            PCSS   general       蔬菜   38.8       NaN\n",
       "1 2015-01-03  TKWM            PCSS   general       蔬菜   21.7       NaN\n",
       "2 2015-01-05  TKWM            PCSS   general       蔬菜   33.2       NaN\n",
       "3 2015-01-07  TKWM            PCSS   general       蔬菜   40.8       NaN\n",
       "4 2015-01-08  TKWM            PCSS   general       蔬菜   38.9       NaN"
      ]
     },
     "execution_count": 24,
     "metadata": {},
     "output_type": "execute_result"
    }
   ],
   "source": [
    "df_merge.head()"
   ]
  },
  {
   "cell_type": "code",
   "execution_count": 25,
   "metadata": {
    "collapsed": true
   },
   "outputs": [],
   "source": [
    "df_donors = df_donors[['id', 'foodshare_category']]\n",
    "df_donors.rename(columns={'id': 'id', 'foodshare_category': 'donor_category'}, inplace=True)\n",
    "\n",
    "#print(df_donors)\n",
    "\n",
    "df_merge = pd.merge(df_merge, df_donors, how='left', left_on=['donor'], right_on=['id'])\n",
    "df_merge = df_merge.drop('id', 1)\n",
    "df_merge['donor_category'] = df_merge['donor_category'].astype(basestring)\n",
    "\n",
    "df_merge['isFresh'] = df_merge.apply(check_fresh, axis=1)\n",
    "df_merge['year'] = df_merge.apply(getYear, axis=1)\n",
    "df_merge['month'] = df_merge.apply(getMonth, axis=1)\n",
    "df_merge['day'] = df_merge.apply(getDay, axis=1)\n",
    "df_merge = df_merge[df_merge['year'] == year]"
   ]
  },
  {
   "cell_type": "code",
   "execution_count": 26,
   "metadata": {
    "collapsed": false
   },
   "outputs": [
    {
     "data": {
      "text/html": [
       "<div>\n",
       "<table border=\"1\" class=\"dataframe\">\n",
       "  <thead>\n",
       "    <tr style=\"text-align: right;\">\n",
       "      <th></th>\n",
       "      <th>id</th>\n",
       "      <th>donor_category</th>\n",
       "    </tr>\n",
       "  </thead>\n",
       "  <tbody>\n",
       "    <tr>\n",
       "      <th>0</th>\n",
       "      <td>TKWM</td>\n",
       "      <td>wet market</td>\n",
       "    </tr>\n",
       "    <tr>\n",
       "      <th>1</th>\n",
       "      <td>KLCR</td>\n",
       "      <td>shop</td>\n",
       "    </tr>\n",
       "    <tr>\n",
       "      <th>2</th>\n",
       "      <td>Temple</td>\n",
       "      <td>temple</td>\n",
       "    </tr>\n",
       "    <tr>\n",
       "      <th>3</th>\n",
       "      <td>Banq</td>\n",
       "      <td>corporate</td>\n",
       "    </tr>\n",
       "    <tr>\n",
       "      <th>4</th>\n",
       "      <td>food_d</td>\n",
       "      <td>supplier</td>\n",
       "    </tr>\n",
       "  </tbody>\n",
       "</table>\n",
       "</div>"
      ],
      "text/plain": [
       "       id donor_category\n",
       "0    TKWM     wet market\n",
       "1    KLCR           shop\n",
       "2  Temple         temple\n",
       "3    Banq      corporate\n",
       "4  food_d       supplier"
      ]
     },
     "execution_count": 26,
     "metadata": {},
     "output_type": "execute_result"
    }
   ],
   "source": [
    "df_donors.head()"
   ]
  },
  {
   "cell_type": "code",
   "execution_count": 27,
   "metadata": {
    "collapsed": true
   },
   "outputs": [],
   "source": [
    "## Distribution\n",
    "df_dist['datetime'] = pd.to_datetime(df_dist['datetime'])\n",
    "df_dist['year'] = df_dist.apply(getYear, axis=1)\n",
    "df_dist['month'] = df_dist.apply(getMonth, axis=1)\n",
    "df_dist['day'] = df_dist.apply(getDay, axis=1)\n",
    "df_dist = df_dist[df_dist['year'] == year]\n",
    "## TODO: Need to check for pervious/next year file\n",
    "\n",
    "## Processing\n",
    "df_proc['datetime'] = pd.to_datetime(df_proc['datetime'])\n",
    "df_proc['year'] = df_proc.apply(getYear, axis=1)\n",
    "df_proc['month'] = df_proc.apply(getMonth, axis=1)\n",
    "df_proc['day'] = df_proc.apply(getDay, axis=1)\n",
    "df_proc = df_proc[df_proc['year'] == year]\n",
    "\n",
    "\n",
    "##Fin\n",
    "df_fin.columns = ['month', 'income', 'expenditure']\n",
    "df_fin['month_num'] = (df_fin.index + 1)\n",
    "\n",
    "df_merge = df_merge[df_merge['donor_category'].notnull()]\n",
    "\n",
    "df_merge = df_merge[['datetime', 'donor', 'organisation_id', 'programme', 'variable', 'value', 'canonical', 'donor_category', 'isFresh', 'year', 'month', 'day']]\n",
    "\n",
    "# Empty DF for report\n",
    "columns = ['element'] + map(str, range(1,13))\n",
    "df_report = pd.DataFrame(columns=columns)"
   ]
  },
  {
   "cell_type": "code",
   "execution_count": 28,
   "metadata": {
    "collapsed": false
   },
   "outputs": [
    {
     "data": {
      "text/html": [
       "<div>\n",
       "<table border=\"1\" class=\"dataframe\">\n",
       "  <thead>\n",
       "    <tr style=\"text-align: right;\">\n",
       "      <th></th>\n",
       "      <th>datetime</th>\n",
       "      <th>donor</th>\n",
       "      <th>organisation_id</th>\n",
       "      <th>programme</th>\n",
       "      <th>variable</th>\n",
       "      <th>value</th>\n",
       "      <th>canonical</th>\n",
       "      <th>donor_category</th>\n",
       "      <th>isFresh</th>\n",
       "      <th>year</th>\n",
       "      <th>month</th>\n",
       "      <th>day</th>\n",
       "    </tr>\n",
       "  </thead>\n",
       "  <tbody>\n",
       "    <tr>\n",
       "      <th>0</th>\n",
       "      <td>2015-01-02</td>\n",
       "      <td>TKWM</td>\n",
       "      <td>PCSS</td>\n",
       "      <td>general</td>\n",
       "      <td>蔬菜</td>\n",
       "      <td>38.8</td>\n",
       "      <td>NaN</td>\n",
       "      <td>wet market</td>\n",
       "      <td>False</td>\n",
       "      <td>2015</td>\n",
       "      <td>1</td>\n",
       "      <td>2</td>\n",
       "    </tr>\n",
       "    <tr>\n",
       "      <th>1</th>\n",
       "      <td>2015-01-03</td>\n",
       "      <td>TKWM</td>\n",
       "      <td>PCSS</td>\n",
       "      <td>general</td>\n",
       "      <td>蔬菜</td>\n",
       "      <td>21.7</td>\n",
       "      <td>NaN</td>\n",
       "      <td>wet market</td>\n",
       "      <td>False</td>\n",
       "      <td>2015</td>\n",
       "      <td>1</td>\n",
       "      <td>3</td>\n",
       "    </tr>\n",
       "    <tr>\n",
       "      <th>2</th>\n",
       "      <td>2015-01-05</td>\n",
       "      <td>TKWM</td>\n",
       "      <td>PCSS</td>\n",
       "      <td>general</td>\n",
       "      <td>蔬菜</td>\n",
       "      <td>33.2</td>\n",
       "      <td>NaN</td>\n",
       "      <td>wet market</td>\n",
       "      <td>False</td>\n",
       "      <td>2015</td>\n",
       "      <td>1</td>\n",
       "      <td>5</td>\n",
       "    </tr>\n",
       "    <tr>\n",
       "      <th>3</th>\n",
       "      <td>2015-01-07</td>\n",
       "      <td>TKWM</td>\n",
       "      <td>PCSS</td>\n",
       "      <td>general</td>\n",
       "      <td>蔬菜</td>\n",
       "      <td>40.8</td>\n",
       "      <td>NaN</td>\n",
       "      <td>wet market</td>\n",
       "      <td>False</td>\n",
       "      <td>2015</td>\n",
       "      <td>1</td>\n",
       "      <td>7</td>\n",
       "    </tr>\n",
       "    <tr>\n",
       "      <th>4</th>\n",
       "      <td>2015-01-08</td>\n",
       "      <td>TKWM</td>\n",
       "      <td>PCSS</td>\n",
       "      <td>general</td>\n",
       "      <td>蔬菜</td>\n",
       "      <td>38.9</td>\n",
       "      <td>NaN</td>\n",
       "      <td>wet market</td>\n",
       "      <td>False</td>\n",
       "      <td>2015</td>\n",
       "      <td>1</td>\n",
       "      <td>8</td>\n",
       "    </tr>\n",
       "  </tbody>\n",
       "</table>\n",
       "</div>"
      ],
      "text/plain": [
       "    datetime donor organisation_id programme variable  value canonical  \\\n",
       "0 2015-01-02  TKWM            PCSS   general       蔬菜   38.8       NaN   \n",
       "1 2015-01-03  TKWM            PCSS   general       蔬菜   21.7       NaN   \n",
       "2 2015-01-05  TKWM            PCSS   general       蔬菜   33.2       NaN   \n",
       "3 2015-01-07  TKWM            PCSS   general       蔬菜   40.8       NaN   \n",
       "4 2015-01-08  TKWM            PCSS   general       蔬菜   38.9       NaN   \n",
       "\n",
       "  donor_category isFresh  year  month  day  \n",
       "0     wet market   False  2015      1    2  \n",
       "1     wet market   False  2015      1    3  \n",
       "2     wet market   False  2015      1    5  \n",
       "3     wet market   False  2015      1    7  \n",
       "4     wet market   False  2015      1    8  "
      ]
     },
     "execution_count": 28,
     "metadata": {},
     "output_type": "execute_result"
    }
   ],
   "source": [
    "df_merge.head()"
   ]
  },
  {
   "cell_type": "code",
   "execution_count": null,
   "metadata": {
    "collapsed": true
   },
   "outputs": [],
   "source": [
    ""
   ]
  },
  {
   "cell_type": "code",
   "execution_count": null,
   "metadata": {
    "collapsed": true
   },
   "outputs": [],
   "source": [
    ""
   ]
  },
  {
   "cell_type": "code",
   "execution_count": null,
   "metadata": {
    "collapsed": true
   },
   "outputs": [],
   "source": [
    ""
   ]
  },
  {
   "cell_type": "code",
   "execution_count": null,
   "metadata": {
    "collapsed": true
   },
   "outputs": [],
   "source": [
    ""
   ]
  },
  {
   "cell_type": "code",
   "execution_count": null,
   "metadata": {
    "collapsed": true
   },
   "outputs": [],
   "source": [
    ""
   ]
  },
  {
   "cell_type": "code",
   "execution_count": null,
   "metadata": {
    "collapsed": true
   },
   "outputs": [],
   "source": [
    ""
   ]
  },
  {
   "cell_type": "code",
   "execution_count": null,
   "metadata": {
    "collapsed": true
   },
   "outputs": [],
   "source": [
    ""
   ]
  },
  {
   "cell_type": "code",
   "execution_count": null,
   "metadata": {
    "collapsed": true
   },
   "outputs": [],
   "source": [
    ""
   ]
  },
  {
   "cell_type": "code",
   "execution_count": null,
   "metadata": {
    "collapsed": true
   },
   "outputs": [],
   "source": [
    ""
   ]
  },
  {
   "cell_type": "code",
   "execution_count": null,
   "metadata": {
    "collapsed": true
   },
   "outputs": [],
   "source": [
    ""
   ]
  },
  {
   "cell_type": "code",
   "execution_count": null,
   "metadata": {
    "collapsed": true
   },
   "outputs": [],
   "source": [
    ""
   ]
  },
  {
   "cell_type": "code",
   "execution_count": null,
   "metadata": {
    "collapsed": true
   },
   "outputs": [],
   "source": [
    ""
   ]
  }
 ],
 "metadata": {
  "kernelspec": {
   "display_name": "Python 2",
   "language": "python",
   "name": "python2"
  },
  "language_info": {
   "codemirror_mode": {
    "name": "ipython",
    "version": 2.0
   },
   "file_extension": ".py",
   "mimetype": "text/x-python",
   "name": "python",
   "nbconvert_exporter": "python",
   "pygments_lexer": "ipython2",
   "version": "2.7.10"
  }
 },
 "nbformat": 4,
 "nbformat_minor": 0
}