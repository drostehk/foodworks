{
 "metadata": {
  "name": "",
  "signature": "sha256:a142c5ad11f8ab96fdbded1f36aa0c8615afcd91264c3c5b405a182bd78e7410"
 },
 "nbformat": 3,
 "nbformat_minor": 0,
 "worksheets": [
  {
   "cells": [
    {
     "cell_type": "code",
     "collapsed": false,
     "input": [
      "%%javascript\n",
      "\n",
      "window.load_remote_theme = true\n",
      "var theme_js = \"https://drostehk.github.io/ipynb-theme/custom.js\";\n",
      "\n",
      "window.load_local_theme = function(){\n",
      "    var hostname = document.location.hostname\n",
      "    return ((hostname == \"localhost\" || hostname == '127.0.0.1') && !load_remote_theme)\n",
      "}\n",
      "\n",
      "var url = load_local_theme() ? document.location.origin + \"/files/theme/custom.js\" : theme_js\n",
      "\n",
      "$.getScript(url)"
     ],
     "language": "python",
     "metadata": {},
     "outputs": [
      {
       "javascript": [
        "\n",
        "window.load_remote_theme = true\n",
        "var theme_js = \"https://drostehk.github.io/ipynb-theme/custom.js\";\n",
        "\n",
        "window.load_local_theme = function(){\n",
        "    var hostname = document.location.hostname\n",
        "    return ((hostname == \"localhost\" || hostname == '127.0.0.1') && !load_remote_theme)\n",
        "}\n",
        "\n",
        "var url = load_local_theme() ? document.location.origin + \"/files/theme/custom.js\" : theme_js\n",
        "\n",
        "$.getScript(url)"
       ],
       "metadata": {},
       "output_type": "display_data",
       "text": [
        "<IPython.core.display.Javascript at 0x7fd554d85750>"
       ]
      }
     ],
     "prompt_number": 1
    },
    {
     "cell_type": "heading",
     "level": 1,
     "metadata": {},
     "source": [
      "How to clean NGO data"
     ]
    },
    {
     "cell_type": "markdown",
     "metadata": {},
     "source": [
      "This is a guide to cleaning up NGO data. NGO data is particular in that it might be willingly provided, but the organisations always run on a tight budget and hence might not always have had the most stringent and consistent data tracking practices in place. Through a number of steps I'll show you how you can clean NGO data for cross-comparison and deeper analysis."
     ]
    },
    {
     "cell_type": "heading",
     "level": 2,
     "metadata": {},
     "source": [
      "Example NGO : FoodLink"
     ]
    },
    {
     "cell_type": "markdown",
     "metadata": {},
     "source": [
      "We'll be working with an exemplary NGO, FoodLink. They have provided us with 4 years worth of data, and it is reasonably consistent, however it is stored inside Microsoft Excel files, and it needs to be extracted for a structure comparison to other NGOs or to more easily observing longer trends.\n"
     ]
    },
    {
     "cell_type": "heading",
     "level": 2,
     "metadata": {},
     "source": [
      "Installing Necessary Packages"
     ]
    },
    {
     "cell_type": "markdown",
     "metadata": {},
     "source": [
      "Install any of the packages that you might need for the cleaning and merging of the data. You'll need [pip](https://pip.pypa.io/en/latest/installing.html) installed to get python packages this way."
     ]
    },
    {
     "cell_type": "code",
     "collapsed": false,
     "input": [
      "!pip install pandas xlrd"
     ],
     "language": "python",
     "metadata": {},
     "outputs": []
    },
    {
     "cell_type": "heading",
     "level": 2,
     "metadata": {},
     "source": [
      "Importing Python Modules"
     ]
    },
    {
     "cell_type": "markdown",
     "metadata": {},
     "source": [
      "Now we'll import all the modules we'll be using, and setup some of the pandas matplotlib options"
     ]
    },
    {
     "cell_type": "code",
     "collapsed": false,
     "input": [
      "import os\n",
      "import xlrd\n",
      "import matplotlib\n",
      "import matplotlib.pyplot as plt\n",
      "import pandas as pd\n",
      "import numpy as np\n",
      "\n",
      "from isoweek import Week\n",
      "from collections import defaultdict\n",
      "\n",
      "# Set some Pandas options\n",
      "pd.set_option('max_columns', 30)\n",
      "pd.set_option('max_rows', 20)\n",
      "\n",
      "# Set some Matplotlib options\n",
      "matplotlib.rcParams['figure.figsize'] = 20, 8\n",
      "\n",
      "font = {'family' : 'Dejavu Sans',\n",
      "        'weight' : 'bold',\n",
      "        'size'   : 32}\n",
      "\n",
      "matplotlib.rc('font', **font)\n",
      "\n",
      "%matplotlib inline"
     ],
     "language": "python",
     "metadata": {},
     "outputs": [],
     "prompt_number": 6
    },
    {
     "cell_type": "markdown",
     "metadata": {},
     "source": [
      "Make a fixed reference to the data directory for easy loading of the Excel files."
     ]
    },
    {
     "cell_type": "code",
     "collapsed": false,
     "input": [
      "DATA_DIR = '../data/FoodLink/Hot Food Program/'"
     ],
     "language": "python",
     "metadata": {},
     "outputs": [],
     "prompt_number": 11
    },
    {
     "cell_type": "heading",
     "level": 2,
     "metadata": {},
     "source": [
      "Inspecting the XLS Files"
     ]
    },
    {
     "cell_type": "markdown",
     "metadata": {},
     "source": [
      "You would open these files in a spreadsheet programme first to inspect what the data structure is like. In the case of Foodlink we have 4 files, one for each of the past years."
     ]
    },
    {
     "cell_type": "markdown",
     "metadata": {},
     "source": [
      "The first thing to look out for is the tabular structure of the files - that is, is there a lot of cruft around the actual data, like notes empty lines and the like, or is the first line the header line and does the data start immediately after that?"
     ]
    },
    {
     "cell_type": "markdown",
     "metadata": {},
     "source": [
      "In case of the FoodLink data, there are discrepancies between how many lines are used to buffer the column headers. To load the data into pandas - our data analysis library - we'll have to know a bit more about the structure and names of the sheets in the Excel. So let's extract those first before importing the actual data."
     ]
    },
    {
     "cell_type": "heading",
     "level": 4,
     "metadata": {},
     "source": [
      "List XLSX Filename"
     ]
    },
    {
     "cell_type": "code",
     "collapsed": false,
     "input": [
      "xlsxFileNames = {int(f.split()[0]): f for f in os.listdir(DATA_DIR) if f.endswith(\".xlsx\")}    \n",
      "xlsxFileNames"
     ],
     "language": "python",
     "metadata": {},
     "outputs": [
      {
       "metadata": {},
       "output_type": "pyout",
       "prompt_number": 12,
       "text": [
        "{2011: '2011 Food Collection Master Log.xlsx',\n",
        " 2012: '2012 Food Collection Master Log.xlsx',\n",
        " 2013: '2013 Food Collection Master Log.xlsx',\n",
        " 2014: '2014 Food Collection Master Log.xlsx'}"
       ]
      }
     ],
     "prompt_number": 12
    },
    {
     "cell_type": "heading",
     "level": 4,
     "metadata": {},
     "source": [
      "Open XLS Files"
     ]
    },
    {
     "cell_type": "code",
     "collapsed": false,
     "input": [
      "xlsFiles = {}\n",
      "for fn in xlsxFileNames.itervalues():\n",
      "    path = DATA_DIR + fn\n",
      "    xlsFiles[int(fn.split()[0])] = xlrd.open_workbook(path, on_demand=True)\n",
      "\n",
      "xlsFiles"
     ],
     "language": "python",
     "metadata": {},
     "outputs": [
      {
       "metadata": {},
       "output_type": "pyout",
       "prompt_number": 14,
       "text": [
        "{2011: <xlrd.book.Book at 0x7f059ce5e090>,\n",
        " 2012: <xlrd.book.Book at 0x7f059cdc0410>,\n",
        " 2013: <xlrd.book.Book at 0x7f059ce0a8d0>,\n",
        " 2014: <xlrd.book.Book at 0x7f059cdc0210>}"
       ]
      }
     ],
     "prompt_number": 14
    },
    {
     "cell_type": "heading",
     "level": 4,
     "metadata": {},
     "source": [
      "Get Worksheet Names"
     ]
    },
    {
     "cell_type": "markdown",
     "metadata": {},
     "source": [
      "For FoodLink, it turns out that there are _two_ types of worksheet, one with totals only, the other with counts split up into categories. Sadly, the more granular data isn't always available, so we will loop through all the sheets, and taking the one with the highest level of granularity when possible.\n"
     ]
    },
    {
     "cell_type": "code",
     "collapsed": false,
     "input": [
      "weeklySheets = defaultdict(list)\n",
      "for y, fn in xlsFiles.iteritems():\n",
      "    sheetnames = fn.sheet_names()\n",
      "    for idx, sheet in enumerate(sheetnames):\n",
      "        if ('Week ' in sheet or 'WK ' in sheet):\n",
      "            try:\n",
      "                if sheetnames[idx+1].endswith('(2)'):\n",
      "                    continue\n",
      "                else:\n",
      "                    weeklySheets[int(y)].append(sheet)\n",
      "            except:\n",
      "                print 'Couldn\\'t get %s' % (sheet)"
     ],
     "language": "python",
     "metadata": {},
     "outputs": [],
     "prompt_number": 15
    },
    {
     "cell_type": "heading",
     "level": 4,
     "metadata": {},
     "source": [
      "Results"
     ]
    },
    {
     "cell_type": "code",
     "collapsed": false,
     "input": [
      "weeklySheets"
     ],
     "language": "python",
     "metadata": {},
     "outputs": [
      {
       "metadata": {},
       "output_type": "pyout",
       "prompt_number": 16,
       "text": [
        "defaultdict(<type 'list'>, {2011: [u'WK 21', u'WK 22', u'WK 23', u'WK 24', u'WK 25', u'WK 26', u'WK 33', u'WK 34', u'WK 35', u'WK 36', u'WK 37', u'WK 38', u'WK 39', u'WK 40', u'WK 41', u'WK 42', u'WK 43', u'WK 44', u'WK 45', u'WK 46', u'WK 47', u'WK 48', u'WK 49', u'WK 50', u'WK 51', u'WK 52'], 2012: [u'Week 1', u'Week 2', u'Week 3', u'Week 4', u'Week 5', u'Week 6', u'Week 7', u'Week 8', u'Week 9', u'Week 10', u'Week 11', u'Week 12', u'Week 13', u'Week 14', u'Week 15', u'Week 16', u'Week 17', u'Week 18', u'Week 19', u'Week 20', u'Week 21', u'Week 22', u'Week 23', u'Week 24', u'Week 25', u'Week 26', u'Week 27', u'Week 28', u'Week 29', u'Week 30', u'Week 31', u'Week 32', u'Week 33', u'Week 34', u'Week 35', u'Week 36', u'Week 37', u'Week 38', u'Week 39', u'Week 40', u'Week 41', u'Week 42', u'Week 43', u'Week 44', u'Week 45', u'Week 46', u'Week 47', u'Week 48', u'Week 49', u'Week 50', u'Week 51', u'Week 52'], 2013: [u'Week 1', u'Week 2', u'Week 3', u'Week 4', u'Week 5', u'Week 6', u'Week 7', u'Week 8', u'Week 9', u'Week 10', u'Week 11', u'Week 12', u'Week 13', u'Week 14', u'Week 15', u'Week 16', u'Week 17', u'Week 18', u'Week 19 (2)', u'Week 20 (2)', u'Week 21 (2)', u'Week 22 (2)', u'Week 23 (2)', u'Week 24 (2)', u'Week 25 (2)', u'Week 26 (2)', u'Week 27(2)', u'Week 28(2)', u'Week 29(2)', u'Week 30(2)', u'Week 31(2)', u'Week 32(2)', u'Week 33(2)', u'Week 34(2)', u'Week 35(2)', u'Week 36(2)', u'Week 37(2)', u'Week 38(2)', u'Week 39(2)', u'Week 40(2)', u'Week 41(2)', u'Week 42(2)', u'Week 43(2)', u'Week 44(2)', u'Week 45(2)', u'Week 46(2)', u'Week 47(2)', u'Week 48(2)', u'Week 49(2)', u'Week 50(2)', u'Week 51(2)', u'Week 52(2)', u'Week 53(2)'], 2014: [u'Week 1', u'Week 2', u'Week 3', u'Week 4', u'Week 5', u'Week 6', u'Week 7', u'Week 8', u'Week 9', u'Week 10', u'Week 11', u'Week 12', u'Week 13', u'Week 14', u'Week 15 (2)', u'Week 16 (2)', u'Week 17 (2)', u'Week 18 (2)', u'Week 19 (2)', u'Week 20 (2)', u'Week 21 (2)', u'Week 22 (2)', u'Week 23 (2)', u'Week 24 (2)', u'Week 25 (2)', u'Week 26 (2)', u'Week 27 (2)', u'Week 28 (2)', u'Week 29 (2)', u'Week 30 (2)', u'Week 31 (2)', u'Week 32 (2)', u'Week 33 (2)', u'Week 34 (2)', u'Week 35 (2)', u'Week 36 (2)', u'Week 37 (2)']})"
       ]
      }
     ],
     "prompt_number": 16
    },
    {
     "cell_type": "heading",
     "level": 4,
     "metadata": {},
     "source": [
      "Number of Bufferlines per XLSX File"
     ]
    },
    {
     "cell_type": "markdown",
     "metadata": {},
     "source": [
      "Remember that there are a different number of buffer rows for each of the Excel files? We can get those programmatically."
     ]
    },
    {
     "cell_type": "code",
     "collapsed": false,
     "input": [
      "headerBuffer = {}\n",
      "for y, fn in xlsFiles.iteritems():\n",
      "    s = fn.sheet_by_name(weeklySheets[y][0])\n",
      "    headerrows = [k for k,v in enumerate(s.col(1)) if v.value == u'Mon'][0]\n",
      "    headerBuffer[y] = headerrows"
     ],
     "language": "python",
     "metadata": {},
     "outputs": [],
     "prompt_number": 19
    },
    {
     "cell_type": "heading",
     "level": 4,
     "metadata": {},
     "source": [
      "Results"
     ]
    },
    {
     "cell_type": "code",
     "collapsed": false,
     "input": [
      "headerBuffer"
     ],
     "language": "python",
     "metadata": {},
     "outputs": [
      {
       "metadata": {},
       "output_type": "pyout",
       "prompt_number": 20,
       "text": [
        "{2011: 2, 2012: 2, 2013: 2, 2014: 3}"
       ]
      }
     ],
     "prompt_number": 20
    },
    {
     "cell_type": "heading",
     "level": 3,
     "metadata": {},
     "source": [
      "Read the Data into a Pandas DataFrame"
     ]
    },
    {
     "cell_type": "markdown",
     "metadata": {},
     "source": [
      "The data for FoodLink's recue operation has been tabulated per week. However, recall that we are sometimes looking at aggregated data, and sometimes we actually have the more granular categorised data. When importing the data, we need to take account of that, as the tabular data format - the number of rows x columns - is going to differ. FoodLink also collected different categories of food in different years, so that needs to be accounted for as well."
     ]
    },
    {
     "cell_type": "heading",
     "level": 4,
     "metadata": {},
     "source": [
      "Excel Sheet Data Extraction"
     ]
    },
    {
     "cell_type": "code",
     "collapsed": false,
     "input": [
      "def readExcelSheet(y,w,k,agg=True):\n",
      "    \"\"\"\n",
      "    Set different parameters depending on whether you are reading in Aggregate\n",
      "    Data, or Categorised Data.\n",
      "    \n",
      "    param y = year for calculating the date\n",
      "    param w = week number for calculating the date\n",
      "    param k = iterable for selecting the sheet\n",
      "    param agg = Whether the datasheet presents aggregate values onles\n",
      "    \"\"\"\n",
      "    \n",
      "    # Rules for aggregated data\n",
      "    if agg:\n",
      "        \n",
      "        cols_to_parse = 5\n",
      "        \n",
      "        header_row = headerBuffer[y]\n",
      "        \n",
      "        c = 'Aggregate'\n",
      "        \n",
      "    # Rules for non-aggregated data\n",
      "    else:\n",
      "        \n",
      "        if y == 2014:\n",
      "            no_cats = 3\n",
      "        elif w > 31:\n",
      "            no_cats = 5\n",
      "        else:\n",
      "            no_cats = 4\n",
      "        \n",
      "        cols_to_parse = [0] + list(np.hstack([[x + (no_cats*z) for x\n",
      "                                               in range(1,no_cats)] for z\n",
      "                                               in range(0,5)]))\n",
      "        \n",
      "        header_row = headerBuffer[y] + 1\n",
      "        \n",
      "        c = 'Categorised'\n",
      "    \n",
      "    # Extract the data with the correct rules\n",
      "    try:\n",
      "        fn = DATA_DIR + xlsxFileNames[y]\n",
      "\n",
      "        sheet_as_df = pd.read_excel(fn,\n",
      "                          sheetname=weeklySheets[y][k],\n",
      "                          header=header_row,\n",
      "                          index_col=0,\n",
      "                          parse_cols=cols_to_parse)\n",
      "\n",
      "        print 'Importing %s Y:%i, W:%i' % (c,y,w)\n",
      "\n",
      "        return sheet_as_df\n",
      "\n",
      "\n",
      "    except:\n",
      "        print ' >>> Missing Y:%i, W:%i' % (y,w)"
     ],
     "language": "python",
     "metadata": {},
     "outputs": [],
     "prompt_number": 26
    },
    {
     "cell_type": "markdown",
     "metadata": {},
     "source": [
      "When preparing data from multiple sources it is imperative that you settle on a data structure _after_ inspecting the data, but _before_ you start working on your data wrangling pipeline - that is, the steps which will transform your data into a format which will make it easy for comparison."
     ]
    },
    {
     "cell_type": "markdown",
     "metadata": {},
     "source": [
      "This warrants a whole treatment in and of itself, but the structure we will settle on for the food data is"
     ]
    },
    {
     "cell_type": "markdown",
     "metadata": {},
     "source": [
      "| NGO       | programme | donor | timestamp  | < food category 1 > | < food category 2 > | < food category 3 > |\n",
      "|:----------|:---------:|:-----:|:----------:|------------------:|------------------:|------------------:|\n",
      "| FoodLink  | Hot Food  | XXXX  | 2014-12-12 | KGs | KGs | KGs |"
     ]
    },
    {
     "cell_type": "markdown",
     "metadata": {},
     "source": [
      "To enforce that structure in our dataset, after we've imported the Excel sheets, we're foing to have to push it through a formatting function which will transform it into the right format for us. Based on the data structure we've decided on, and the difference between the aggregated and non-aggregated data formes, the format function looks something like this:"
     ]
    },
    {
     "cell_type": "heading",
     "level": 4,
     "metadata": {},
     "source": [
      "Data Format Function"
     ]
    },
    {
     "cell_type": "code",
     "collapsed": false,
     "input": [
      "def format_df(sht, y, w, agg=True):\n",
      "\n",
      "    # Rules for aggregated data\n",
      "\n",
      "    if agg:\n",
      "        \n",
      "        sht.columns = Week(y, w).days()[:5]\n",
      "        \n",
      "        sht = sht.dropna(how='all', axis=0)\n",
      "\n",
      "        sht.index = [unicode(label).strip() for label in sht.index]\n",
      "        \n",
      "        sht = pd.DataFrame(sht.stack())\n",
      "               \n",
      "        sht['Programme'] = 'Hot Food'\n",
      "        sht.set_index('Programme', append=True, inplace=True)\n",
      "        \n",
      "        sht['NGO'] = 'FoodLink'\n",
      "        sht.set_index('NGO', append=True, inplace=True)\n",
      "            \n",
      "        sht.index.names = [u'Donor', u'Date', u'Programme', u'NGO']\n",
      "            \n",
      "        sht = sht.reorder_levels(['NGO', 'Programme', 'Donor', 'Date'])\n",
      "        \n",
      "        sht.columns = ['Total']\n",
      "        \n",
      "        return sht\n",
      "\n",
      "    # Rules for non-aggregated data\n",
      "    \n",
      "    else:\n",
      "                       \n",
      "        days = Week(y, w).days()[:5]\n",
      "\n",
      "        cats = []\n",
      "        [cats.append(cat) for cat in sht.columns if cat not in cats]\n",
      "    \n",
      "        cats = [cat for cat in cats if '.' not in cat]\n",
      "        \n",
      "        index = pd.MultiIndex.from_product([days,cats], names=[u'Date', u'Category'])\n",
      "                \n",
      "        sht.columns = index\n",
      "\n",
      "        sht = sht.dropna(how='all', axis=0)\n",
      "\n",
      "        sht.index = [unicode(label).strip() for label in sht.index]\n",
      "         \n",
      "        sht['Programme'] = 'Hot Food'\n",
      "        sht.set_index('Programme', append=True, inplace=True)\n",
      "        \n",
      "        sht['NGO'] = 'FoodLink'\n",
      "        sht.set_index('NGO', append=True, inplace=True)\n",
      "        \n",
      "        sht = sht.stack(0)\n",
      "        \n",
      "        sht.index.names = [u'Donor', u'Programme', u'NGO', u'Date']\n",
      "            \n",
      "        sht = sht.reorder_levels(['NGO', 'Programme', 'Donor', 'Date'])\n",
      "        \n",
      "        sht = sht.fillna(0)\n",
      "        \n",
      "        return sht"
     ],
     "language": "python",
     "metadata": {},
     "outputs": [],
     "prompt_number": 28
    },
    {
     "cell_type": "heading",
     "level": 4,
     "metadata": {},
     "source": [
      "Examples of Formatting the various types of data sheets"
     ]
    },
    {
     "cell_type": "markdown",
     "metadata": {},
     "source": [
      "When building a formatting function, always have some examples ready for inspection. So open up the respective sheets in your spreadsheet programme, and first confirm that you're getting the right data out, then secondly, confirm that the format the data is in conforms to the data structure you've decided upon."
     ]
    },
    {
     "cell_type": "markdown",
     "metadata": {},
     "source": [
      "Uncomment any of the following lines to try them out."
     ]
    },
    {
     "cell_type": "code",
     "collapsed": false,
     "input": [
      "# Non-Aggregate - 4 Categories\n",
      "# format_df(readExcelSheet(2013,34,33,False),2013,34,False)"
     ],
     "language": "python",
     "metadata": {},
     "outputs": []
    },
    {
     "cell_type": "code",
     "collapsed": false,
     "input": [
      "# Non-Aggregate - 2 Categories\n",
      "# format_df(readExcelSheet(2014,18,17,False),2014,18,False)"
     ],
     "language": "python",
     "metadata": {},
     "outputs": []
    },
    {
     "cell_type": "code",
     "collapsed": false,
     "input": [
      "# Aggregate - Total Only\n",
      "# format_df(readExcelSheet(2012, 34, 34),2012, 34)"
     ],
     "language": "python",
     "metadata": {},
     "outputs": []
    },
    {
     "cell_type": "heading",
     "level": 4,
     "metadata": {},
     "source": [
      "Batch Extract the Data"
     ]
    },
    {
     "cell_type": "markdown",
     "metadata": {},
     "source": [
      "So far we haven't actually run any of the functions - we've just been tweaking them and making sure that they do what they are supposed to do. Once you are sure that all your edge cases are handled, you can loop through all the sheets and import them with their respective options"
     ]
    },
    {
     "cell_type": "code",
     "collapsed": false,
     "input": [
      "# Store the sheets in a dictionary with a year for key, and a list of dataframes\n",
      "# as its values.\n",
      "dfs = defaultdict(list)\n",
      "\n",
      "# Year 2011 doesn't have continuous operations, so only get the active weeks\n",
      "y2011OperatingWeeks = [int(x[-2:]) for x in weeklySheets[2011]]\n",
      "\n",
      "for y in xlsxFileNames.keys():\n",
      "    if y == 2011:\n",
      "        for idx, w in enumerate(y2011OperatingWeeks):\n",
      "            # We call our custom function with year, week and index parameters\n",
      "            sht = readExcelSheet(y,w,idx)\n",
      "            # We call our custom formatter function, which transforms the data\n",
      "            # to fit our data structure.\n",
      "            dfs[y].append(format_df(sht, y, w))\n",
      "    else:\n",
      "        for idx, w in enumerate(range(1,53)):\n",
      "            try:\n",
      "                agg = '(2)' not in weeklySheets[y][idx]\n",
      "                # We call our custom function with year, week, index and specify\n",
      "                # whether it is an aggregated sheet or not.\n",
      "                sht = readExcelSheet(y,w,idx,agg)\n",
      "                # We call our custom formatter function, which transforms the\n",
      "                # data to fit our data structure.\n",
      "                dfs[y].append(format_df(sht, y, w, agg))\n",
      "            except IndexError:\n",
      "                pass"
     ],
     "language": "python",
     "metadata": {},
     "outputs": [
      {
       "output_type": "stream",
       "stream": "stdout",
       "text": [
        "Importing Aggregate Y:2011, W:21\n",
        "Importing Aggregate Y:2011, W:22\n",
        "Importing Aggregate Y:2011, W:23"
       ]
      },
      {
       "output_type": "stream",
       "stream": "stdout",
       "text": [
        "\n",
        "Importing Aggregate Y:2011, W:24\n",
        "Importing Aggregate Y:2011, W:25"
       ]
      },
      {
       "output_type": "stream",
       "stream": "stdout",
       "text": [
        "\n",
        "Importing Aggregate Y:2011, W:26"
       ]
      },
      {
       "output_type": "stream",
       "stream": "stdout",
       "text": [
        "\n",
        "Importing Aggregate Y:2011, W:33\n",
        "Importing Aggregate Y:2011, W:34"
       ]
      },
      {
       "output_type": "stream",
       "stream": "stdout",
       "text": [
        "\n",
        "Importing Aggregate Y:2011, W:35\n",
        "Importing Aggregate Y:2011, W:36"
       ]
      },
      {
       "output_type": "stream",
       "stream": "stdout",
       "text": [
        "\n",
        "Importing Aggregate Y:2011, W:37\n",
        "Importing Aggregate Y:2011, W:38"
       ]
      },
      {
       "output_type": "stream",
       "stream": "stdout",
       "text": [
        "\n",
        "Importing Aggregate Y:2011, W:39\n",
        "Importing Aggregate Y:2011, W:40"
       ]
      },
      {
       "output_type": "stream",
       "stream": "stdout",
       "text": [
        "\n",
        "Importing Aggregate Y:2011, W:41\n",
        "Importing Aggregate Y:2011, W:42"
       ]
      },
      {
       "output_type": "stream",
       "stream": "stdout",
       "text": [
        "\n",
        "Importing Aggregate Y:2011, W:43\n",
        "Importing Aggregate Y:2011, W:44"
       ]
      },
      {
       "output_type": "stream",
       "stream": "stdout",
       "text": [
        "\n",
        "Importing Aggregate Y:2011, W:45\n",
        "Importing Aggregate Y:2011, W:46"
       ]
      },
      {
       "output_type": "stream",
       "stream": "stdout",
       "text": [
        "\n",
        "Importing Aggregate Y:2011, W:47\n",
        "Importing Aggregate Y:2011, W:48"
       ]
      },
      {
       "output_type": "stream",
       "stream": "stdout",
       "text": [
        "\n",
        "Importing Aggregate Y:2011, W:49"
       ]
      },
      {
       "output_type": "stream",
       "stream": "stdout",
       "text": [
        "\n",
        "Importing Aggregate Y:2011, W:50"
       ]
      },
      {
       "output_type": "stream",
       "stream": "stdout",
       "text": [
        "\n",
        "Importing Aggregate Y:2011, W:51"
       ]
      },
      {
       "output_type": "stream",
       "stream": "stdout",
       "text": [
        "\n",
        "Importing Aggregate Y:2011, W:52"
       ]
      },
      {
       "output_type": "stream",
       "stream": "stdout",
       "text": [
        "\n",
        "Importing Aggregate Y:2012, W:1"
       ]
      },
      {
       "output_type": "stream",
       "stream": "stdout",
       "text": [
        "\n",
        "Importing Aggregate Y:2012, W:2"
       ]
      },
      {
       "output_type": "stream",
       "stream": "stdout",
       "text": [
        "\n",
        "Importing Aggregate Y:2012, W:3"
       ]
      },
      {
       "output_type": "stream",
       "stream": "stdout",
       "text": [
        "\n",
        "Importing Aggregate Y:2012, W:4"
       ]
      },
      {
       "output_type": "stream",
       "stream": "stdout",
       "text": [
        "\n",
        "Importing Aggregate Y:2012, W:5"
       ]
      },
      {
       "output_type": "stream",
       "stream": "stdout",
       "text": [
        "\n",
        "Importing Aggregate Y:2012, W:6"
       ]
      },
      {
       "output_type": "stream",
       "stream": "stdout",
       "text": [
        "\n",
        "Importing Aggregate Y:2012, W:7"
       ]
      },
      {
       "output_type": "stream",
       "stream": "stdout",
       "text": [
        "\n",
        "Importing Aggregate Y:2012, W:8"
       ]
      },
      {
       "output_type": "stream",
       "stream": "stdout",
       "text": [
        "\n",
        "Importing Aggregate Y:2012, W:9"
       ]
      },
      {
       "output_type": "stream",
       "stream": "stdout",
       "text": [
        "\n",
        "Importing Aggregate Y:2012, W:10"
       ]
      },
      {
       "output_type": "stream",
       "stream": "stdout",
       "text": [
        "\n",
        "Importing Aggregate Y:2012, W:11"
       ]
      },
      {
       "output_type": "stream",
       "stream": "stdout",
       "text": [
        "\n",
        "Importing Aggregate Y:2012, W:12"
       ]
      },
      {
       "output_type": "stream",
       "stream": "stdout",
       "text": [
        "\n",
        "Importing Aggregate Y:2012, W:13"
       ]
      },
      {
       "output_type": "stream",
       "stream": "stdout",
       "text": [
        "\n",
        "Importing Aggregate Y:2012, W:14"
       ]
      },
      {
       "output_type": "stream",
       "stream": "stdout",
       "text": [
        "\n",
        "Importing Aggregate Y:2012, W:15"
       ]
      },
      {
       "output_type": "stream",
       "stream": "stdout",
       "text": [
        "\n",
        "Importing Aggregate Y:2012, W:16"
       ]
      },
      {
       "output_type": "stream",
       "stream": "stdout",
       "text": [
        "\n",
        "Importing Aggregate Y:2012, W:17"
       ]
      },
      {
       "output_type": "stream",
       "stream": "stdout",
       "text": [
        "\n",
        "Importing Aggregate Y:2012, W:18"
       ]
      },
      {
       "output_type": "stream",
       "stream": "stdout",
       "text": [
        "\n",
        "Importing Aggregate Y:2012, W:19"
       ]
      },
      {
       "output_type": "stream",
       "stream": "stdout",
       "text": [
        "\n",
        "Importing Aggregate Y:2012, W:20"
       ]
      },
      {
       "output_type": "stream",
       "stream": "stdout",
       "text": [
        "\n",
        "Importing Aggregate Y:2012, W:21"
       ]
      },
      {
       "output_type": "stream",
       "stream": "stdout",
       "text": [
        "\n",
        "Importing Aggregate Y:2012, W:22"
       ]
      },
      {
       "output_type": "stream",
       "stream": "stdout",
       "text": [
        "\n",
        "Importing Aggregate Y:2012, W:23"
       ]
      },
      {
       "output_type": "stream",
       "stream": "stdout",
       "text": [
        "\n",
        "Importing Aggregate Y:2012, W:24"
       ]
      },
      {
       "output_type": "stream",
       "stream": "stdout",
       "text": [
        "\n",
        "Importing Aggregate Y:2012, W:25"
       ]
      },
      {
       "output_type": "stream",
       "stream": "stdout",
       "text": [
        "\n",
        "Importing Aggregate Y:2012, W:26"
       ]
      },
      {
       "output_type": "stream",
       "stream": "stdout",
       "text": [
        "\n",
        "Importing Aggregate Y:2012, W:27"
       ]
      },
      {
       "output_type": "stream",
       "stream": "stdout",
       "text": [
        "\n",
        "Importing Aggregate Y:2012, W:28"
       ]
      },
      {
       "output_type": "stream",
       "stream": "stdout",
       "text": [
        "\n",
        "Importing Aggregate Y:2012, W:29"
       ]
      },
      {
       "output_type": "stream",
       "stream": "stdout",
       "text": [
        "\n",
        "Importing Aggregate Y:2012, W:30"
       ]
      },
      {
       "output_type": "stream",
       "stream": "stdout",
       "text": [
        "\n",
        "Importing Aggregate Y:2012, W:31"
       ]
      },
      {
       "output_type": "stream",
       "stream": "stdout",
       "text": [
        "\n",
        "Importing Aggregate Y:2012, W:32"
       ]
      },
      {
       "output_type": "stream",
       "stream": "stdout",
       "text": [
        "\n",
        "Importing Aggregate Y:2012, W:33"
       ]
      },
      {
       "output_type": "stream",
       "stream": "stdout",
       "text": [
        "\n",
        "Importing Aggregate Y:2012, W:34"
       ]
      },
      {
       "output_type": "stream",
       "stream": "stdout",
       "text": [
        "\n",
        "Importing Aggregate Y:2012, W:35"
       ]
      },
      {
       "output_type": "stream",
       "stream": "stdout",
       "text": [
        "\n",
        "Importing Aggregate Y:2012, W:36"
       ]
      },
      {
       "output_type": "stream",
       "stream": "stdout",
       "text": [
        "\n",
        "Importing Aggregate Y:2012, W:37"
       ]
      },
      {
       "output_type": "stream",
       "stream": "stdout",
       "text": [
        "\n",
        "Importing Aggregate Y:2012, W:38"
       ]
      },
      {
       "output_type": "stream",
       "stream": "stdout",
       "text": [
        "\n",
        "Importing Aggregate Y:2012, W:39"
       ]
      },
      {
       "output_type": "stream",
       "stream": "stdout",
       "text": [
        "\n",
        "Importing Aggregate Y:2012, W:40"
       ]
      },
      {
       "output_type": "stream",
       "stream": "stdout",
       "text": [
        "\n",
        "Importing Aggregate Y:2012, W:41"
       ]
      },
      {
       "output_type": "stream",
       "stream": "stdout",
       "text": [
        "\n",
        "Importing Aggregate Y:2012, W:42"
       ]
      },
      {
       "output_type": "stream",
       "stream": "stdout",
       "text": [
        "\n",
        "Importing Aggregate Y:2012, W:43"
       ]
      },
      {
       "output_type": "stream",
       "stream": "stdout",
       "text": [
        "\n",
        "Importing Aggregate Y:2012, W:44"
       ]
      },
      {
       "output_type": "stream",
       "stream": "stdout",
       "text": [
        "\n",
        "Importing Aggregate Y:2012, W:45"
       ]
      },
      {
       "output_type": "stream",
       "stream": "stdout",
       "text": [
        "\n",
        "Importing Aggregate Y:2012, W:46"
       ]
      },
      {
       "output_type": "stream",
       "stream": "stdout",
       "text": [
        "\n",
        "Importing Aggregate Y:2012, W:47"
       ]
      },
      {
       "output_type": "stream",
       "stream": "stdout",
       "text": [
        "\n",
        "Importing Aggregate Y:2012, W:48"
       ]
      },
      {
       "output_type": "stream",
       "stream": "stdout",
       "text": [
        "\n",
        "Importing Aggregate Y:2012, W:49"
       ]
      },
      {
       "output_type": "stream",
       "stream": "stdout",
       "text": [
        "\n",
        "Importing Aggregate Y:2012, W:50"
       ]
      },
      {
       "output_type": "stream",
       "stream": "stdout",
       "text": [
        "\n",
        "Importing Aggregate Y:2012, W:51"
       ]
      },
      {
       "output_type": "stream",
       "stream": "stdout",
       "text": [
        "\n",
        "Importing Aggregate Y:2012, W:52"
       ]
      },
      {
       "output_type": "stream",
       "stream": "stdout",
       "text": [
        "\n",
        "Importing Aggregate Y:2013, W:1"
       ]
      },
      {
       "output_type": "stream",
       "stream": "stdout",
       "text": [
        "\n",
        "Importing Aggregate Y:2013, W:2"
       ]
      },
      {
       "output_type": "stream",
       "stream": "stdout",
       "text": [
        "\n",
        "Importing Aggregate Y:2013, W:3"
       ]
      },
      {
       "output_type": "stream",
       "stream": "stdout",
       "text": [
        "\n",
        "Importing Aggregate Y:2013, W:4"
       ]
      },
      {
       "output_type": "stream",
       "stream": "stdout",
       "text": [
        "\n",
        "Importing Aggregate Y:2013, W:5"
       ]
      },
      {
       "output_type": "stream",
       "stream": "stdout",
       "text": [
        "\n",
        "Importing Aggregate Y:2013, W:6"
       ]
      },
      {
       "output_type": "stream",
       "stream": "stdout",
       "text": [
        "\n",
        "Importing Aggregate Y:2013, W:7"
       ]
      },
      {
       "output_type": "stream",
       "stream": "stdout",
       "text": [
        "\n",
        "Importing Aggregate Y:2013, W:8"
       ]
      },
      {
       "output_type": "stream",
       "stream": "stdout",
       "text": [
        "\n",
        "Importing Aggregate Y:2013, W:9"
       ]
      },
      {
       "output_type": "stream",
       "stream": "stdout",
       "text": [
        "\n",
        "Importing Aggregate Y:2013, W:10"
       ]
      },
      {
       "output_type": "stream",
       "stream": "stdout",
       "text": [
        "\n",
        "Importing Aggregate Y:2013, W:11"
       ]
      },
      {
       "output_type": "stream",
       "stream": "stdout",
       "text": [
        "\n",
        "Importing Aggregate Y:2013, W:12"
       ]
      },
      {
       "output_type": "stream",
       "stream": "stdout",
       "text": [
        "\n",
        "Importing Aggregate Y:2013, W:13"
       ]
      },
      {
       "output_type": "stream",
       "stream": "stdout",
       "text": [
        "\n",
        "Importing Aggregate Y:2013, W:14"
       ]
      },
      {
       "output_type": "stream",
       "stream": "stdout",
       "text": [
        "\n",
        "Importing Aggregate Y:2013, W:15"
       ]
      },
      {
       "output_type": "stream",
       "stream": "stdout",
       "text": [
        "\n",
        "Importing Aggregate Y:2013, W:16"
       ]
      },
      {
       "output_type": "stream",
       "stream": "stdout",
       "text": [
        "\n",
        "Importing Aggregate Y:2013, W:17"
       ]
      },
      {
       "output_type": "stream",
       "stream": "stdout",
       "text": [
        "\n",
        "Importing Aggregate Y:2013, W:18"
       ]
      },
      {
       "output_type": "stream",
       "stream": "stdout",
       "text": [
        "\n",
        "Importing Categorised Y:2013, W:19"
       ]
      },
      {
       "output_type": "stream",
       "stream": "stdout",
       "text": [
        "\n",
        "Importing Categorised Y:2013, W:20"
       ]
      },
      {
       "output_type": "stream",
       "stream": "stdout",
       "text": [
        "\n",
        "Importing Categorised Y:2013, W:21"
       ]
      },
      {
       "output_type": "stream",
       "stream": "stdout",
       "text": [
        "\n",
        "Importing Categorised Y:2013, W:22"
       ]
      },
      {
       "output_type": "stream",
       "stream": "stdout",
       "text": [
        "\n",
        "Importing Categorised Y:2013, W:23"
       ]
      },
      {
       "output_type": "stream",
       "stream": "stdout",
       "text": [
        "\n",
        "Importing Categorised Y:2013, W:24"
       ]
      },
      {
       "output_type": "stream",
       "stream": "stdout",
       "text": [
        "\n",
        "Importing Categorised Y:2013, W:25"
       ]
      },
      {
       "output_type": "stream",
       "stream": "stdout",
       "text": [
        "\n",
        "Importing Categorised Y:2013, W:26"
       ]
      },
      {
       "output_type": "stream",
       "stream": "stdout",
       "text": [
        "\n",
        "Importing Categorised Y:2013, W:27"
       ]
      },
      {
       "output_type": "stream",
       "stream": "stdout",
       "text": [
        "\n",
        "Importing Categorised Y:2013, W:28"
       ]
      },
      {
       "output_type": "stream",
       "stream": "stdout",
       "text": [
        "\n",
        "Importing Categorised Y:2013, W:29"
       ]
      },
      {
       "output_type": "stream",
       "stream": "stdout",
       "text": [
        "\n",
        "Importing Categorised Y:2013, W:30"
       ]
      },
      {
       "output_type": "stream",
       "stream": "stdout",
       "text": [
        "\n",
        "Importing Categorised Y:2013, W:31"
       ]
      },
      {
       "output_type": "stream",
       "stream": "stdout",
       "text": [
        "\n",
        "Importing Categorised Y:2013, W:32"
       ]
      },
      {
       "output_type": "stream",
       "stream": "stdout",
       "text": [
        "\n",
        "Importing Categorised Y:2013, W:33"
       ]
      },
      {
       "output_type": "stream",
       "stream": "stdout",
       "text": [
        "\n",
        "Importing Categorised Y:2013, W:34"
       ]
      },
      {
       "output_type": "stream",
       "stream": "stdout",
       "text": [
        "\n",
        "Importing Categorised Y:2013, W:35"
       ]
      },
      {
       "output_type": "stream",
       "stream": "stdout",
       "text": [
        "\n",
        "Importing Categorised Y:2013, W:36"
       ]
      },
      {
       "output_type": "stream",
       "stream": "stdout",
       "text": [
        "\n",
        "Importing Categorised Y:2013, W:37"
       ]
      },
      {
       "output_type": "stream",
       "stream": "stdout",
       "text": [
        "\n",
        "Importing Categorised Y:2013, W:38"
       ]
      },
      {
       "output_type": "stream",
       "stream": "stdout",
       "text": [
        "\n",
        "Importing Categorised Y:2013, W:39"
       ]
      },
      {
       "output_type": "stream",
       "stream": "stdout",
       "text": [
        "\n",
        "Importing Categorised Y:2013, W:40"
       ]
      },
      {
       "output_type": "stream",
       "stream": "stdout",
       "text": [
        "\n",
        "Importing Categorised Y:2013, W:41"
       ]
      },
      {
       "output_type": "stream",
       "stream": "stdout",
       "text": [
        "\n",
        "Importing Categorised Y:2013, W:42"
       ]
      },
      {
       "output_type": "stream",
       "stream": "stdout",
       "text": [
        "\n",
        "Importing Categorised Y:2013, W:43"
       ]
      },
      {
       "output_type": "stream",
       "stream": "stdout",
       "text": [
        "\n",
        "Importing Categorised Y:2013, W:44"
       ]
      },
      {
       "output_type": "stream",
       "stream": "stdout",
       "text": [
        "\n",
        "Importing Categorised Y:2013, W:45"
       ]
      },
      {
       "output_type": "stream",
       "stream": "stdout",
       "text": [
        "\n",
        "Importing Categorised Y:2013, W:46"
       ]
      },
      {
       "output_type": "stream",
       "stream": "stdout",
       "text": [
        "\n",
        "Importing Categorised Y:2013, W:47"
       ]
      },
      {
       "output_type": "stream",
       "stream": "stdout",
       "text": [
        "\n",
        "Importing Categorised Y:2013, W:48"
       ]
      },
      {
       "output_type": "stream",
       "stream": "stdout",
       "text": [
        "\n",
        "Importing Categorised Y:2013, W:49"
       ]
      },
      {
       "output_type": "stream",
       "stream": "stdout",
       "text": [
        "\n",
        "Importing Categorised Y:2013, W:50"
       ]
      },
      {
       "output_type": "stream",
       "stream": "stdout",
       "text": [
        "\n",
        "Importing Categorised Y:2013, W:51"
       ]
      },
      {
       "output_type": "stream",
       "stream": "stdout",
       "text": [
        "\n",
        "Importing Categorised Y:2013, W:52"
       ]
      },
      {
       "output_type": "stream",
       "stream": "stdout",
       "text": [
        "\n",
        "Importing Aggregate Y:2014, W:1"
       ]
      },
      {
       "output_type": "stream",
       "stream": "stdout",
       "text": [
        "\n",
        "Importing Aggregate Y:2014, W:2"
       ]
      },
      {
       "output_type": "stream",
       "stream": "stdout",
       "text": [
        "\n",
        "Importing Aggregate Y:2014, W:3"
       ]
      },
      {
       "output_type": "stream",
       "stream": "stdout",
       "text": [
        "\n",
        "Importing Aggregate Y:2014, W:4"
       ]
      },
      {
       "output_type": "stream",
       "stream": "stdout",
       "text": [
        "\n",
        "Importing Aggregate Y:2014, W:5"
       ]
      },
      {
       "output_type": "stream",
       "stream": "stdout",
       "text": [
        "\n",
        "Importing Aggregate Y:2014, W:6"
       ]
      },
      {
       "output_type": "stream",
       "stream": "stdout",
       "text": [
        "\n",
        "Importing Aggregate Y:2014, W:7"
       ]
      },
      {
       "output_type": "stream",
       "stream": "stdout",
       "text": [
        "\n",
        "Importing Aggregate Y:2014, W:8"
       ]
      },
      {
       "output_type": "stream",
       "stream": "stdout",
       "text": [
        "\n",
        "Importing Aggregate Y:2014, W:9"
       ]
      },
      {
       "output_type": "stream",
       "stream": "stdout",
       "text": [
        "\n",
        "Importing Aggregate Y:2014, W:10"
       ]
      },
      {
       "output_type": "stream",
       "stream": "stdout",
       "text": [
        "\n",
        "Importing Aggregate Y:2014, W:11"
       ]
      },
      {
       "output_type": "stream",
       "stream": "stdout",
       "text": [
        "\n",
        "Importing Aggregate Y:2014, W:12"
       ]
      },
      {
       "output_type": "stream",
       "stream": "stdout",
       "text": [
        "\n",
        "Importing Aggregate Y:2014, W:13"
       ]
      },
      {
       "output_type": "stream",
       "stream": "stdout",
       "text": [
        "\n",
        "Importing Aggregate Y:2014, W:14"
       ]
      },
      {
       "output_type": "stream",
       "stream": "stdout",
       "text": [
        "\n",
        "Importing Categorised Y:2014, W:15"
       ]
      },
      {
       "output_type": "stream",
       "stream": "stdout",
       "text": [
        "\n",
        "Importing Categorised Y:2014, W:16"
       ]
      },
      {
       "output_type": "stream",
       "stream": "stdout",
       "text": [
        "\n",
        "Importing Categorised Y:2014, W:17"
       ]
      },
      {
       "output_type": "stream",
       "stream": "stdout",
       "text": [
        "\n",
        "Importing Categorised Y:2014, W:18"
       ]
      },
      {
       "output_type": "stream",
       "stream": "stdout",
       "text": [
        "\n",
        "Importing Categorised Y:2014, W:19"
       ]
      },
      {
       "output_type": "stream",
       "stream": "stdout",
       "text": [
        "\n",
        "Importing Categorised Y:2014, W:20"
       ]
      },
      {
       "output_type": "stream",
       "stream": "stdout",
       "text": [
        "\n",
        "Importing Categorised Y:2014, W:21"
       ]
      },
      {
       "output_type": "stream",
       "stream": "stdout",
       "text": [
        "\n",
        "Importing Categorised Y:2014, W:22"
       ]
      },
      {
       "output_type": "stream",
       "stream": "stdout",
       "text": [
        "\n",
        "Importing Categorised Y:2014, W:23"
       ]
      },
      {
       "output_type": "stream",
       "stream": "stdout",
       "text": [
        "\n",
        "Importing Categorised Y:2014, W:24"
       ]
      },
      {
       "output_type": "stream",
       "stream": "stdout",
       "text": [
        "\n",
        "Importing Categorised Y:2014, W:25"
       ]
      },
      {
       "output_type": "stream",
       "stream": "stdout",
       "text": [
        "\n",
        "Importing Categorised Y:2014, W:26"
       ]
      },
      {
       "output_type": "stream",
       "stream": "stdout",
       "text": [
        "\n",
        "Importing Categorised Y:2014, W:27"
       ]
      },
      {
       "output_type": "stream",
       "stream": "stdout",
       "text": [
        "\n",
        "Importing Categorised Y:2014, W:28"
       ]
      },
      {
       "output_type": "stream",
       "stream": "stdout",
       "text": [
        "\n",
        "Importing Categorised Y:2014, W:29"
       ]
      },
      {
       "output_type": "stream",
       "stream": "stdout",
       "text": [
        "\n",
        "Importing Categorised Y:2014, W:30"
       ]
      },
      {
       "output_type": "stream",
       "stream": "stdout",
       "text": [
        "\n",
        "Importing Categorised Y:2014, W:31"
       ]
      },
      {
       "output_type": "stream",
       "stream": "stdout",
       "text": [
        "\n",
        "Importing Categorised Y:2014, W:32"
       ]
      },
      {
       "output_type": "stream",
       "stream": "stdout",
       "text": [
        "\n",
        "Importing Categorised Y:2014, W:33"
       ]
      },
      {
       "output_type": "stream",
       "stream": "stdout",
       "text": [
        "\n",
        "Importing Categorised Y:2014, W:34"
       ]
      },
      {
       "output_type": "stream",
       "stream": "stdout",
       "text": [
        "\n",
        "Importing Categorised Y:2014, W:35"
       ]
      },
      {
       "output_type": "stream",
       "stream": "stdout",
       "text": [
        "\n",
        "Importing Categorised Y:2014, W:36"
       ]
      },
      {
       "output_type": "stream",
       "stream": "stdout",
       "text": [
        "\n",
        "Importing Categorised Y:2014, W:37"
       ]
      },
      {
       "output_type": "stream",
       "stream": "stdout",
       "text": [
        "\n"
       ]
      }
     ],
     "prompt_number": 29
    },
    {
     "cell_type": "heading",
     "level": 4,
     "metadata": {},
     "source": [
      "Concatenating all sheets"
     ]
    },
    {
     "cell_type": "markdown",
     "metadata": {},
     "source": [
      "Now that we have all the data in a consistent format, we no longer need to keep them in seperate dataframe reminiscent of the seperate sheets where we too kthe data form."
     ]
    },
    {
     "cell_type": "code",
     "collapsed": false,
     "input": [
      "for k,v in dfs.iteritems():\n",
      "    # Concat all the sheets for one year     \n",
      "    dfs[k] = pd.concat(v)"
     ],
     "language": "python",
     "metadata": {},
     "outputs": [],
     "prompt_number": 30
    },
    {
     "cell_type": "code",
     "collapsed": false,
     "input": [
      "# Concat all the years into one 'fds' master DataFrame\n",
      "fds = pd.concat(dfs.values())"
     ],
     "language": "python",
     "metadata": {},
     "outputs": [],
     "prompt_number": 31
    },
    {
     "cell_type": "heading",
     "level": 2,
     "metadata": {},
     "source": [
      "Cleaning Up"
     ]
    },
    {
     "cell_type": "markdown",
     "metadata": {},
     "source": [
      "Now that we have important all our data, it's  time to clean it up a bit further"
     ]
    },
    {
     "cell_type": "heading",
     "level": 3,
     "metadata": {},
     "source": [
      "Cleaning Up Index"
     ]
    },
    {
     "cell_type": "markdown",
     "metadata": {},
     "source": [
      "The index is how we uniquely identify each row of data. However there are currently redundant rows (aggregate rows) and mislabed index items."
     ]
    },
    {
     "cell_type": "heading",
     "level": 4,
     "metadata": {},
     "source": [
      "Drop Aggregate Rows"
     ]
    },
    {
     "cell_type": "markdown",
     "metadata": {},
     "source": [
      "Unfortunately, some of the `TOTAL` rows in the datasheet were mistaken for donors, so we shall remove these first."
     ]
    },
    {
     "cell_type": "code",
     "collapsed": false,
     "input": [
      "totals = ['TOTAL','Total','WEEK TOTAL']"
     ],
     "language": "python",
     "metadata": {},
     "outputs": [],
     "prompt_number": 49
    },
    {
     "cell_type": "code",
     "collapsed": false,
     "input": [
      "for total in totals:\n",
      "    print fds.xs(total, level=2, drop_level=False)[:1]"
     ],
     "language": "python",
     "metadata": {},
     "outputs": [
      {
       "output_type": "stream",
       "stream": "stdout",
       "text": [
        "                                     Cooked  Cooked food  Fruits  Pastries  \\\n",
        "NGO      Programme Donor Date                                                \n",
        "FoodLink Hot Food  TOTAL 2011-05-23     NaN          NaN     NaN       NaN   \n",
        "\n",
        "                                     Total  Trimmings  Vegs  Vegs & fruits  \n",
        "NGO      Programme Donor Date                                               \n",
        "FoodLink Hot Food  TOTAL 2011-05-23      0        NaN   NaN            NaN  \n",
        "                                     Cooked  Cooked food  Fruits  Pastries  \\\n",
        "NGO      Programme Donor Date                                                \n",
        "FoodLink Hot Food  Total 2012-11-05     NaN          NaN     NaN       NaN   \n",
        "\n",
        "                                     Total  Trimmings  Vegs  Vegs & fruits  \n",
        "NGO      Programme Donor Date                                               \n",
        "FoodLink Hot Food  Total 2012-11-05  257.5        NaN   NaN            NaN  \n",
        "                                          Cooked  Cooked food  Fruits  \\\n",
        "NGO      Programme Donor      Date                                      \n",
        "FoodLink Hot Food  WEEK TOTAL 2012-12-31     NaN          NaN     NaN   \n",
        "\n",
        "                                          Pastries  Total  Trimmings  Vegs  \\\n",
        "NGO      Programme Donor      Date                                           \n",
        "FoodLink Hot Food  WEEK TOTAL 2012-12-31       NaN  286.5        NaN   NaN   \n",
        "\n",
        "                                          Vegs & fruits  \n",
        "NGO      Programme Donor      Date                       \n",
        "FoodLink Hot Food  WEEK TOTAL 2012-12-31            NaN  \n"
       ]
      }
     ],
     "prompt_number": 58
    },
    {
     "cell_type": "code",
     "collapsed": false,
     "input": [
      "for total in totals:\n",
      "    fds.drop(total, level=2, axis=0, inplace=True)"
     ],
     "language": "python",
     "metadata": {},
     "outputs": [],
     "prompt_number": 59
    },
    {
     "cell_type": "heading",
     "level": 4,
     "metadata": {},
     "source": [
      "Rename Indices"
     ]
    },
    {
     "cell_type": "markdown",
     "metadata": {},
     "source": [
      "Unfortunately, the naming conventions for the donors weren't always consistent, so index labels need to be renamed. We will write a custom rename function which will do as much."
     ]
    },
    {
     "cell_type": "code",
     "collapsed": false,
     "input": [
      "def renameIndex(df, col, old, new):\n",
      "    \"\"\"Rename all 'old' values to 'new' in a particular column 'col'\"\"\"\n",
      "    \n",
      "    order = fds.index.names\n",
      "    level = df.index.names.index(col)\n",
      "    \n",
      "    df = df.reset_index(level=level)\n",
      "    \n",
      "    print '    changed', len(df[df[col] == old]), 'values'\n",
      "    \n",
      "    df.loc[df[col] == old, [col]] = new\n",
      "    \n",
      "    df = df.set_index(col, append=True)\n",
      "    \n",
      "    df = df.reorder_levels(order)\n",
      "    \n",
      "    return df"
     ],
     "language": "python",
     "metadata": {},
     "outputs": [],
     "prompt_number": 66
    },
    {
     "cell_type": "markdown",
     "metadata": {},
     "source": [
      "Now, let's create a mapping between the desired values, and the old values that will ne renames to them"
     ]
    },
    {
     "cell_type": "code",
     "collapsed": false,
     "input": [
      "# Nikko changed its name into New World Millennium.\n",
      "\n",
      "donorMapping = {\n",
      "    u'Aberdeen Marina Club' : (u'Aberdeen Marina Club',u'Aberdeen Marina Club AMC'),\n",
      "    u'City Garden' : (u'City Garden',u'City Garden (Sino)'),\n",
      "    u'Conrad' : (u'Conrad',u'Conrad Hong Kong'),\n",
      "    u'Eaton' : (u'Eaton',u'Eaton Hotel'),\n",
      "    u'Gateway' : (u'Gateway',u'Gateway Hong Kong'),\n",
      "    u'Grand Hyatt' : (u'Grand Hyatt',u'Grand Hyatt Hong Kong'),\n",
      "    u'HSBC Centre Staff Canteen' : (u'HSBC Centre - Tai Kok Tsui Staff Canteen',u'HSBC Centre Staff Canteen'),\n",
      "    u'Hyatt Regency Tsim Sha Tsui' : (u'Hyatt Regency Tsim Sha Tsui',u'Hyatt Regency - Tsim Sha Tsui',u'Hyatt Regency Hong Kong - TST',u'Hyatt Regency TST'),\n",
      "    u'Hyatt Regency Sha Tin' : (u'Hyatt Regency Sha Tin',u'Hyatt Regency Shatin'),\n",
      "    u'InterContinental' : (u'InterContinental',u'InterContinental Hong Kong',u'Intercontinental'),\n",
      "    u'Hotel LKF by Rhombus' : (u'Hotel LKF by Rhombus',u'LKF by Rhombus'),\n",
      "    u'The Langham' : (u'Langham',u'Langham (TST)',u'Langham Hong Kong - TST'),\n",
      "    u'Langham Place' : (u'Langham Place',u'Langham Place - MK',u'Langham (MK)'),\n",
      "    u'Le M\u00e9ridien Cyberport' : (u'Le Meridien Cyberport',u'Le M\u00e9ridien Cyberport'),\n",
      "    u'Marco Polo' : (u'Marco Polo',u'Marco Polo Hong Kong'),\n",
      "    u'New World Millennium' : (u'New World Millennium',u'Nikko',u'Hotel Nikko Hong Kong'),\n",
      "    u'Novotel Century' : (u'Novotel Century', u'Novotel Century Hong Kong'),\n",
      "    u'Hotel Panorama by Rhombus' : (u'Hotel Panorama by Rhombus',u'Panorama',u'Panorama by Rhombus'),\n",
      "    u'Peninsula' : (u'Peninsula',u'Peninsula Hong Kong'),\n",
      "    u'Sift' : (u'Sift',u'Sift Bakery')\n",
      "}"
     ],
     "language": "python",
     "metadata": {},
     "outputs": [],
     "prompt_number": 67
    },
    {
     "cell_type": "heading",
     "level": 4,
     "metadata": {},
     "source": [
      "Batch rename the labels"
     ]
    },
    {
     "cell_type": "code",
     "collapsed": false,
     "input": [
      "for new_name, old_names in donorMapping.iteritems():\n",
      "    for old_name in old_names:\n",
      "        print old_name, '-->', new_name\n",
      "        fds = renameIndex(fds,'Donor', old_name, new_name)"
     ],
     "language": "python",
     "metadata": {},
     "outputs": [
      {
       "output_type": "stream",
       "stream": "stdout",
       "text": [
        "New World Millennium --> New World Millennium\n",
        "    changed 175 values\n",
        "Nikko --> New World Millennium\n",
        "    changed 244 values\n",
        "Hotel Nikko Hong Kong --> New World Millennium\n",
        "    changed 172 values\n",
        "Novotel Century --> Novotel Century\n",
        "    changed 165 values\n",
        "Novotel Century Hong Kong --> Novotel Century\n",
        "    changed 91 values\n",
        "Langham Place --> Langham Place\n",
        "    changed 170 values\n",
        "Langham Place - MK"
       ]
      },
      {
       "output_type": "stream",
       "stream": "stdout",
       "text": [
        " --> Langham Place\n",
        "    changed 100 values\n",
        "Langham (MK) --> Langham Place\n",
        "    changed 41 values\n",
        "Marco Polo --> Marco Polo\n",
        "    changed 318 values\n",
        "Marco Polo Hong Kong --> Marco Polo\n",
        "    changed 146 values\n",
        "Aberdeen Marina Club --> Aberdeen Marina Club\n",
        "    changed 130 values\n",
        "Aberdeen Marina Club AMC --> Aberdeen Marina Club\n",
        "    changed 2 values\n",
        "Grand Hyatt --> Grand Hyatt\n",
        "    changed"
       ]
      },
      {
       "output_type": "stream",
       "stream": "stdout",
       "text": [
        " 540 values\n",
        "Grand Hyatt Hong Kong --> Grand Hyatt\n",
        "    changed 248 values\n",
        "Le Meridien Cyberport --> Le M\u00e9ridien Cyberport\n",
        "    changed 105 values\n",
        "Le M\u00e9ridien Cyberport --> Le M\u00e9ridien Cyberport\n",
        "    changed 140 values\n",
        "Hyatt Regency Sha Tin --> Hyatt Regency Sha Tin\n",
        "    changed 93 values\n",
        "Hyatt Regency Shatin --> Hyatt Regency Sha Tin\n",
        "    changed 11 values\n",
        "Peninsula --> Peninsula\n",
        "    changed 215 values\n",
        "Peninsula Hong Kong"
       ]
      },
      {
       "output_type": "stream",
       "stream": "stdout",
       "text": [
        " --> Peninsula\n",
        "    changed 95 values\n",
        "Hotel Panorama by Rhombus --> Hotel Panorama by Rhombus\n",
        "    changed 90 values\n",
        "Panorama --> Hotel Panorama by Rhombus\n",
        "    changed 17 values\n",
        "Panorama by Rhombus --> Hotel Panorama by Rhombus\n",
        "    changed 165 values\n",
        "Langham --> The Langham\n",
        "    changed 248 values\n",
        "Langham (TST) --> The Langham\n",
        "    changed 77 values\n",
        "Langham Hong Kong - TST"
       ]
      },
      {
       "output_type": "stream",
       "stream": "stdout",
       "text": [
        " --> The Langham\n",
        "    changed 143 values\n",
        "InterContinental --> InterContinental\n",
        "    changed 164 values\n",
        "InterContinental Hong Kong --> InterContinental\n",
        "    changed 93 values\n",
        "Intercontinental --> InterContinental\n",
        "    changed 43 values\n",
        "Sift --> Sift\n",
        "    changed 21 values\n",
        "Sift Bakery --> Sift\n",
        "    changed 320 values\n",
        "Eaton"
       ]
      },
      {
       "output_type": "stream",
       "stream": "stdout",
       "text": [
        " --> Eaton\n",
        "    changed 342 values\n",
        "Eaton Hotel --> Eaton\n",
        "    changed 48 values\n",
        "Hyatt Regency Tsim Sha Tsui --> Hyatt Regency Tsim Sha Tsui\n",
        "    changed 161 values\n",
        "Hyatt Regency - Tsim Sha Tsui --> Hyatt Regency Tsim Sha Tsui\n",
        "    changed 163 values\n",
        "Hyatt Regency Hong Kong - TST --> Hyatt Regency Tsim Sha Tsui\n",
        "    changed 148 values\n",
        "Hyatt Regency TST --> Hyatt Regency Tsim Sha Tsui\n",
        "    changed 25 values\n",
        "Hotel LKF by Rhombus"
       ]
      },
      {
       "output_type": "stream",
       "stream": "stdout",
       "text": [
        " --> Hotel LKF by Rhombus\n",
        "    changed 63 values\n",
        "LKF by Rhombus --> Hotel LKF by Rhombus\n",
        "    changed 168 values\n",
        "HSBC Centre - Tai Kok Tsui Staff Canteen --> HSBC Centre Staff Canteen\n",
        "    changed 25 values\n",
        "HSBC Centre Staff Canteen --> HSBC Centre Staff Canteen\n",
        "    changed 341 values\n",
        "Conrad --> Conrad\n",
        "    changed 88 values\n",
        "Conrad Hong Kong --> Conrad\n",
        "    changed 33 values\n",
        "Gateway --> Gateway\n",
        "    changed"
       ]
      },
      {
       "output_type": "stream",
       "stream": "stdout",
       "text": [
        " 321 values\n",
        "Gateway Hong Kong --> Gateway\n",
        "    changed 145 values\n",
        "City Garden --> City Garden\n",
        "    changed 267 values\n",
        "City Garden (Sino) --> City Garden\n",
        "    changed 51 values\n"
       ]
      }
     ],
     "prompt_number": 68
    },
    {
     "cell_type": "markdown",
     "metadata": {},
     "source": [
      "Since a lot of index labels have been renamed, the index is no longer sorted. Let's fix that."
     ]
    },
    {
     "cell_type": "code",
     "collapsed": false,
     "input": [
      "fds = fds.sort()"
     ],
     "language": "python",
     "metadata": {},
     "outputs": [],
     "prompt_number": 69
    },
    {
     "cell_type": "heading",
     "level": 3,
     "metadata": {},
     "source": [
      "Cleaning up the Columns"
     ]
    },
    {
     "cell_type": "code",
     "collapsed": false,
     "input": [
      "fds.columns"
     ],
     "language": "python",
     "metadata": {},
     "outputs": [
      {
       "metadata": {},
       "output_type": "pyout",
       "prompt_number": 75,
       "text": [
        "Index([u'Cooked', u'Cooked food', u'Fruits', u'Pastries', u'Total', u'Trimmings', u'Vegetables', u'Vegetables / Fruits'], dtype='object')"
       ]
      }
     ],
     "prompt_number": 75
    },
    {
     "cell_type": "markdown",
     "metadata": {},
     "source": [
      "The columns also suffer from a similar issue in that naming conventions have shifted over time, and some abbreviations have been used where we would prefer them to be the full nouns. In the former case we want to merge the columns, in the latter we simple want to rename them."
     ]
    },
    {
     "cell_type": "heading",
     "level": 4,
     "metadata": {},
     "source": [
      "Merging Columns"
     ]
    },
    {
     "cell_type": "markdown",
     "metadata": {},
     "source": [
      "Custom function which will merge our columns using the `combine_first` method, and then drop the redundant column."
     ]
    },
    {
     "cell_type": "code",
     "collapsed": false,
     "input": [
      "def mergeCols(df, col_to_drop, col_to_keep):\n",
      "    df[col_to_keep] = df[col_to_keep].combine_first(df[col_to_drop])\n",
      "    df = df.drop(col_to_drop, axis=1)\n",
      "    return df"
     ],
     "language": "python",
     "metadata": {},
     "outputs": [],
     "prompt_number": 76
    },
    {
     "cell_type": "code",
     "collapsed": false,
     "input": [
      "categoryMapping = {\n",
      "    u'Cooked' : u'Cooked food'\n",
      "}"
     ],
     "language": "python",
     "metadata": {},
     "outputs": [],
     "prompt_number": 77
    },
    {
     "cell_type": "heading",
     "level": 4,
     "metadata": {},
     "source": [
      "Batch merge the columns"
     ]
    },
    {
     "cell_type": "code",
     "collapsed": false,
     "input": [
      "for keep, drop in categoryMapping.iteritems():\n",
      "    fds = mergeCols(fds, drop, keep)"
     ],
     "language": "python",
     "metadata": {},
     "outputs": [],
     "prompt_number": 78
    },
    {
     "cell_type": "heading",
     "level": 4,
     "metadata": {},
     "source": [
      "Renaming Columns"
     ]
    },
    {
     "cell_type": "markdown",
     "metadata": {},
     "source": [
      "Create a mapping between the old names and the new ones"
     ]
    },
    {
     "cell_type": "code",
     "collapsed": false,
     "input": [
      "renameCategories = {\n",
      "    u'Vegs':u'Vegetables',\n",
      "    u'Vegs & fruits':u'Vegetables / Fruits'\n",
      "}"
     ],
     "language": "python",
     "metadata": {},
     "outputs": [],
     "prompt_number": 79
    },
    {
     "cell_type": "heading",
     "level": 4,
     "metadata": {},
     "source": [
      "Built-in Rename Function"
     ]
    },
    {
     "cell_type": "code",
     "collapsed": false,
     "input": [
      "fds.rename(columns=renameCategories, inplace=True)"
     ],
     "language": "python",
     "metadata": {},
     "outputs": [],
     "prompt_number": 80
    },
    {
     "cell_type": "heading",
     "level": 4,
     "metadata": {},
     "source": [
      "Results"
     ]
    },
    {
     "cell_type": "code",
     "collapsed": false,
     "input": [
      "for x in fds.columns:\n",
      "    print x"
     ],
     "language": "python",
     "metadata": {},
     "outputs": [
      {
       "output_type": "stream",
       "stream": "stdout",
       "text": [
        "Cooked\n",
        "Fruits\n",
        "Pastries\n",
        "Total\n",
        "Trimmings\n",
        "Vegetables\n",
        "Vegetables / Fruits\n"
       ]
      }
     ],
     "prompt_number": 81
    },
    {
     "cell_type": "code",
     "collapsed": false,
     "input": [
      "fds"
     ],
     "language": "python",
     "metadata": {},
     "outputs": [
      {
       "html": [
        "<div style=\"max-height:1000px;max-width:1500px;overflow:auto;\">\n",
        "<table border=\"1\" class=\"dataframe\">\n",
        "  <thead>\n",
        "    <tr style=\"text-align: right;\">\n",
        "      <th></th>\n",
        "      <th></th>\n",
        "      <th></th>\n",
        "      <th></th>\n",
        "      <th>Cooked</th>\n",
        "      <th>Fruits</th>\n",
        "      <th>Pastries</th>\n",
        "      <th>Total</th>\n",
        "      <th>Trimmings</th>\n",
        "      <th>Vegetables</th>\n",
        "      <th>Vegetables / Fruits</th>\n",
        "    </tr>\n",
        "    <tr>\n",
        "      <th>NGO</th>\n",
        "      <th>Programme</th>\n",
        "      <th>Donor</th>\n",
        "      <th>Date</th>\n",
        "      <th></th>\n",
        "      <th></th>\n",
        "      <th></th>\n",
        "      <th></th>\n",
        "      <th></th>\n",
        "      <th></th>\n",
        "      <th></th>\n",
        "    </tr>\n",
        "  </thead>\n",
        "  <tbody>\n",
        "    <tr>\n",
        "      <th rowspan=\"21\" valign=\"top\">FoodLink</th>\n",
        "      <th rowspan=\"21\" valign=\"top\">Hot Food</th>\n",
        "      <th rowspan=\"10\" valign=\"top\">3/3rds</th>\n",
        "      <th>2014-06-05</th>\n",
        "      <td>  6.0</td>\n",
        "      <td>NaN</td>\n",
        "      <td>NaN</td>\n",
        "      <td>NaN</td>\n",
        "      <td> 0</td>\n",
        "      <td>NaN</td>\n",
        "      <td>NaN</td>\n",
        "    </tr>\n",
        "    <tr>\n",
        "      <th>2014-06-06</th>\n",
        "      <td>  6.5</td>\n",
        "      <td>NaN</td>\n",
        "      <td>NaN</td>\n",
        "      <td>NaN</td>\n",
        "      <td> 0</td>\n",
        "      <td>NaN</td>\n",
        "      <td>NaN</td>\n",
        "    </tr>\n",
        "    <tr>\n",
        "      <th>2014-06-11</th>\n",
        "      <td>  5.0</td>\n",
        "      <td>NaN</td>\n",
        "      <td>NaN</td>\n",
        "      <td>NaN</td>\n",
        "      <td> 0</td>\n",
        "      <td>NaN</td>\n",
        "      <td>NaN</td>\n",
        "    </tr>\n",
        "    <tr>\n",
        "      <th>2014-06-12</th>\n",
        "      <td>  4.5</td>\n",
        "      <td>NaN</td>\n",
        "      <td>NaN</td>\n",
        "      <td>NaN</td>\n",
        "      <td> 0</td>\n",
        "      <td>NaN</td>\n",
        "      <td>NaN</td>\n",
        "    </tr>\n",
        "    <tr>\n",
        "      <th>2014-06-13</th>\n",
        "      <td>  5.0</td>\n",
        "      <td>NaN</td>\n",
        "      <td>NaN</td>\n",
        "      <td>NaN</td>\n",
        "      <td> 0</td>\n",
        "      <td>NaN</td>\n",
        "      <td>NaN</td>\n",
        "    </tr>\n",
        "    <tr>\n",
        "      <th>2014-06-17</th>\n",
        "      <td>  6.0</td>\n",
        "      <td>NaN</td>\n",
        "      <td>NaN</td>\n",
        "      <td>NaN</td>\n",
        "      <td> 0</td>\n",
        "      <td>NaN</td>\n",
        "      <td>NaN</td>\n",
        "    </tr>\n",
        "    <tr>\n",
        "      <th>2014-06-18</th>\n",
        "      <td>  5.5</td>\n",
        "      <td>NaN</td>\n",
        "      <td>NaN</td>\n",
        "      <td>NaN</td>\n",
        "      <td> 0</td>\n",
        "      <td>NaN</td>\n",
        "      <td>NaN</td>\n",
        "    </tr>\n",
        "    <tr>\n",
        "      <th>2014-06-19</th>\n",
        "      <td>  7.0</td>\n",
        "      <td>NaN</td>\n",
        "      <td>NaN</td>\n",
        "      <td>NaN</td>\n",
        "      <td> 0</td>\n",
        "      <td>NaN</td>\n",
        "      <td>NaN</td>\n",
        "    </tr>\n",
        "    <tr>\n",
        "      <th>2014-06-20</th>\n",
        "      <td>  3.5</td>\n",
        "      <td>NaN</td>\n",
        "      <td>NaN</td>\n",
        "      <td>NaN</td>\n",
        "      <td> 0</td>\n",
        "      <td>NaN</td>\n",
        "      <td>NaN</td>\n",
        "    </tr>\n",
        "    <tr>\n",
        "      <th>2014-06-24</th>\n",
        "      <td>  7.0</td>\n",
        "      <td>NaN</td>\n",
        "      <td>NaN</td>\n",
        "      <td>NaN</td>\n",
        "      <td> 0</td>\n",
        "      <td>NaN</td>\n",
        "      <td>NaN</td>\n",
        "    </tr>\n",
        "    <tr>\n",
        "      <th>3/3rds</th>\n",
        "      <th>...</th>\n",
        "      <td>...</td>\n",
        "      <td>...</td>\n",
        "      <td>...</td>\n",
        "      <td>...</td>\n",
        "      <td>...</td>\n",
        "      <td>...</td>\n",
        "      <td>...</td>\n",
        "    </tr>\n",
        "    <tr>\n",
        "      <th rowspan=\"10\" valign=\"top\">3/3rds</th>\n",
        "      <th>...</th>\n",
        "      <td>  5.5</td>\n",
        "      <td>NaN</td>\n",
        "      <td>NaN</td>\n",
        "      <td>NaN</td>\n",
        "      <td> 0</td>\n",
        "      <td>NaN</td>\n",
        "      <td>NaN</td>\n",
        "    </tr>\n",
        "    <tr>\n",
        "      <th>2014-08-07</th>\n",
        "      <td>  0.0</td>\n",
        "      <td>NaN</td>\n",
        "      <td>NaN</td>\n",
        "      <td>NaN</td>\n",
        "      <td> 0</td>\n",
        "      <td>NaN</td>\n",
        "      <td>NaN</td>\n",
        "    </tr>\n",
        "    <tr>\n",
        "      <th>2014-08-12</th>\n",
        "      <td>  0.0</td>\n",
        "      <td>NaN</td>\n",
        "      <td>NaN</td>\n",
        "      <td>NaN</td>\n",
        "      <td> 0</td>\n",
        "      <td>NaN</td>\n",
        "      <td>NaN</td>\n",
        "    </tr>\n",
        "    <tr>\n",
        "      <th>2014-08-14</th>\n",
        "      <td>  1.5</td>\n",
        "      <td>NaN</td>\n",
        "      <td>NaN</td>\n",
        "      <td>NaN</td>\n",
        "      <td> 0</td>\n",
        "      <td>NaN</td>\n",
        "      <td>NaN</td>\n",
        "    </tr>\n",
        "    <tr>\n",
        "      <th>2014-08-19</th>\n",
        "      <td>  4.5</td>\n",
        "      <td>NaN</td>\n",
        "      <td>NaN</td>\n",
        "      <td>NaN</td>\n",
        "      <td> 0</td>\n",
        "      <td>NaN</td>\n",
        "      <td>NaN</td>\n",
        "    </tr>\n",
        "    <tr>\n",
        "      <th>2014-08-21</th>\n",
        "      <td>  6.5</td>\n",
        "      <td>NaN</td>\n",
        "      <td>NaN</td>\n",
        "      <td>NaN</td>\n",
        "      <td> 0</td>\n",
        "      <td>NaN</td>\n",
        "      <td>NaN</td>\n",
        "    </tr>\n",
        "    <tr>\n",
        "      <th>2014-08-26</th>\n",
        "      <td>  4.5</td>\n",
        "      <td>NaN</td>\n",
        "      <td>NaN</td>\n",
        "      <td>NaN</td>\n",
        "      <td> 0</td>\n",
        "      <td>NaN</td>\n",
        "      <td>NaN</td>\n",
        "    </tr>\n",
        "    <tr>\n",
        "      <th>2014-08-28</th>\n",
        "      <td>  3.0</td>\n",
        "      <td>NaN</td>\n",
        "      <td>NaN</td>\n",
        "      <td>NaN</td>\n",
        "      <td> 0</td>\n",
        "      <td>NaN</td>\n",
        "      <td>NaN</td>\n",
        "    </tr>\n",
        "    <tr>\n",
        "      <th>2014-09-02</th>\n",
        "      <td> 12.0</td>\n",
        "      <td>NaN</td>\n",
        "      <td>NaN</td>\n",
        "      <td>NaN</td>\n",
        "      <td> 0</td>\n",
        "      <td>NaN</td>\n",
        "      <td>NaN</td>\n",
        "    </tr>\n",
        "    <tr>\n",
        "      <th>2014-09-04</th>\n",
        "      <td>  2.5</td>\n",
        "      <td>NaN</td>\n",
        "      <td>NaN</td>\n",
        "      <td>NaN</td>\n",
        "      <td> 0</td>\n",
        "      <td>NaN</td>\n",
        "      <td>NaN</td>\n",
        "    </tr>\n",
        "  </tbody>\n",
        "</table>\n",
        "<p>16464 rows \u00d7 7 columns</p>\n",
        "</div>"
       ],
       "metadata": {},
       "output_type": "pyout",
       "prompt_number": 82,
       "text": [
        "                                        Cooked  Fruits  Pastries  Total  \\\n",
        "NGO      Programme Donor    Date                                          \n",
        "FoodLink Hot Food  3/3rds   2014-06-05     6.0     NaN       NaN    NaN   \n",
        "                            2014-06-06     6.5     NaN       NaN    NaN   \n",
        "                            2014-06-11     5.0     NaN       NaN    NaN   \n",
        "                            2014-06-12     4.5     NaN       NaN    NaN   \n",
        "                            2014-06-13     5.0     NaN       NaN    NaN   \n",
        "                            2014-06-17     6.0     NaN       NaN    NaN   \n",
        "                            2014-06-18     5.5     NaN       NaN    NaN   \n",
        "                            2014-06-19     7.0     NaN       NaN    NaN   \n",
        "                            2014-06-20     3.5     NaN       NaN    NaN   \n",
        "                            2014-06-24     7.0     NaN       NaN    NaN   \n",
        "...                                        ...     ...       ...    ...   \n",
        "                   Yardbird 2014-08-07     5.5     NaN       NaN    NaN   \n",
        "                            2014-08-12     0.0     NaN       NaN    NaN   \n",
        "                            2014-08-14     0.0     NaN       NaN    NaN   \n",
        "                            2014-08-19     1.5     NaN       NaN    NaN   \n",
        "                            2014-08-21     4.5     NaN       NaN    NaN   \n",
        "                            2014-08-26     6.5     NaN       NaN    NaN   \n",
        "                            2014-08-28     4.5     NaN       NaN    NaN   \n",
        "                            2014-09-02     3.0     NaN       NaN    NaN   \n",
        "                            2014-09-04    12.0     NaN       NaN    NaN   \n",
        "                            2014-09-11     2.5     NaN       NaN    NaN   \n",
        "\n",
        "                                        Trimmings  Vegetables  \\\n",
        "NGO      Programme Donor    Date                                \n",
        "FoodLink Hot Food  3/3rds   2014-06-05          0         NaN   \n",
        "                            2014-06-06          0         NaN   \n",
        "                            2014-06-11          0         NaN   \n",
        "                            2014-06-12          0         NaN   \n",
        "                            2014-06-13          0         NaN   \n",
        "                            2014-06-17          0         NaN   \n",
        "                            2014-06-18          0         NaN   \n",
        "                            2014-06-19          0         NaN   \n",
        "                            2014-06-20          0         NaN   \n",
        "                            2014-06-24          0         NaN   \n",
        "...                                           ...         ...   \n",
        "                   Yardbird 2014-08-07          0         NaN   \n",
        "                            2014-08-12          0         NaN   \n",
        "                            2014-08-14          0         NaN   \n",
        "                            2014-08-19          0         NaN   \n",
        "                            2014-08-21          0         NaN   \n",
        "                            2014-08-26          0         NaN   \n",
        "                            2014-08-28          0         NaN   \n",
        "                            2014-09-02          0         NaN   \n",
        "                            2014-09-04          0         NaN   \n",
        "                            2014-09-11          0         NaN   \n",
        "\n",
        "                                        Vegetables / Fruits  \n",
        "NGO      Programme Donor    Date                             \n",
        "FoodLink Hot Food  3/3rds   2014-06-05                  NaN  \n",
        "                            2014-06-06                  NaN  \n",
        "                            2014-06-11                  NaN  \n",
        "                            2014-06-12                  NaN  \n",
        "                            2014-06-13                  NaN  \n",
        "                            2014-06-17                  NaN  \n",
        "                            2014-06-18                  NaN  \n",
        "                            2014-06-19                  NaN  \n",
        "                            2014-06-20                  NaN  \n",
        "                            2014-06-24                  NaN  \n",
        "...                                                     ...  \n",
        "                   Yardbird 2014-08-07                  NaN  \n",
        "                            2014-08-12                  NaN  \n",
        "                            2014-08-14                  NaN  \n",
        "                            2014-08-19                  NaN  \n",
        "                            2014-08-21                  NaN  \n",
        "                            2014-08-26                  NaN  \n",
        "                            2014-08-28                  NaN  \n",
        "                            2014-09-02                  NaN  \n",
        "                            2014-09-04                  NaN  \n",
        "                            2014-09-11                  NaN  \n",
        "\n",
        "[16464 rows x 7 columns]"
       ]
      }
     ],
     "prompt_number": 82
    },
    {
     "cell_type": "heading",
     "level": 3,
     "metadata": {},
     "source": [
      "Checking to make sure your index is unique"
     ]
    },
    {
     "cell_type": "code",
     "collapsed": false,
     "input": [
      "index = fds.index.names\n",
      "set(fds.groupby(level=index).size()) == {1}"
     ],
     "language": "python",
     "metadata": {},
     "outputs": [
      {
       "metadata": {},
       "output_type": "pyout",
       "prompt_number": 84,
       "text": [
        "True"
       ]
      }
     ],
     "prompt_number": 84
    },
    {
     "cell_type": "heading",
     "level": 2,
     "metadata": {},
     "source": [
      "Export to CSV"
     ]
    },
    {
     "cell_type": "markdown",
     "metadata": {},
     "source": [
      "With the data extraction, merge, and cleanup now done, you can export your work to a CSV for  later analysis"
     ]
    },
    {
     "cell_type": "code",
     "collapsed": false,
     "input": [
      "fds.to_csv(DATA_DIR + 'master.csv', encoding='utf-8')"
     ],
     "language": "python",
     "metadata": {},
     "outputs": [],
     "prompt_number": 85
    },
    {
     "cell_type": "heading",
     "level": 3,
     "metadata": {},
     "source": [
      "Import from CSV"
     ]
    },
    {
     "cell_type": "markdown",
     "metadata": {},
     "source": [
      "Once you want to load it again for future analysis, simply reconstruct your DataFrame with"
     ]
    },
    {
     "cell_type": "code",
     "collapsed": false,
     "input": [
      "fdx = pd.read_csv(DATA_DIR + 'master.csv', header=0, parse_dates='Date', encoding='utf-8').fillna(0)  "
     ],
     "language": "python",
     "metadata": {},
     "outputs": [],
     "prompt_number": 109
    },
    {
     "cell_type": "code",
     "collapsed": false,
     "input": [
      "fdx = fdx.set_index(list(fdx.iloc[:,0:4].columns))"
     ],
     "language": "python",
     "metadata": {},
     "outputs": [],
     "prompt_number": 110
    },
    {
     "cell_type": "code",
     "collapsed": false,
     "input": [
      "fdx"
     ],
     "language": "python",
     "metadata": {},
     "outputs": [
      {
       "html": [
        "<div style=\"max-height:1000px;max-width:1500px;overflow:auto;\">\n",
        "<table border=\"1\" class=\"dataframe\">\n",
        "  <thead>\n",
        "    <tr style=\"text-align: right;\">\n",
        "      <th></th>\n",
        "      <th></th>\n",
        "      <th></th>\n",
        "      <th></th>\n",
        "      <th>Cooked</th>\n",
        "      <th>Fruits</th>\n",
        "      <th>Pastries</th>\n",
        "      <th>Total</th>\n",
        "      <th>Trimmings</th>\n",
        "      <th>Vegetables</th>\n",
        "      <th>Vegetables / Fruits</th>\n",
        "    </tr>\n",
        "    <tr>\n",
        "      <th>NGO</th>\n",
        "      <th>Programme</th>\n",
        "      <th>Donor</th>\n",
        "      <th>Date</th>\n",
        "      <th></th>\n",
        "      <th></th>\n",
        "      <th></th>\n",
        "      <th></th>\n",
        "      <th></th>\n",
        "      <th></th>\n",
        "      <th></th>\n",
        "    </tr>\n",
        "  </thead>\n",
        "  <tbody>\n",
        "    <tr>\n",
        "      <th rowspan=\"21\" valign=\"top\">FoodLink</th>\n",
        "      <th rowspan=\"21\" valign=\"top\">Hot Food</th>\n",
        "      <th rowspan=\"10\" valign=\"top\">3/3rds</th>\n",
        "      <th>2014-06-05</th>\n",
        "      <td>  6.0</td>\n",
        "      <td> 0</td>\n",
        "      <td> 0</td>\n",
        "      <td> 0</td>\n",
        "      <td> 0</td>\n",
        "      <td> 0</td>\n",
        "      <td> 0</td>\n",
        "    </tr>\n",
        "    <tr>\n",
        "      <th>2014-06-06</th>\n",
        "      <td>  6.5</td>\n",
        "      <td> 0</td>\n",
        "      <td> 0</td>\n",
        "      <td> 0</td>\n",
        "      <td> 0</td>\n",
        "      <td> 0</td>\n",
        "      <td> 0</td>\n",
        "    </tr>\n",
        "    <tr>\n",
        "      <th>2014-06-11</th>\n",
        "      <td>  5.0</td>\n",
        "      <td> 0</td>\n",
        "      <td> 0</td>\n",
        "      <td> 0</td>\n",
        "      <td> 0</td>\n",
        "      <td> 0</td>\n",
        "      <td> 0</td>\n",
        "    </tr>\n",
        "    <tr>\n",
        "      <th>2014-06-12</th>\n",
        "      <td>  4.5</td>\n",
        "      <td> 0</td>\n",
        "      <td> 0</td>\n",
        "      <td> 0</td>\n",
        "      <td> 0</td>\n",
        "      <td> 0</td>\n",
        "      <td> 0</td>\n",
        "    </tr>\n",
        "    <tr>\n",
        "      <th>2014-06-13</th>\n",
        "      <td>  5.0</td>\n",
        "      <td> 0</td>\n",
        "      <td> 0</td>\n",
        "      <td> 0</td>\n",
        "      <td> 0</td>\n",
        "      <td> 0</td>\n",
        "      <td> 0</td>\n",
        "    </tr>\n",
        "    <tr>\n",
        "      <th>2014-06-17</th>\n",
        "      <td>  6.0</td>\n",
        "      <td> 0</td>\n",
        "      <td> 0</td>\n",
        "      <td> 0</td>\n",
        "      <td> 0</td>\n",
        "      <td> 0</td>\n",
        "      <td> 0</td>\n",
        "    </tr>\n",
        "    <tr>\n",
        "      <th>2014-06-18</th>\n",
        "      <td>  5.5</td>\n",
        "      <td> 0</td>\n",
        "      <td> 0</td>\n",
        "      <td> 0</td>\n",
        "      <td> 0</td>\n",
        "      <td> 0</td>\n",
        "      <td> 0</td>\n",
        "    </tr>\n",
        "    <tr>\n",
        "      <th>2014-06-19</th>\n",
        "      <td>  7.0</td>\n",
        "      <td> 0</td>\n",
        "      <td> 0</td>\n",
        "      <td> 0</td>\n",
        "      <td> 0</td>\n",
        "      <td> 0</td>\n",
        "      <td> 0</td>\n",
        "    </tr>\n",
        "    <tr>\n",
        "      <th>2014-06-20</th>\n",
        "      <td>  3.5</td>\n",
        "      <td> 0</td>\n",
        "      <td> 0</td>\n",
        "      <td> 0</td>\n",
        "      <td> 0</td>\n",
        "      <td> 0</td>\n",
        "      <td> 0</td>\n",
        "    </tr>\n",
        "    <tr>\n",
        "      <th>2014-06-24</th>\n",
        "      <td>  7.0</td>\n",
        "      <td> 0</td>\n",
        "      <td> 0</td>\n",
        "      <td> 0</td>\n",
        "      <td> 0</td>\n",
        "      <td> 0</td>\n",
        "      <td> 0</td>\n",
        "    </tr>\n",
        "    <tr>\n",
        "      <th>3/3rds</th>\n",
        "      <th>...</th>\n",
        "      <td>...</td>\n",
        "      <td>...</td>\n",
        "      <td>...</td>\n",
        "      <td>...</td>\n",
        "      <td>...</td>\n",
        "      <td>...</td>\n",
        "      <td>...</td>\n",
        "    </tr>\n",
        "    <tr>\n",
        "      <th rowspan=\"10\" valign=\"top\">3/3rds</th>\n",
        "      <th>...</th>\n",
        "      <td>  5.5</td>\n",
        "      <td> 0</td>\n",
        "      <td> 0</td>\n",
        "      <td> 0</td>\n",
        "      <td> 0</td>\n",
        "      <td> 0</td>\n",
        "      <td> 0</td>\n",
        "    </tr>\n",
        "    <tr>\n",
        "      <th>2014-08-07</th>\n",
        "      <td>  0.0</td>\n",
        "      <td> 0</td>\n",
        "      <td> 0</td>\n",
        "      <td> 0</td>\n",
        "      <td> 0</td>\n",
        "      <td> 0</td>\n",
        "      <td> 0</td>\n",
        "    </tr>\n",
        "    <tr>\n",
        "      <th>2014-08-12</th>\n",
        "      <td>  0.0</td>\n",
        "      <td> 0</td>\n",
        "      <td> 0</td>\n",
        "      <td> 0</td>\n",
        "      <td> 0</td>\n",
        "      <td> 0</td>\n",
        "      <td> 0</td>\n",
        "    </tr>\n",
        "    <tr>\n",
        "      <th>2014-08-14</th>\n",
        "      <td>  1.5</td>\n",
        "      <td> 0</td>\n",
        "      <td> 0</td>\n",
        "      <td> 0</td>\n",
        "      <td> 0</td>\n",
        "      <td> 0</td>\n",
        "      <td> 0</td>\n",
        "    </tr>\n",
        "    <tr>\n",
        "      <th>2014-08-19</th>\n",
        "      <td>  4.5</td>\n",
        "      <td> 0</td>\n",
        "      <td> 0</td>\n",
        "      <td> 0</td>\n",
        "      <td> 0</td>\n",
        "      <td> 0</td>\n",
        "      <td> 0</td>\n",
        "    </tr>\n",
        "    <tr>\n",
        "      <th>2014-08-21</th>\n",
        "      <td>  6.5</td>\n",
        "      <td> 0</td>\n",
        "      <td> 0</td>\n",
        "      <td> 0</td>\n",
        "      <td> 0</td>\n",
        "      <td> 0</td>\n",
        "      <td> 0</td>\n",
        "    </tr>\n",
        "    <tr>\n",
        "      <th>2014-08-26</th>\n",
        "      <td>  4.5</td>\n",
        "      <td> 0</td>\n",
        "      <td> 0</td>\n",
        "      <td> 0</td>\n",
        "      <td> 0</td>\n",
        "      <td> 0</td>\n",
        "      <td> 0</td>\n",
        "    </tr>\n",
        "    <tr>\n",
        "      <th>2014-08-28</th>\n",
        "      <td>  3.0</td>\n",
        "      <td> 0</td>\n",
        "      <td> 0</td>\n",
        "      <td> 0</td>\n",
        "      <td> 0</td>\n",
        "      <td> 0</td>\n",
        "      <td> 0</td>\n",
        "    </tr>\n",
        "    <tr>\n",
        "      <th>2014-09-02</th>\n",
        "      <td> 12.0</td>\n",
        "      <td> 0</td>\n",
        "      <td> 0</td>\n",
        "      <td> 0</td>\n",
        "      <td> 0</td>\n",
        "      <td> 0</td>\n",
        "      <td> 0</td>\n",
        "    </tr>\n",
        "    <tr>\n",
        "      <th>2014-09-04</th>\n",
        "      <td>  2.5</td>\n",
        "      <td> 0</td>\n",
        "      <td> 0</td>\n",
        "      <td> 0</td>\n",
        "      <td> 0</td>\n",
        "      <td> 0</td>\n",
        "      <td> 0</td>\n",
        "    </tr>\n",
        "  </tbody>\n",
        "</table>\n",
        "<p>16464 rows \u00d7 7 columns</p>\n",
        "</div>"
       ],
       "metadata": {},
       "output_type": "pyout",
       "prompt_number": 111,
       "text": [
        "                                        Cooked  Fruits  Pastries  Total  \\\n",
        "NGO      Programme Donor    Date                                          \n",
        "FoodLink Hot Food  3/3rds   2014-06-05     6.0       0         0      0   \n",
        "                            2014-06-06     6.5       0         0      0   \n",
        "                            2014-06-11     5.0       0         0      0   \n",
        "                            2014-06-12     4.5       0         0      0   \n",
        "                            2014-06-13     5.0       0         0      0   \n",
        "                            2014-06-17     6.0       0         0      0   \n",
        "                            2014-06-18     5.5       0         0      0   \n",
        "                            2014-06-19     7.0       0         0      0   \n",
        "                            2014-06-20     3.5       0         0      0   \n",
        "                            2014-06-24     7.0       0         0      0   \n",
        "...                                        ...     ...       ...    ...   \n",
        "                   Yardbird 2014-08-07     5.5       0         0      0   \n",
        "                            2014-08-12     0.0       0         0      0   \n",
        "                            2014-08-14     0.0       0         0      0   \n",
        "                            2014-08-19     1.5       0         0      0   \n",
        "                            2014-08-21     4.5       0         0      0   \n",
        "                            2014-08-26     6.5       0         0      0   \n",
        "                            2014-08-28     4.5       0         0      0   \n",
        "                            2014-09-02     3.0       0         0      0   \n",
        "                            2014-09-04    12.0       0         0      0   \n",
        "                            2014-09-11     2.5       0         0      0   \n",
        "\n",
        "                                        Trimmings  Vegetables  \\\n",
        "NGO      Programme Donor    Date                                \n",
        "FoodLink Hot Food  3/3rds   2014-06-05          0           0   \n",
        "                            2014-06-06          0           0   \n",
        "                            2014-06-11          0           0   \n",
        "                            2014-06-12          0           0   \n",
        "                            2014-06-13          0           0   \n",
        "                            2014-06-17          0           0   \n",
        "                            2014-06-18          0           0   \n",
        "                            2014-06-19          0           0   \n",
        "                            2014-06-20          0           0   \n",
        "                            2014-06-24          0           0   \n",
        "...                                           ...         ...   \n",
        "                   Yardbird 2014-08-07          0           0   \n",
        "                            2014-08-12          0           0   \n",
        "                            2014-08-14          0           0   \n",
        "                            2014-08-19          0           0   \n",
        "                            2014-08-21          0           0   \n",
        "                            2014-08-26          0           0   \n",
        "                            2014-08-28          0           0   \n",
        "                            2014-09-02          0           0   \n",
        "                            2014-09-04          0           0   \n",
        "                            2014-09-11          0           0   \n",
        "\n",
        "                                        Vegetables / Fruits  \n",
        "NGO      Programme Donor    Date                             \n",
        "FoodLink Hot Food  3/3rds   2014-06-05                    0  \n",
        "                            2014-06-06                    0  \n",
        "                            2014-06-11                    0  \n",
        "                            2014-06-12                    0  \n",
        "                            2014-06-13                    0  \n",
        "                            2014-06-17                    0  \n",
        "                            2014-06-18                    0  \n",
        "                            2014-06-19                    0  \n",
        "                            2014-06-20                    0  \n",
        "                            2014-06-24                    0  \n",
        "...                                                     ...  \n",
        "                   Yardbird 2014-08-07                    0  \n",
        "                            2014-08-12                    0  \n",
        "                            2014-08-14                    0  \n",
        "                            2014-08-19                    0  \n",
        "                            2014-08-21                    0  \n",
        "                            2014-08-26                    0  \n",
        "                            2014-08-28                    0  \n",
        "                            2014-09-02                    0  \n",
        "                            2014-09-04                    0  \n",
        "                            2014-09-11                    0  \n",
        "\n",
        "[16464 rows x 7 columns]"
       ]
      }
     ],
     "prompt_number": 111
    }
   ],
   "metadata": {}
  }
 ]
}