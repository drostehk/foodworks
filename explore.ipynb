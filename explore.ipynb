{
 "cells": [
  {
   "cell_type": "code",
   "execution_count": 1,
   "metadata": {
    "collapsed": false
   },
   "outputs": [],
   "source": [
    "import pandas as pd\n",
    "from scripts.report.ecf.ecf import ECFReport"
   ]
  },
  {
   "cell_type": "code",
   "execution_count": 2,
   "metadata": {
    "collapsed": false
   },
   "outputs": [],
   "source": [
    "SORT_KEY = ['datetime','programme','donor']"
   ]
  },
  {
   "cell_type": "code",
   "execution_count": 3,
   "metadata": {
    "collapsed": false
   },
   "outputs": [],
   "source": [
    "def clean_source(df,m,y):\n",
    "    period = \"{}/{}\".format(m,y)\n",
    "    df.datetime = pd.to_datetime(df.datetime)\n",
    "    df.sort_values(by=['datetime','programme','donor'], inplace=True)\n",
    "    df.set_index('datetime').truncate(before='04/2016', after='04/2016').reset_index()\n",
    "    df.fillna(0,inplace=True)\n",
    "    return df"
   ]
  },
  {
   "cell_type": "code",
   "execution_count": 4,
   "metadata": {
    "collapsed": false
   },
   "outputs": [],
   "source": [
    "opts = {\n",
    "    'ONLY_NGO' : ['FoodLink'],\n",
    "    'ONLY_STAGES' : ['collection']\n",
    "}\n",
    "report = ECFReport(**opts)"
   ]
  },
  {
   "cell_type": "code",
   "execution_count": 5,
   "metadata": {
    "collapsed": false,
    "scrolled": true
   },
   "outputs": [
    {
     "name": "stdout",
     "output_type": "stream",
     "text": [
      "Report generating to: data/Report/FoodLink.2016.4.collection.ecf.report.xlsx\n",
      "Done!\n"
     ]
    }
   ],
   "source": [
    "programmes = [u'ECF Van 01', u'ECF Van 03', u'ECF Van 02']\n",
    "report.generate_single_report('FoodLink', 'collection', programmes);"
   ]
  },
  {
   "cell_type": "code",
   "execution_count": 6,
   "metadata": {
    "collapsed": false
   },
   "outputs": [],
   "source": [
    "fns = report.available_csvs()"
   ]
  },
  {
   "cell_type": "code",
   "execution_count": 7,
   "metadata": {
    "collapsed": false,
    "scrolled": false
   },
   "outputs": [],
   "source": [
    "df = report.map_source_to_dataframe(fns)"
   ]
  },
  {
   "cell_type": "code",
   "execution_count": 8,
   "metadata": {
    "collapsed": false
   },
   "outputs": [
    {
     "data": {
      "text/plain": [
       "7727.4999999999982"
      ]
     },
     "execution_count": 8,
     "metadata": {},
     "output_type": "execute_result"
    }
   ],
   "source": [
    "# TARGET\n",
    "df.ix[:,:'datetime'].sum().sum()"
   ]
  },
  {
   "cell_type": "code",
   "execution_count": 9,
   "metadata": {
    "collapsed": false
   },
   "outputs": [
    {
     "data": {
      "text/plain": [
       "579"
      ]
     },
     "execution_count": 9,
     "metadata": {},
     "output_type": "execute_result"
    }
   ],
   "source": [
    "# Total Rows - Wide Format\n",
    "df.datetime.count()"
   ]
  },
  {
   "cell_type": "code",
   "execution_count": 10,
   "metadata": {
    "collapsed": false
   },
   "outputs": [
    {
     "data": {
      "text/plain": [
       "2016-04-26    33\n",
       "2016-04-15    33\n",
       "2016-04-13    33\n",
       "2016-04-12    33\n",
       "2016-04-27    33\n",
       "2016-04-22    32\n",
       "2016-04-08    32\n",
       "2016-04-25    32\n",
       "2016-04-29    31\n",
       "2016-04-18    31\n",
       "2016-04-07    31\n",
       "2016-04-20    31\n",
       "2016-04-19    30\n",
       "2016-04-14    30\n",
       "2016-04-11    29\n",
       "2016-04-06    28\n",
       "2016-04-21    27\n",
       "2016-04-05    25\n",
       "2016-04-28    25\n",
       "Name: datetime, dtype: int64"
      ]
     },
     "execution_count": 10,
     "metadata": {},
     "output_type": "execute_result"
    }
   ],
   "source": [
    "# Rows per Day - Wide Format\n",
    "df.datetime.value_counts()"
   ]
  },
  {
   "cell_type": "code",
   "execution_count": 11,
   "metadata": {
    "collapsed": false
   },
   "outputs": [
    {
     "data": {
      "text/html": [
       "<div>\n",
       "<table border=\"1\" class=\"dataframe\">\n",
       "  <thead>\n",
       "    <tr style=\"text-align: right;\">\n",
       "      <th></th>\n",
       "      <th>datetime</th>\n",
       "      <th>donor</th>\n",
       "      <th>programme</th>\n",
       "      <th>variable</th>\n",
       "      <th>value</th>\n",
       "    </tr>\n",
       "  </thead>\n",
       "  <tbody>\n",
       "    <tr>\n",
       "      <th>450</th>\n",
       "      <td>2016-04-25</td>\n",
       "      <td>Disneyland</td>\n",
       "      <td>ECF Van 03</td>\n",
       "      <td>Candies</td>\n",
       "      <td>5.0</td>\n",
       "    </tr>\n",
       "    <tr>\n",
       "      <th>579</th>\n",
       "      <td>2016-04-05</td>\n",
       "      <td>CityGarden</td>\n",
       "      <td>ECF Van 01</td>\n",
       "      <td>Cooked</td>\n",
       "      <td>7.0</td>\n",
       "    </tr>\n",
       "    <tr>\n",
       "      <th>580</th>\n",
       "      <td>2016-04-05</td>\n",
       "      <td>FourSeasons</td>\n",
       "      <td>ECF Van 01</td>\n",
       "      <td>Cooked</td>\n",
       "      <td>91.0</td>\n",
       "    </tr>\n",
       "    <tr>\n",
       "      <th>581</th>\n",
       "      <td>2016-04-05</td>\n",
       "      <td>GrandHyatt</td>\n",
       "      <td>ECF Van 01</td>\n",
       "      <td>Cooked</td>\n",
       "      <td>6.0</td>\n",
       "    </tr>\n",
       "    <tr>\n",
       "      <th>582</th>\n",
       "      <td>2016-04-05</td>\n",
       "      <td>HKClub</td>\n",
       "      <td>ECF Van 01</td>\n",
       "      <td>Cooked</td>\n",
       "      <td>16.0</td>\n",
       "    </tr>\n",
       "  </tbody>\n",
       "</table>\n",
       "</div>"
      ],
      "text/plain": [
       "      datetime        donor   programme variable  value\n",
       "450 2016-04-25   Disneyland  ECF Van 03  Candies    5.0\n",
       "579 2016-04-05   CityGarden  ECF Van 01   Cooked    7.0\n",
       "580 2016-04-05  FourSeasons  ECF Van 01   Cooked   91.0\n",
       "581 2016-04-05   GrandHyatt  ECF Van 01   Cooked    6.0\n",
       "582 2016-04-05       HKClub  ECF Van 01   Cooked   16.0"
      ]
     },
     "execution_count": 11,
     "metadata": {},
     "output_type": "execute_result"
    }
   ],
   "source": [
    "dfs.head(5)"
   ]
  },
  {
   "cell_type": "code",
   "execution_count": null,
   "metadata": {
    "collapsed": false
   },
   "outputs": [],
   "source": [
    "# Total Rows - Long Format\n",
    "dfs.datetime.count()"
   ]
  },
  {
   "cell_type": "code",
   "execution_count": 12,
   "metadata": {
    "collapsed": false,
    "scrolled": true
   },
   "outputs": [
    {
     "data": {
      "text/plain": [
       "2016-04-26    38\n",
       "2016-04-15    38\n",
       "2016-04-25    38\n",
       "2016-04-12    38\n",
       "2016-04-22    37\n",
       "2016-04-18    37\n",
       "2016-04-27    36\n",
       "2016-04-13    36\n",
       "2016-04-20    36\n",
       "2016-04-29    35\n",
       "2016-04-07    35\n",
       "2016-04-11    34\n",
       "2016-04-19    34\n",
       "2016-04-08    34\n",
       "2016-04-14    33\n",
       "2016-04-21    32\n",
       "2016-04-06    30\n",
       "2016-04-05    29\n",
       "2016-04-28    27\n",
       "Name: datetime, dtype: int64"
      ]
     },
     "execution_count": 12,
     "metadata": {},
     "output_type": "execute_result"
    }
   ],
   "source": [
    "# Rows per Day - Long Format\n",
    "dfs.datetime.value_counts()"
   ]
  },
  {
   "cell_type": "code",
   "execution_count": 13,
   "metadata": {
    "collapsed": false
   },
   "outputs": [],
   "source": [
    "dfs = dfs.sort_values(by=SORT_KEY)"
   ]
  },
  {
   "cell_type": "code",
   "execution_count": 14,
   "metadata": {
    "collapsed": true
   },
   "outputs": [],
   "source": [
    "dfs.datetime = dfs.datetime.dt.strftime('%d-%b-%y')"
   ]
  },
  {
   "cell_type": "code",
   "execution_count": 15,
   "metadata": {
    "collapsed": false
   },
   "outputs": [],
   "source": [
    "dfs = dfs.set_index('datetime')"
   ]
  },
  {
   "cell_type": "code",
   "execution_count": 16,
   "metadata": {
    "collapsed": false
   },
   "outputs": [],
   "source": [
    "dfs.columns = ['donor','programme','category','kg']"
   ]
  },
  {
   "cell_type": "code",
   "execution_count": 17,
   "metadata": {
    "collapsed": false
   },
   "outputs": [],
   "source": [
    "# dfs.set_index('total', append=True, inplace=True)"
   ]
  },
  {
   "cell_type": "markdown",
   "metadata": {},
   "source": [
    "### Merge in Donors"
   ]
  },
  {
   "cell_type": "code",
   "execution_count": 18,
   "metadata": {
    "collapsed": false
   },
   "outputs": [],
   "source": [
    "df_donor = report.map_donors_to_dataframe(fns)"
   ]
  },
  {
   "cell_type": "code",
   "execution_count": 19,
   "metadata": {
    "collapsed": false
   },
   "outputs": [
    {
     "data": {
      "text/html": [
       "<div>\n",
       "<table border=\"1\" class=\"dataframe\">\n",
       "  <thead>\n",
       "    <tr style=\"text-align: right;\">\n",
       "      <th></th>\n",
       "      <th>id</th>\n",
       "      <th>name_en</th>\n",
       "      <th>location</th>\n",
       "      <th>programme</th>\n",
       "    </tr>\n",
       "  </thead>\n",
       "  <tbody>\n",
       "    <tr>\n",
       "      <th>0</th>\n",
       "      <td>Parkview</td>\n",
       "      <td>Hong Kong Parkview</td>\n",
       "      <td>Tai Tam Reservoir Road, Hong Kong</td>\n",
       "      <td>ECF Van 01</td>\n",
       "    </tr>\n",
       "    <tr>\n",
       "      <th>1</th>\n",
       "      <td>AMC</td>\n",
       "      <td>Aberdeen Marina Club</td>\n",
       "      <td>8 Shum Wan Road, Sham Wan, Hong Kong</td>\n",
       "      <td>ECF Van 01</td>\n",
       "    </tr>\n",
       "    <tr>\n",
       "      <th>2</th>\n",
       "      <td>IslandSouth</td>\n",
       "      <td>L’hotel Island South Hong Kong</td>\n",
       "      <td>55 Wong Chuk Hang Road, Aberdeen, Hong Kong</td>\n",
       "      <td>ECF Van 01</td>\n",
       "    </tr>\n",
       "    <tr>\n",
       "      <th>3</th>\n",
       "      <td>GrandHyatt</td>\n",
       "      <td>Grand Hyatt Hong Kong</td>\n",
       "      <td>1 Harbour Road, Hong Kong</td>\n",
       "      <td>ECF Van 01</td>\n",
       "    </tr>\n",
       "    <tr>\n",
       "      <th>4</th>\n",
       "      <td>Novotel</td>\n",
       "      <td>Novotel Century Hong Kong</td>\n",
       "      <td>238 Jaffe Road, Wanchai, Hong Kong</td>\n",
       "      <td>ECF Van 01</td>\n",
       "    </tr>\n",
       "  </tbody>\n",
       "</table>\n",
       "</div>"
      ],
      "text/plain": [
       "            id                         name_en  \\\n",
       "0     Parkview              Hong Kong Parkview   \n",
       "1          AMC            Aberdeen Marina Club   \n",
       "2  IslandSouth  L’hotel Island South Hong Kong   \n",
       "3   GrandHyatt           Grand Hyatt Hong Kong   \n",
       "4      Novotel      Novotel Century Hong Kong    \n",
       "\n",
       "                                      location   programme  \n",
       "0            Tai Tam Reservoir Road, Hong Kong  ECF Van 01  \n",
       "1         8 Shum Wan Road, Sham Wan, Hong Kong  ECF Van 01  \n",
       "2  55 Wong Chuk Hang Road, Aberdeen, Hong Kong  ECF Van 01  \n",
       "3                    1 Harbour Road, Hong Kong  ECF Van 01  \n",
       "4           238 Jaffe Road, Wanchai, Hong Kong  ECF Van 01  "
      ]
     },
     "execution_count": 19,
     "metadata": {},
     "output_type": "execute_result"
    }
   ],
   "source": [
    "df_donor.head()"
   ]
  },
  {
   "cell_type": "code",
   "execution_count": 20,
   "metadata": {
    "collapsed": false
   },
   "outputs": [
    {
     "data": {
      "text/html": [
       "<div>\n",
       "<table border=\"1\" class=\"dataframe\">\n",
       "  <thead>\n",
       "    <tr style=\"text-align: right;\">\n",
       "      <th></th>\n",
       "      <th>kg</th>\n",
       "    </tr>\n",
       "    <tr>\n",
       "      <th>datetime</th>\n",
       "      <th></th>\n",
       "    </tr>\n",
       "  </thead>\n",
       "  <tbody>\n",
       "    <tr>\n",
       "      <th>05-Apr-16</th>\n",
       "      <td>496.5</td>\n",
       "    </tr>\n",
       "    <tr>\n",
       "      <th>06-Apr-16</th>\n",
       "      <td>297.8</td>\n",
       "    </tr>\n",
       "    <tr>\n",
       "      <th>07-Apr-16</th>\n",
       "      <td>383.0</td>\n",
       "    </tr>\n",
       "    <tr>\n",
       "      <th>08-Apr-16</th>\n",
       "      <td>558.8</td>\n",
       "    </tr>\n",
       "    <tr>\n",
       "      <th>11-Apr-16</th>\n",
       "      <td>393.7</td>\n",
       "    </tr>\n",
       "  </tbody>\n",
       "</table>\n",
       "</div>"
      ],
      "text/plain": [
       "              kg\n",
       "datetime        \n",
       "05-Apr-16  496.5\n",
       "06-Apr-16  297.8\n",
       "07-Apr-16  383.0\n",
       "08-Apr-16  558.8\n",
       "11-Apr-16  393.7"
      ]
     },
     "execution_count": 20,
     "metadata": {},
     "output_type": "execute_result"
    }
   ],
   "source": [
    "dfs.groupby(level='datetime').sum().head(5)"
   ]
  },
  {
   "cell_type": "code",
   "execution_count": 21,
   "metadata": {
    "collapsed": false,
    "scrolled": false
   },
   "outputs": [
    {
     "data": {
      "text/html": [
       "<div>\n",
       "<table border=\"1\" class=\"dataframe\">\n",
       "  <thead>\n",
       "    <tr style=\"text-align: right;\">\n",
       "      <th></th>\n",
       "      <th></th>\n",
       "      <th></th>\n",
       "      <th>address</th>\n",
       "      <th>category</th>\n",
       "      <th>kg</th>\n",
       "    </tr>\n",
       "    <tr>\n",
       "      <th>datetime</th>\n",
       "      <th>programme</th>\n",
       "      <th>donor</th>\n",
       "      <th></th>\n",
       "      <th></th>\n",
       "      <th></th>\n",
       "    </tr>\n",
       "  </thead>\n",
       "  <tbody>\n",
       "    <tr>\n",
       "      <th rowspan=\"5\" valign=\"top\">05-Apr-16</th>\n",
       "      <th rowspan=\"5\" valign=\"top\">ECF Van 01</th>\n",
       "      <th>City Garden Hotel</th>\n",
       "      <td>9 City Garden Road, North Point, Hong Kong</td>\n",
       "      <td>Cooked</td>\n",
       "      <td>7.0</td>\n",
       "    </tr>\n",
       "    <tr>\n",
       "      <th>Four Seasons Hotel Hong Kong</th>\n",
       "      <td>8 Finance Street, Central, Hong Kong</td>\n",
       "      <td>Cooked</td>\n",
       "      <td>91.0</td>\n",
       "    </tr>\n",
       "    <tr>\n",
       "      <th>Four Seasons Hotel Hong Kong</th>\n",
       "      <td>8 Finance Street, Central, Hong Kong</td>\n",
       "      <td>Trimmings</td>\n",
       "      <td>24.0</td>\n",
       "    </tr>\n",
       "    <tr>\n",
       "      <th>Grand Hyatt Hong Kong</th>\n",
       "      <td>1 Harbour Road, Hong Kong</td>\n",
       "      <td>Cooked</td>\n",
       "      <td>6.0</td>\n",
       "    </tr>\n",
       "    <tr>\n",
       "      <th>Hotel LKF by Rhombus</th>\n",
       "      <td>33 Wyndham Street, Lan Kwai Fong, Central, Hon...</td>\n",
       "      <td>Cooked</td>\n",
       "      <td>4.0</td>\n",
       "    </tr>\n",
       "  </tbody>\n",
       "</table>\n",
       "</div>"
      ],
      "text/plain": [
       "                                                                                             address  \\\n",
       "datetime  programme  donor                                                                             \n",
       "05-Apr-16 ECF Van 01 City Garden Hotel                    9 City Garden Road, North Point, Hong Kong   \n",
       "                     Four Seasons Hotel Hong Kong               8 Finance Street, Central, Hong Kong   \n",
       "                     Four Seasons Hotel Hong Kong               8 Finance Street, Central, Hong Kong   \n",
       "                     Grand Hyatt Hong Kong                                 1 Harbour Road, Hong Kong   \n",
       "                     Hotel LKF by Rhombus          33 Wyndham Street, Lan Kwai Fong, Central, Hon...   \n",
       "\n",
       "                                                    category    kg  \n",
       "datetime  programme  donor                                          \n",
       "05-Apr-16 ECF Van 01 City Garden Hotel                Cooked   7.0  \n",
       "                     Four Seasons Hotel Hong Kong     Cooked  91.0  \n",
       "                     Four Seasons Hotel Hong Kong  Trimmings  24.0  \n",
       "                     Grand Hyatt Hong Kong            Cooked   6.0  \n",
       "                     Hotel LKF by Rhombus             Cooked   4.0  "
      ]
     },
     "execution_count": 21,
     "metadata": {},
     "output_type": "execute_result"
    }
   ],
   "source": [
    "df_merge = dfs.reset_index().merge(df_donor,how='left',left_on=['donor','programme'],right_on=['id','programme'])\n",
    "cols = ['datetime','programme','name_en','location','category','kg']\n",
    "dfx = df_merge[cols]\n",
    "dfx.columns = ['datetime','programme','donor','address','category','kg']\n",
    "dfx = dfx.sort_values(by=SORT_KEY)\n",
    "dfx.set_index(SORT_KEY, inplace=True)\n",
    "dfx.head(5)"
   ]
  },
  {
   "cell_type": "markdown",
   "metadata": {},
   "source": [
    "### Missing Values"
   ]
  },
  {
   "cell_type": "code",
   "execution_count": 22,
   "metadata": {
    "collapsed": false
   },
   "outputs": [
    {
     "data": {
      "text/plain": [
       "7727.5"
      ]
     },
     "execution_count": 22,
     "metadata": {},
     "output_type": "execute_result"
    }
   ],
   "source": [
    "# Everything still there? Original\n",
    "dfs['kg'].sum()"
   ]
  },
  {
   "cell_type": "code",
   "execution_count": 23,
   "metadata": {
    "collapsed": false
   },
   "outputs": [
    {
     "data": {
      "text/plain": [
       "7727.5"
      ]
     },
     "execution_count": 23,
     "metadata": {},
     "output_type": "execute_result"
    }
   ],
   "source": [
    "# Everything still there? New\n",
    "dfx['kg'].sum()"
   ]
  },
  {
   "cell_type": "code",
   "execution_count": 24,
   "metadata": {
    "collapsed": false
   },
   "outputs": [
    {
     "data": {
      "text/plain": [
       "657"
      ]
     },
     "execution_count": 24,
     "metadata": {},
     "output_type": "execute_result"
    }
   ],
   "source": [
    "# Total Rows - Long Format - Original\n",
    "dfs.reset_index().datetime.count()"
   ]
  },
  {
   "cell_type": "code",
   "execution_count": 25,
   "metadata": {
    "collapsed": false
   },
   "outputs": [
    {
     "data": {
      "text/plain": [
       "657"
      ]
     },
     "execution_count": 25,
     "metadata": {},
     "output_type": "execute_result"
    }
   ],
   "source": [
    "# Total Rows - Long Format - New\n",
    "dfx.reset_index().datetime.count()"
   ]
  },
  {
   "cell_type": "code",
   "execution_count": 26,
   "metadata": {
    "collapsed": false,
    "scrolled": false
   },
   "outputs": [
    {
     "data": {
      "text/html": [
       "<div>\n",
       "<table border=\"1\" class=\"dataframe\">\n",
       "  <thead>\n",
       "    <tr style=\"text-align: right;\">\n",
       "      <th></th>\n",
       "      <th></th>\n",
       "      <th></th>\n",
       "      <th>address</th>\n",
       "      <th>category</th>\n",
       "      <th>kg</th>\n",
       "    </tr>\n",
       "    <tr>\n",
       "      <th>datetime</th>\n",
       "      <th>programme</th>\n",
       "      <th>donor</th>\n",
       "      <th></th>\n",
       "      <th></th>\n",
       "      <th></th>\n",
       "    </tr>\n",
       "  </thead>\n",
       "  <tbody>\n",
       "  </tbody>\n",
       "</table>\n",
       "</div>"
      ],
      "text/plain": [
       "Empty DataFrame\n",
       "Columns: [address, category, kg]\n",
       "Index: []"
      ]
     },
     "execution_count": 26,
     "metadata": {},
     "output_type": "execute_result"
    }
   ],
   "source": [
    "dfx[dfx.isnull().any(axis=1)]"
   ]
  },
  {
   "cell_type": "code",
   "execution_count": 27,
   "metadata": {
    "collapsed": false
   },
   "outputs": [],
   "source": [
    "# df_donor[df_donor.id == 'Regalairport']"
   ]
  },
  {
   "cell_type": "code",
   "execution_count": 28,
   "metadata": {
    "collapsed": false
   },
   "outputs": [],
   "source": [
    "# dfs[dfs.donor == 'Regalairport']"
   ]
  },
  {
   "cell_type": "code",
   "execution_count": 29,
   "metadata": {
    "collapsed": false
   },
   "outputs": [],
   "source": [
    "# dfs.donor.value_counts()"
   ]
  },
  {
   "cell_type": "code",
   "execution_count": 30,
   "metadata": {
    "collapsed": false
   },
   "outputs": [],
   "source": [
    "# dfs[(dfs.programme == 'ECF Van 03') & (dfs.donor == 'Regalairport')]"
   ]
  },
  {
   "cell_type": "code",
   "execution_count": 31,
   "metadata": {
    "collapsed": false
   },
   "outputs": [],
   "source": [
    "# df[df.donor == 'Regalairport']"
   ]
  },
  {
   "cell_type": "markdown",
   "metadata": {},
   "source": [
    "### Total"
   ]
  },
  {
   "cell_type": "code",
   "execution_count": 32,
   "metadata": {
    "collapsed": false
   },
   "outputs": [
    {
     "data": {
      "text/html": [
       "<div>\n",
       "<table border=\"1\" class=\"dataframe\">\n",
       "  <thead>\n",
       "    <tr style=\"text-align: right;\">\n",
       "      <th></th>\n",
       "      <th></th>\n",
       "      <th></th>\n",
       "      <th>address</th>\n",
       "      <th>category</th>\n",
       "      <th>kg</th>\n",
       "    </tr>\n",
       "    <tr>\n",
       "      <th>datetime</th>\n",
       "      <th>programme</th>\n",
       "      <th>donor</th>\n",
       "      <th></th>\n",
       "      <th></th>\n",
       "      <th></th>\n",
       "    </tr>\n",
       "  </thead>\n",
       "  <tbody>\n",
       "    <tr>\n",
       "      <th rowspan=\"5\" valign=\"top\">05-Apr-16</th>\n",
       "      <th rowspan=\"5\" valign=\"top\">ECF Van 01</th>\n",
       "      <th>City Garden Hotel</th>\n",
       "      <td>9 City Garden Road, North Point, Hong Kong</td>\n",
       "      <td>Cooked</td>\n",
       "      <td>7.0</td>\n",
       "    </tr>\n",
       "    <tr>\n",
       "      <th>Four Seasons Hotel Hong Kong</th>\n",
       "      <td>8 Finance Street, Central, Hong Kong</td>\n",
       "      <td>Cooked</td>\n",
       "      <td>91.0</td>\n",
       "    </tr>\n",
       "    <tr>\n",
       "      <th>Four Seasons Hotel Hong Kong</th>\n",
       "      <td>8 Finance Street, Central, Hong Kong</td>\n",
       "      <td>Trimmings</td>\n",
       "      <td>24.0</td>\n",
       "    </tr>\n",
       "    <tr>\n",
       "      <th>Grand Hyatt Hong Kong</th>\n",
       "      <td>1 Harbour Road, Hong Kong</td>\n",
       "      <td>Cooked</td>\n",
       "      <td>6.0</td>\n",
       "    </tr>\n",
       "    <tr>\n",
       "      <th>Hotel LKF by Rhombus</th>\n",
       "      <td>33 Wyndham Street, Lan Kwai Fong, Central, Hon...</td>\n",
       "      <td>Cooked</td>\n",
       "      <td>4.0</td>\n",
       "    </tr>\n",
       "  </tbody>\n",
       "</table>\n",
       "</div>"
      ],
      "text/plain": [
       "                                                                                             address  \\\n",
       "datetime  programme  donor                                                                             \n",
       "05-Apr-16 ECF Van 01 City Garden Hotel                    9 City Garden Road, North Point, Hong Kong   \n",
       "                     Four Seasons Hotel Hong Kong               8 Finance Street, Central, Hong Kong   \n",
       "                     Four Seasons Hotel Hong Kong               8 Finance Street, Central, Hong Kong   \n",
       "                     Grand Hyatt Hong Kong                                 1 Harbour Road, Hong Kong   \n",
       "                     Hotel LKF by Rhombus          33 Wyndham Street, Lan Kwai Fong, Central, Hon...   \n",
       "\n",
       "                                                    category    kg  \n",
       "datetime  programme  donor                                          \n",
       "05-Apr-16 ECF Van 01 City Garden Hotel                Cooked   7.0  \n",
       "                     Four Seasons Hotel Hong Kong     Cooked  91.0  \n",
       "                     Four Seasons Hotel Hong Kong  Trimmings  24.0  \n",
       "                     Grand Hyatt Hong Kong            Cooked   6.0  \n",
       "                     Hotel LKF by Rhombus             Cooked   4.0  "
      ]
     },
     "execution_count": 32,
     "metadata": {},
     "output_type": "execute_result"
    }
   ],
   "source": [
    "dfx.head(5)"
   ]
  },
  {
   "cell_type": "code",
   "execution_count": 33,
   "metadata": {
    "collapsed": false
   },
   "outputs": [],
   "source": [
    "import xlsxwriter"
   ]
  },
  {
   "cell_type": "code",
   "execution_count": 34,
   "metadata": {
    "collapsed": false
   },
   "outputs": [],
   "source": [
    "writer = pd.ExcelWriter('food.xlsx', engine='xlsxwriter')\n",
    "pd.DataFrame(['placeholder']).to_excel(writer, 'food', startrow=0, index=False, header=False, )\n",
    "dfx.to_excel(writer, 'food', startrow=1)\n",
    "workbook = writer.book\n",
    "worksheet = writer.sheets['food']\n",
    "worksheet.merge_range('A1:F1', '2016 ties (Cookeddwqdqdwdwq  Food) - January')"
   ]
  },
  {
   "cell_type": "code",
   "execution_count": 35,
   "metadata": {
    "collapsed": true
   },
   "outputs": [],
   "source": [
    "offset = 2\n",
    "totals = dfs.groupby(level='datetime').sum()\n",
    "rowspan = dfs.ix[:,-1:].groupby(level='datetime').count()\n",
    "totals['span'] = rowspan\n",
    "totals['row_end'] = (totals['span'].cumsum() + offset).astype('int')\n",
    "# totals['row_end'] = totals['row_end'] - range(1,len(totals)+1)\n",
    "totals['row_start'] = (totals['row_end'].shift().fillna(offset).astype('int') + 1).astype('int')"
   ]
  },
  {
   "cell_type": "code",
   "execution_count": 36,
   "metadata": {
    "collapsed": false
   },
   "outputs": [
    {
     "data": {
      "text/plain": [
       "datetime\n",
       "05-Apr-16     31\n",
       "06-Apr-16     61\n",
       "07-Apr-16     96\n",
       "08-Apr-16    130\n",
       "11-Apr-16    164\n",
       "Name: row_end, dtype: int64"
      ]
     },
     "execution_count": 36,
     "metadata": {},
     "output_type": "execute_result"
    }
   ],
   "source": [
    "totals['row_end'].head(5)"
   ]
  },
  {
   "cell_type": "code",
   "execution_count": 37,
   "metadata": {
    "collapsed": false
   },
   "outputs": [
    {
     "data": {
      "text/plain": [
       "datetime\n",
       "05-Apr-16      3\n",
       "06-Apr-16     32\n",
       "07-Apr-16     62\n",
       "08-Apr-16     97\n",
       "11-Apr-16    131\n",
       "Name: row_start, dtype: int64"
      ]
     },
     "execution_count": 37,
     "metadata": {},
     "output_type": "execute_result"
    }
   ],
   "source": [
    "totals['row_start'].head(5)"
   ]
  },
  {
   "cell_type": "code",
   "execution_count": 38,
   "metadata": {
    "collapsed": true
   },
   "outputs": [],
   "source": [
    "format = workbook.add_format()\n",
    "format.set_align('center')\n",
    "format.set_align('bottom')"
   ]
  },
  {
   "cell_type": "code",
   "execution_count": 39,
   "metadata": {
    "collapsed": false
   },
   "outputs": [
    {
     "name": "stdout",
     "output_type": "stream",
     "text": [
      "05-Apr-16 : 3 31 496.5\n",
      "06-Apr-16 : 32 61 297.8\n",
      "07-Apr-16 : 62 96 383.0\n",
      "08-Apr-16 : 97 130 558.8\n",
      "11-Apr-16 : 131 164 393.7\n",
      "12-Apr-16 : 165 202 424.9\n",
      "13-Apr-16 : 203 238 461.0\n",
      "14-Apr-16 : 239 271 318.9\n",
      "15-Apr-16 : 272 309 393.0\n",
      "18-Apr-16 : 310 346 432.8\n",
      "19-Apr-16 : 347 380 389.5\n",
      "20-Apr-16 : 381 416 383.8\n",
      "21-Apr-16 : 417 448 343.7\n",
      "22-Apr-16 : 449 485 441.7\n",
      "25-Apr-16 : 486 523 474.2\n",
      "26-Apr-16 : 524 561 432.2\n",
      "27-Apr-16 : 562 597 400.9\n",
      "28-Apr-16 : 598 624 319.4\n",
      "29-Apr-16 : 625 659 381.7\n"
     ]
    }
   ],
   "source": [
    "for i, r in totals.iterrows():\n",
    "    print i,':', int(r.row_start), int(r.row_end), r.kg\n",
    "    try:\n",
    "        worksheet.merge_range(\"G{row_start}:G{row_end}\".format(**r), r.kg, format)\n",
    "    except UserWarning as e:\n",
    "        print e\n",
    "        worksheet.write_number(\"G{row_start}\".format(**r), r.kg, format)\n",
    "        "
   ]
  },
  {
   "cell_type": "code",
   "execution_count": 40,
   "metadata": {
    "collapsed": false
   },
   "outputs": [],
   "source": [
    "col_widths = [15,15,45,60,10,5,10]\n",
    "\n",
    "format = workbook.add_format()\n",
    "format.set_align('center')\n",
    "format.set_align('vcenter')\n",
    "format.set_font('Courier New')\n",
    "\n",
    "for col, width in enumerate(col_widths):\n",
    "    worksheet.set_column(col, col, width, cell_format=format) "
   ]
  },
  {
   "cell_type": "code",
   "execution_count": 41,
   "metadata": {
    "collapsed": false
   },
   "outputs": [],
   "source": [
    "writer.save()"
   ]
  }
 ],
 "metadata": {
  "kernelspec": {
   "display_name": "Python 2",
   "language": "python",
   "name": "python2"
  },
  "language_info": {
   "codemirror_mode": {
    "name": "ipython",
    "version": 2
   },
   "file_extension": ".py",
   "mimetype": "text/x-python",
   "name": "python",
   "nbconvert_exporter": "python",
   "pygments_lexer": "ipython2",
   "version": "2.7.11"
  }
 },
 "nbformat": 4,
 "nbformat_minor": 0
}
